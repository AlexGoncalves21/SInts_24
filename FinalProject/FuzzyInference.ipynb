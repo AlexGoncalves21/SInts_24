{
 "cells": [
  {
   "cell_type": "markdown",
   "metadata": {},
   "source": [
    "## Importing Data and Libraries"
   ]
  },
  {
   "cell_type": "code",
   "execution_count": 30,
   "metadata": {},
   "outputs": [],
   "source": [
    "import pandas as pd\n",
    "import numpy as np\n",
    "import matplotlib.pyplot as plt\n",
    "from pyfume.Clustering import Clusterer\n",
    "from pyfume.EstimateAntecendentSet import AntecedentEstimator\n",
    "from pyfume.EstimateConsequentParameters import ConsequentEstimator\n",
    "from pyfume.SimpfulModelBuilder import SugenoFISBuilder\n",
    "from pyfume.Tester import SugenoFISTester\n",
    "from sklearn.metrics import accuracy_score, recall_score, precision_score, f1_score, cohen_kappa_score\n",
    "from numpy import clip, column_stack, argmax\n",
    "from scipy.spatial import distance\n",
    "from scipy.spatial.distance import cdist\n",
    "from sklearn.metrics import silhouette_score\n",
    "import warnings\n",
    "\n",
    "warnings.simplefilter(action='ignore', category=FutureWarning)"
   ]
  },
  {
   "cell_type": "code",
   "execution_count": 31,
   "metadata": {},
   "outputs": [
    {
     "data": {
      "text/plain": [
       "((241, 12), (61, 12), (241,), (61,))"
      ]
     },
     "execution_count": 31,
     "metadata": {},
     "output_type": "execute_result"
    }
   ],
   "source": [
    "Train = pd.read_csv('dataTrain.csv')\n",
    "Test = pd.read_csv('dataTest.csv')\n",
    "\n",
    "stats = pd.read_csv('stats.csv')\n",
    "stats = stats.iloc[:,1:]\n",
    "\n",
    "X_train = Train.drop('output', axis=1)\n",
    "y_train = Train['output']\n",
    "\n",
    "X_test = Test.drop('output', axis=1)\n",
    "y_test = Test['output']\n",
    "\n",
    "maxs = X_train.max().tolist()\n",
    "mins = X_train.min().tolist()\n",
    "\n",
    "var_names = X_train.columns.to_list()\n",
    "X_train.shape, X_test.shape, y_train.shape, y_test.shape"
   ]
  },
  {
   "cell_type": "code",
   "execution_count": 32,
   "metadata": {},
   "outputs": [
    {
     "data": {
      "text/html": [
       "<div>\n",
       "<style scoped>\n",
       "    .dataframe tbody tr th:only-of-type {\n",
       "        vertical-align: middle;\n",
       "    }\n",
       "\n",
       "    .dataframe tbody tr th {\n",
       "        vertical-align: top;\n",
       "    }\n",
       "\n",
       "    .dataframe thead th {\n",
       "        text-align: right;\n",
       "    }\n",
       "</style>\n",
       "<table border=\"1\" class=\"dataframe\">\n",
       "  <thead>\n",
       "    <tr style=\"text-align: right;\">\n",
       "      <th></th>\n",
       "      <th>Feature</th>\n",
       "      <th>Mean</th>\n",
       "      <th>Variance</th>\n",
       "    </tr>\n",
       "  </thead>\n",
       "  <tbody>\n",
       "    <tr>\n",
       "      <th>0</th>\n",
       "      <td>age</td>\n",
       "      <td>54.373444</td>\n",
       "      <td>83.926930</td>\n",
       "    </tr>\n",
       "    <tr>\n",
       "      <th>1</th>\n",
       "      <td>sex</td>\n",
       "      <td>0.651452</td>\n",
       "      <td>0.227062</td>\n",
       "    </tr>\n",
       "    <tr>\n",
       "      <th>2</th>\n",
       "      <td>cp</td>\n",
       "      <td>1.000000</td>\n",
       "      <td>1.070539</td>\n",
       "    </tr>\n",
       "    <tr>\n",
       "      <th>3</th>\n",
       "      <td>trtbps</td>\n",
       "      <td>130.784232</td>\n",
       "      <td>275.936847</td>\n",
       "    </tr>\n",
       "    <tr>\n",
       "      <th>4</th>\n",
       "      <td>chol</td>\n",
       "      <td>245.033195</td>\n",
       "      <td>2254.206367</td>\n",
       "    </tr>\n",
       "    <tr>\n",
       "      <th>5</th>\n",
       "      <td>fbs</td>\n",
       "      <td>0.132780</td>\n",
       "      <td>0.115150</td>\n",
       "    </tr>\n",
       "    <tr>\n",
       "      <th>6</th>\n",
       "      <td>restecg</td>\n",
       "      <td>0.526971</td>\n",
       "      <td>0.282468</td>\n",
       "    </tr>\n",
       "    <tr>\n",
       "      <th>7</th>\n",
       "      <td>thalachh</td>\n",
       "      <td>149.759336</td>\n",
       "      <td>495.798927</td>\n",
       "    </tr>\n",
       "    <tr>\n",
       "      <th>8</th>\n",
       "      <td>exng</td>\n",
       "      <td>0.302905</td>\n",
       "      <td>0.211153</td>\n",
       "    </tr>\n",
       "    <tr>\n",
       "      <th>9</th>\n",
       "      <td>oldpeak</td>\n",
       "      <td>0.978423</td>\n",
       "      <td>1.099368</td>\n",
       "    </tr>\n",
       "    <tr>\n",
       "      <th>10</th>\n",
       "      <td>slp</td>\n",
       "      <td>1.414938</td>\n",
       "      <td>0.367246</td>\n",
       "    </tr>\n",
       "    <tr>\n",
       "      <th>11</th>\n",
       "      <td>caa</td>\n",
       "      <td>0.672199</td>\n",
       "      <td>0.967235</td>\n",
       "    </tr>\n",
       "    <tr>\n",
       "      <th>12</th>\n",
       "      <td>thall</td>\n",
       "      <td>2.323651</td>\n",
       "      <td>0.351681</td>\n",
       "    </tr>\n",
       "  </tbody>\n",
       "</table>\n",
       "</div>"
      ],
      "text/plain": [
       "     Feature        Mean     Variance\n",
       "0        age   54.373444    83.926930\n",
       "1        sex    0.651452     0.227062\n",
       "2         cp    1.000000     1.070539\n",
       "3     trtbps  130.784232   275.936847\n",
       "4       chol  245.033195  2254.206367\n",
       "5        fbs    0.132780     0.115150\n",
       "6    restecg    0.526971     0.282468\n",
       "7   thalachh  149.759336   495.798927\n",
       "8       exng    0.302905     0.211153\n",
       "9    oldpeak    0.978423     1.099368\n",
       "10       slp    1.414938     0.367246\n",
       "11       caa    0.672199     0.967235\n",
       "12     thall    2.323651     0.351681"
      ]
     },
     "execution_count": 32,
     "metadata": {},
     "output_type": "execute_result"
    }
   ],
   "source": [
    "stats"
   ]
  },
  {
   "cell_type": "code",
   "execution_count": 33,
   "metadata": {},
   "outputs": [],
   "source": [
    "savecols = X_train.columns"
   ]
  },
  {
   "cell_type": "code",
   "execution_count": 34,
   "metadata": {},
   "outputs": [],
   "source": [
    "X_train = X_train.to_numpy()\n",
    "X_test = X_test.to_numpy()\n",
    "y_train = y_train.array\n",
    "y_test = y_test.array"
   ]
  },
  {
   "cell_type": "markdown",
   "metadata": {},
   "source": [
    "## Building the model"
   ]
  },
  {
   "cell_type": "markdown",
   "metadata": {},
   "source": [
    "### Clustering"
   ]
  },
  {
   "cell_type": "markdown",
   "metadata": {},
   "source": [
    "In this section, we will try out different numbers of clusters in order to minimize the separation between clusters. "
   ]
  },
  {
   "cell_type": "markdown",
   "metadata": {},
   "source": [
    "#### Functions"
   ]
  },
  {
   "cell_type": "code",
   "execution_count": 35,
   "metadata": {},
   "outputs": [],
   "source": [
    "def SeparationMetric(X_train, clust_centers, part_matrix):\n",
    "    metric = 0\n",
    "    for clust in range(clust_centers.shape[0]):\n",
    "        for point in range(X_train.shape[0]):\n",
    "            metric += part_matrix[point, clust] * distance.euclidean(X_train[point], clust_centers[clust])\n",
    "    return metric\n",
    "\n",
    "#def SeparationMetric(X_train, clust_centers, part_matrix):\n",
    "#    silhouette_score(X_train, )\n",
    "#    return metric"
   ]
  },
  {
   "cell_type": "code",
   "execution_count": 36,
   "metadata": {},
   "outputs": [],
   "source": [
    "def Cluster(nclusters):\n",
    "    clust_centers, part_matrix = fcm(X_train, n_clusters = nclusters)\n",
    "    return clust_centers, part_matrix"
   ]
  },
  {
   "cell_type": "code",
   "execution_count": 37,
   "metadata": {},
   "outputs": [],
   "source": [
    "def gaussian(x, mu, sig, mux, sigx):\n",
    "    mu = mux + sigx * mu\n",
    "    sig = sig * sigx\n",
    "    #return (1.0 / (np.sqrt(2.0 * np.pi) * sig) * np.exp(-np.power((x - mu) / sig, 2.0) / 2))\n",
    "    return (np.exp(-np.power((x - mu) / sig, 2.0) / 2))"
   ]
  },
  {
   "cell_type": "code",
   "execution_count": 38,
   "metadata": {},
   "outputs": [],
   "source": [
    "def Revert(x, stats):\n",
    "    for i in range(x.shape[0]):\n",
    "        data = stats[stats['Feature'] == savecols[i]]\n",
    "        x[i] = x[i] * (data.iloc[0,2] ** 0.5) + data.iloc[0,1]\n",
    "    return x"
   ]
  },
  {
   "cell_type": "markdown",
   "metadata": {},
   "source": [
    "#### Code"
   ]
  },
  {
   "cell_type": "code",
   "execution_count": 39,
   "metadata": {},
   "outputs": [
    {
     "data": {
      "text/plain": [
       "'\"\\nfor i in range(max_clusters):\\n    i += 1\\n    #clust_centers, part_matrix = Cluster(i)\\n    cl = Clusterer(x_train=X_train, y_train=y_train, nr_clus=i)\\n    clust_centers, part_matrix, _ = cl.cluster(method=selected_method)\\n    clust_centers = clust_centers[:,:-1]\\n    \\n    metric = SeparationMetric(X_train, clust_centers, part_matrix)\\n    if metric < min_metric:\\n        min_metric = metric\\n        best_number = i\\n\\nprint(f\\'Best number of clusters: {best_number}\\')'"
      ]
     },
     "execution_count": 39,
     "metadata": {},
     "output_type": "execute_result"
    }
   ],
   "source": [
    "max_clusters = 10\n",
    "min_metric = np.inf\n",
    "selected_method = 'fst-pso' #'gk'\n",
    "\"\"\"\"\n",
    "for i in range(max_clusters):\n",
    "    i += 1\n",
    "    #clust_centers, part_matrix = Cluster(i)\n",
    "    cl = Clusterer(x_train=X_train, y_train=y_train, nr_clus=i)\n",
    "    clust_centers, part_matrix, _ = cl.cluster(method=selected_method)\n",
    "    clust_centers = clust_centers[:,:-1]\n",
    "    \n",
    "    metric = SeparationMetric(X_train, clust_centers, part_matrix)\n",
    "    if metric < min_metric:\n",
    "        min_metric = metric\n",
    "        best_number = i\n",
    "\n",
    "print(f'Best number of clusters: {best_number}')\"\"\""
   ]
  },
  {
   "cell_type": "code",
   "execution_count": 40,
   "metadata": {},
   "outputs": [
    {
     "name": "stdout",
     "output_type": "stream",
     "text": [
      "Fuzzy Self-Tuning PSO - v1.8.1\n",
      " * Max distance: 18.910044\n",
      " * Search space boundaries set to: [[-1.3671311638052943, 0.7314587118448709], [-1.3671311638052943, 0.7314587118448709], [-0.9664929007146316, 1.9329858014292636], [-0.9664929007146316, 1.9329858014292636], [-2.2144039565795786, 2.3607819282158617], [-2.2144039565795786, 2.3607819282158617], [-2.401786816576483, 2.568885877536174], [-2.401786816576483, 2.568885877536174], [-0.3912927904356147, 2.555631037532609], [-0.3912927904356147, 2.555631037532609], [-0.9915220285980402, 2.771577324033892], [-0.9915220285980402, 2.771577324033892], [-2.5715413778467515, 2.3461506537983703], [-2.5715413778467515, 2.3461506537983703], [-0.6591841999955774, 1.5170266520446165], [-0.6591841999955774, 1.5170266520446165], [-0.9331578631464132, 2.881787769055208], [-0.9331578631464132, 2.881787769055208], [-2.334849818633804, 0.965436435270869], [-2.334849818633804, 0.965436435270869], [-0.6834895479753919, 3.3836951696065687], [-0.6834895479753919, 3.3836951696065687], [-3.9182880820805015, 1.1405017096055745], [-3.9182880820805015, 1.1405017096055745], [0.0, 1.0], [0.0, 1.0]]\n",
      " * Max velocities set to: [2.0985898756501653, 2.0985898756501653, 2.8994787021438952, 2.8994787021438952, 4.57518588479544, 4.57518588479544, 4.970672694112657, 4.970672694112657, 2.9469238279682237, 2.9469238279682237, 3.763099352631932, 3.763099352631932, 4.917692031645122, 4.917692031645122, 2.176210852040194, 2.176210852040194, 3.8149456322016215, 3.8149456322016215, 3.300286253904673, 3.300286253904673, 4.06718471758196, 4.06718471758196, 5.058789791686076, 5.058789791686076, 1.0, 1.0]\n",
      " * Number of particles automatically set to 20\n",
      " * Fuzzy rules for minimum velocity cap DISABLED\n",
      " * 20 particles created.\n",
      " * FST-PSO will now assess the local and global best particles.\n",
      " * Estimated worst fitness: 13845.607\n",
      " * New best particle in the swarm is #0 with fitness 8001.977834 (it: 0).\n",
      " * New best particle in the swarm is #8 with fitness 6803.069930 (it: 0).\n",
      "\n",
      " *** All prepared, launching optimization ***\n",
      " * New best particle in the swarm is #0 with fitness 5628.117288 (it: 0).\n",
      " * New best particle in the swarm is #11 with fitness 5612.755181 (it: 0).\n",
      " * New best particle in the swarm is #1 with fitness 4828.684655 (it: 1).\n",
      " * New best particle in the swarm is #15 with fitness 4825.565813 (it: 3).\n",
      " * New best particle in the swarm is #10 with fitness 4689.858394 (it: 4).\n",
      " * New best particle in the swarm is #14 with fitness 4429.047556 (it: 4).\n",
      " * New best particle in the swarm is #0 with fitness 4394.629408 (it: 6).\n",
      " * New best particle in the swarm is #7 with fitness 4047.239394 (it: 6).\n",
      " * New best particle in the swarm is #18 with fitness 3843.319315 (it: 10).\n",
      " * 11th iteration out of 100 completed. [###                           ]\n",
      " * New best particle in the swarm is #15 with fitness 3816.346248 (it: 11).\n",
      " * 12th iteration out of 100 completed. [###                           ]\n",
      " * New best particle in the swarm is #11 with fitness 3764.171587 (it: 13).\n",
      " * 14th iteration out of 100 completed. [####                          ]\n",
      " * New best particle in the swarm is #1 with fitness 3745.308456 (it: 15).\n",
      " * 16th iteration out of 100 completed. [####                          ]\n",
      " * New best particle in the swarm is #7 with fitness 3678.975454 (it: 16).\n",
      " * New best particle in the swarm is #0 with fitness 3675.042548 (it: 17).\n",
      " * New best particle in the swarm is #4 with fitness 3666.319865 (it: 19).\n",
      " * New best particle in the swarm is #7 with fitness 3625.639838 (it: 19).\n",
      " * 20th iteration out of 100 completed. [######                        ]\n",
      " * New best particle in the swarm is #1 with fitness 3583.925351 (it: 20).\n",
      " * New best particle in the swarm is #4 with fitness 3580.459023 (it: 21).\n",
      " * New best particle in the swarm is #4 with fitness 3540.507284 (it: 23).\n",
      " * 25th iteration out of 100 completed. [#######                       ]\n",
      " * New best particle in the swarm is #2 with fitness 3502.774954 (it: 25).\n",
      " * New best particle in the swarm is #4 with fitness 3472.961516 (it: 26).\n",
      " * New best particle in the swarm is #3 with fitness 3450.987363 (it: 27).\n",
      " * New best particle in the swarm is #15 with fitness 3399.678352 (it: 27).\n",
      " * New best particle in the swarm is #19 with fitness 3356.068741 (it: 30).\n",
      " * New best particle in the swarm is #12 with fitness 3287.359595 (it: 31).\n",
      " * 33th iteration out of 100 completed. [#########                     ]\n",
      " * New best particle in the swarm is #17 with fitness 3263.352842 (it: 34).\n",
      " * New best particle in the swarm is #19 with fitness 3245.775675 (it: 36).\n",
      " * New best particle in the swarm is #10 with fitness 3232.062978 (it: 39).\n",
      " * New best particle in the swarm is #19 with fitness 3220.089488 (it: 39).\n",
      " * New best particle in the swarm is #13 with fitness 3180.003152 (it: 40).\n",
      " * New best particle in the swarm is #0 with fitness 3170.234767 (it: 41).\n",
      " * New best particle in the swarm is #0 with fitness 3168.439592 (it: 48).\n",
      " * New best particle in the swarm is #8 with fitness 3156.844510 (it: 48).\n",
      " * 50th iteration out of 100 completed. [###############               ]\n",
      " * New best particle in the swarm is #0 with fitness 3137.683689 (it: 50).\n",
      " * New best particle in the swarm is #0 with fitness 3130.201607 (it: 52).\n",
      " * New best particle in the swarm is #12 with fitness 3128.178361 (it: 53).\n",
      " * New best particle in the swarm is #0 with fitness 3126.652327 (it: 55).\n",
      " * New best particle in the swarm is #12 with fitness 3116.871095 (it: 55).\n",
      " * New best particle in the swarm is #12 with fitness 3116.807303 (it: 57).\n",
      " * New best particle in the swarm is #12 with fitness 3111.461208 (it: 60).\n",
      " * New best particle in the swarm is #18 with fitness 3108.069014 (it: 62).\n",
      " * New best particle in the swarm is #18 with fitness 3107.805653 (it: 65).\n",
      " * New best particle in the swarm is #18 with fitness 3106.799500 (it: 66).\n",
      " * New best particle in the swarm is #4 with fitness 3096.933880 (it: 68).\n",
      " * New best particle in the swarm is #16 with fitness 3088.428884 (it: 70).\n",
      " * New best particle in the swarm is #10 with fitness 3087.366835 (it: 71).\n",
      " * New best particle in the swarm is #10 with fitness 3086.965879 (it: 73).\n",
      " * New best particle in the swarm is #18 with fitness 3074.542763 (it: 73).\n",
      " * New best particle in the swarm is #18 with fitness 3073.752355 (it: 78).\n",
      " * New best particle in the swarm is #7 with fitness 3073.485184 (it: 80).\n",
      " * New best particle in the swarm is #11 with fitness 3069.883532 (it: 85).\n",
      " * New best particle in the swarm is #11 with fitness 3054.749568 (it: 87).\n",
      " * New best particle in the swarm is #18 with fitness 3052.440181 (it: 90).\n",
      " * New best particle in the swarm is #1 with fitness 3039.539630 (it: 92).\n",
      " * New best particle in the swarm is #19 with fitness 3034.748276 (it: 97).\n",
      " * 100th iteration out of 100 completed. [##############################]\n"
     ]
    },
    {
     "data": {
      "text/plain": [
       "((2, 12), (241, 2))"
      ]
     },
     "execution_count": 40,
     "metadata": {},
     "output_type": "execute_result"
    }
   ],
   "source": [
    "best_number = 2   # TIRAR\n",
    "\n",
    "#clust_centers, part_matrix = Cluster(best_number)\n",
    "cl = Clusterer(x_train=X_train, y_train=y_train, nr_clus = best_number)\n",
    "clust_centers, part_matrix, _ = cl.cluster(method=selected_method, m = 0.99)\n",
    "clust_centers = clust_centers[:,:-1]\n",
    "clust_centers.shape, part_matrix.shape"
   ]
  },
  {
   "cell_type": "code",
   "execution_count": 41,
   "metadata": {},
   "outputs": [
    {
     "data": {
      "text/html": [
       "<div>\n",
       "<style scoped>\n",
       "    .dataframe tbody tr th:only-of-type {\n",
       "        vertical-align: middle;\n",
       "    }\n",
       "\n",
       "    .dataframe tbody tr th {\n",
       "        vertical-align: top;\n",
       "    }\n",
       "\n",
       "    .dataframe thead th {\n",
       "        text-align: right;\n",
       "    }\n",
       "</style>\n",
       "<table border=\"1\" class=\"dataframe\">\n",
       "  <thead>\n",
       "    <tr style=\"text-align: right;\">\n",
       "      <th></th>\n",
       "      <th>sex</th>\n",
       "      <th>cp</th>\n",
       "      <th>trtbps</th>\n",
       "      <th>chol</th>\n",
       "      <th>fbs</th>\n",
       "      <th>restecg</th>\n",
       "      <th>thalachh</th>\n",
       "      <th>exng</th>\n",
       "      <th>oldpeak</th>\n",
       "      <th>slp</th>\n",
       "      <th>caa</th>\n",
       "      <th>thall</th>\n",
       "    </tr>\n",
       "  </thead>\n",
       "  <tbody>\n",
       "    <tr>\n",
       "      <th>0</th>\n",
       "      <td>0.067792</td>\n",
       "      <td>0.003495</td>\n",
       "      <td>-0.066322</td>\n",
       "      <td>0.034453</td>\n",
       "      <td>0.020034</td>\n",
       "      <td>0.088950</td>\n",
       "      <td>-0.140406</td>\n",
       "      <td>-0.019763</td>\n",
       "      <td>-0.037035</td>\n",
       "      <td>0.196285</td>\n",
       "      <td>0.217100</td>\n",
       "      <td>-0.201589</td>\n",
       "    </tr>\n",
       "    <tr>\n",
       "      <th>1</th>\n",
       "      <td>0.088063</td>\n",
       "      <td>-0.039122</td>\n",
       "      <td>-0.013182</td>\n",
       "      <td>0.035174</td>\n",
       "      <td>0.014957</td>\n",
       "      <td>0.081348</td>\n",
       "      <td>-0.020818</td>\n",
       "      <td>0.068302</td>\n",
       "      <td>-0.064522</td>\n",
       "      <td>0.143706</td>\n",
       "      <td>0.318472</td>\n",
       "      <td>-0.143432</td>\n",
       "    </tr>\n",
       "  </tbody>\n",
       "</table>\n",
       "</div>"
      ],
      "text/plain": [
       "        sex        cp    trtbps      chol       fbs   restecg  thalachh  \\\n",
       "0  0.067792  0.003495 -0.066322  0.034453  0.020034  0.088950 -0.140406   \n",
       "1  0.088063 -0.039122 -0.013182  0.035174  0.014957  0.081348 -0.020818   \n",
       "\n",
       "       exng   oldpeak       slp       caa     thall  \n",
       "0 -0.019763 -0.037035  0.196285  0.217100 -0.201589  \n",
       "1  0.068302 -0.064522  0.143706  0.318472 -0.143432  "
      ]
     },
     "execution_count": 41,
     "metadata": {},
     "output_type": "execute_result"
    }
   ],
   "source": [
    "pd.DataFrame(clust_centers, columns=savecols)"
   ]
  },
  {
   "cell_type": "markdown",
   "metadata": {},
   "source": [
    "### Building the model"
   ]
  },
  {
   "cell_type": "code",
   "execution_count": 42,
   "metadata": {},
   "outputs": [
    {
     "name": "stdout",
     "output_type": "stream",
     "text": [
      " * Detected 2 rules / clusters\n",
      " * Detected Sugeno model type\n"
     ]
    }
   ],
   "source": [
    "ae = AntecedentEstimator(X_train, part_matrix)\n",
    "antecedent_params = ae.determineMF()\n",
    "\n",
    "ce = ConsequentEstimator(X_train, y_train, part_matrix)\n",
    "conseq_params = ce.suglms()\n",
    "\n",
    "modbuilder = SugenoFISBuilder(antecedent_params, conseq_params, var_names, save_simpful_code=False)\n",
    "model = modbuilder.get_model()"
   ]
  },
  {
   "cell_type": "markdown",
   "metadata": {},
   "source": [
    "### Inference and Metrics"
   ]
  },
  {
   "cell_type": "code",
   "execution_count": 43,
   "metadata": {},
   "outputs": [],
   "source": [
    "modtester = SugenoFISTester(model, X_test, var_names)\n",
    "y_pred_probs = clip(modtester.predict()[0], 0, 1)\n",
    "y_pred_probs = column_stack((1 - y_pred_probs, y_pred_probs))\n",
    "y_pred = argmax(y_pred_probs,axis=1)"
   ]
  },
  {
   "cell_type": "code",
   "execution_count": 44,
   "metadata": {},
   "outputs": [
    {
     "name": "stdout",
     "output_type": "stream",
     "text": [
      "Accuracy: 0.787\n",
      "Recall: 0.750\n",
      "Precision Score: 0.828\n",
      "F1-Score: 0.787\n",
      "Kappa Score: 0.575\n"
     ]
    }
   ],
   "source": [
    "acc_score = accuracy_score(y_test, y_pred)\n",
    "print(\"Accuracy: {:.3f}\".format(acc_score))\n",
    "rec_score = recall_score(y_test, y_pred)\n",
    "print(\"Recall: {:.3f}\".format(rec_score))\n",
    "prec_score = precision_score(y_test, y_pred)\n",
    "print(\"Precision Score: {:.3f}\".format(prec_score))\n",
    "F1_score = f1_score(y_test, y_pred)\n",
    "print(\"F1-Score: {:.3f}\".format(F1_score))\n",
    "kappa = cohen_kappa_score(y_test, y_pred)\n",
    "print(\"Kappa Score: {:.3f}\".format(kappa))"
   ]
  },
  {
   "cell_type": "markdown",
   "metadata": {},
   "source": [
    "## Model Visualization/Interpretation"
   ]
  },
  {
   "cell_type": "code",
   "execution_count": 45,
   "metadata": {},
   "outputs": [
    {
     "data": {
      "text/plain": [
       "<Linguistic variable 'chol', contains fuzzy sets [<Fuzzy set (function), term='cluster1'>, <Fuzzy set (function), term='cluster2'>], universe of discourse: None>"
      ]
     },
     "execution_count": 45,
     "metadata": {},
     "output_type": "execute_result"
    }
   ],
   "source": [
    "model._lvs['chol'] # example of how pyFUME defines une linguistic variable in simpful"
   ]
  },
  {
   "cell_type": "code",
   "execution_count": 46,
   "metadata": {},
   "outputs": [],
   "source": [
    "# The pyFUME library doesn't atribute a universe of discourse to the linguistic variables it creates in simpful. In order to fix this, we set each universe considering the maximum\n",
    "# value heald by each dataframe column. This has to be done since, otherwise, the plotting functions won't work.\n",
    "\n",
    "for ix in range(len(var_names)):\n",
    "    max = maxs[ix]\n",
    "    min = mins[ix]\n",
    "    uod = [min, max]\n",
    "    model._lvs[var_names[ix]]._universe_of_discourse = uod"
   ]
  },
  {
   "cell_type": "code",
   "execution_count": 47,
   "metadata": {},
   "outputs": [],
   "source": [
    "#model.produce_figure(\"\",2)"
   ]
  },
  {
   "cell_type": "markdown",
   "metadata": {},
   "source": [
    "## Converting the model to X"
   ]
  },
  {
   "cell_type": "markdown",
   "metadata": {},
   "source": [
    "#### More functions"
   ]
  },
  {
   "cell_type": "code",
   "execution_count": 48,
   "metadata": {},
   "outputs": [],
   "source": [
    "def FunctionstoX(model, stats):\n",
    "    final_df = pd.DataFrame(columns = var_names+['constant'])\n",
    "\n",
    "    for f in model._outputfunctions:\n",
    "        acumulated = 0 # value to be added to the intercept in the end\n",
    "        expression = model._outputfunctions[f]\n",
    "        item_list = expression.split('+')\n",
    "\n",
    "        for k in range(len(item_list) - 1):\n",
    "            item_list[k] = item_list[k].split('*')\n",
    "            values = stats[stats['Feature'] == item_list[k][1]]\n",
    "            std = values.iloc[0,2] ** 0.5\n",
    "            mean = values.iloc[0,1]\n",
    "            acumulated -= float(item_list[k][0]) * mean / (std) \n",
    "            item_list[k] = float(item_list[k][0]) / (std) \n",
    "            \n",
    "        item_list[-1] = float(item_list[-1]) + acumulated\n",
    "        final_df = pd.concat([final_df,pd.DataFrame([item_list], columns = var_names+['constant'])], axis = 0)\n",
    "        final_df.reset_index(drop=True, inplace=True)\n",
    "    return final_df"
   ]
  },
  {
   "cell_type": "code",
   "execution_count": 49,
   "metadata": {},
   "outputs": [],
   "source": [
    "def UODtoX(model, stats):\n",
    "    uods = {}\n",
    "    for lv in model._lvs:\n",
    "        data = stats[stats['Feature'] == lv]\n",
    "        mean = data.iloc[0,1]\n",
    "        std = data.iloc[0,2] ** 0.5\n",
    "        uod = model._lvs[lv]._universe_of_discourse\n",
    "        for i in range(2):\n",
    "            uod[i] = uod[i] * std + mean\n",
    "        uods[lv] = uod\n",
    "    return uods"
   ]
  },
  {
   "cell_type": "code",
   "execution_count": 50,
   "metadata": {},
   "outputs": [],
   "source": [
    "class XMF:\n",
    "\n",
    "    def __init__(self, uod, data, mu, sigma):\n",
    "        self.uod = uod\n",
    "        self.mean = data.iloc[0,1]\n",
    "        self.std = data.iloc[0,2] ** 0.5\n",
    "        self.mu = mu\n",
    "        self.sigma = sigma\n",
    "\n",
    "    def __call__(self, x):\n",
    "        #x = (x - self.mean) / self.std # X to Z\n",
    "        x = gaussian(x, self.mu, self.sigma, self.mean, self.std) # Z to MF\n",
    "        \n",
    "        return x"
   ]
  },
  {
   "cell_type": "code",
   "execution_count": 51,
   "metadata": {},
   "outputs": [],
   "source": [
    "def newMFS(model, stats, uods):\n",
    "    MFS = {}\n",
    "    for lv in model._lvs:\n",
    "        fs = []\n",
    "        data = stats[stats['Feature'] == lv]\n",
    "        uod = uods[lv]\n",
    "        for clust in range(len(model._lvs[lv]._FSlist)):\n",
    "            mu = model._lvs[lv]._FSlist[clust]._funpointer._mu\n",
    "            sigma = model._lvs[lv]._FSlist[clust]._funpointer._sigma\n",
    "            fs.append(XMF(uod, data, mu, sigma))\n",
    "        MFS[lv] = fs\n",
    "    return MFS"
   ]
  },
  {
   "cell_type": "code",
   "execution_count": 52,
   "metadata": {},
   "outputs": [],
   "source": [
    "def plotMFs(mfs, var):\n",
    "    mfs = mfs[var]\n",
    "    x = np.linspace(mfs[0].uod[0], mfs[0].uod[1], 100)\n",
    "    for i in range(len(mfs)):\n",
    "        y = [mfs[i](j) for j in x]\n",
    "        plt.plot(x, y)"
   ]
  },
  {
   "cell_type": "markdown",
   "metadata": {},
   "source": [
    "#### Code"
   ]
  },
  {
   "cell_type": "code",
   "execution_count": 53,
   "metadata": {},
   "outputs": [],
   "source": [
    "uods = UODtoX(model, stats)\n",
    "mfs = newMFS(model, stats, uods)\n",
    "consequents = FunctionstoX(model, stats)\n",
    "#uods"
   ]
  },
  {
   "cell_type": "code",
   "execution_count": 54,
   "metadata": {},
   "outputs": [
    {
     "data": {
      "text/html": [
       "<div>\n",
       "<style scoped>\n",
       "    .dataframe tbody tr th:only-of-type {\n",
       "        vertical-align: middle;\n",
       "    }\n",
       "\n",
       "    .dataframe tbody tr th {\n",
       "        vertical-align: top;\n",
       "    }\n",
       "\n",
       "    .dataframe thead th {\n",
       "        text-align: right;\n",
       "    }\n",
       "</style>\n",
       "<table border=\"1\" class=\"dataframe\">\n",
       "  <thead>\n",
       "    <tr style=\"text-align: right;\">\n",
       "      <th></th>\n",
       "      <th>sex</th>\n",
       "      <th>cp</th>\n",
       "      <th>trtbps</th>\n",
       "      <th>chol</th>\n",
       "      <th>fbs</th>\n",
       "      <th>restecg</th>\n",
       "      <th>thalachh</th>\n",
       "      <th>exng</th>\n",
       "      <th>oldpeak</th>\n",
       "      <th>slp</th>\n",
       "      <th>caa</th>\n",
       "      <th>thall</th>\n",
       "    </tr>\n",
       "  </thead>\n",
       "  <tbody>\n",
       "    <tr>\n",
       "      <th>0</th>\n",
       "      <td>0.683756</td>\n",
       "      <td>1.003617</td>\n",
       "      <td>129.682542</td>\n",
       "      <td>246.668985</td>\n",
       "      <td>0.139578</td>\n",
       "      <td>0.574246</td>\n",
       "      <td>146.632973</td>\n",
       "      <td>0.293823</td>\n",
       "      <td>0.939592</td>\n",
       "      <td>1.533888</td>\n",
       "      <td>0.885713</td>\n",
       "      <td>2.204104</td>\n",
       "    </tr>\n",
       "    <tr>\n",
       "      <th>1</th>\n",
       "      <td>0.693415</td>\n",
       "      <td>0.959521</td>\n",
       "      <td>130.565256</td>\n",
       "      <td>246.703191</td>\n",
       "      <td>0.137856</td>\n",
       "      <td>0.570206</td>\n",
       "      <td>149.295793</td>\n",
       "      <td>0.334290</td>\n",
       "      <td>0.910771</td>\n",
       "      <td>1.502025</td>\n",
       "      <td>0.985410</td>\n",
       "      <td>2.238593</td>\n",
       "    </tr>\n",
       "  </tbody>\n",
       "</table>\n",
       "</div>"
      ],
      "text/plain": [
       "        sex        cp      trtbps        chol       fbs   restecg    thalachh  \\\n",
       "0  0.683756  1.003617  129.682542  246.668985  0.139578  0.574246  146.632973   \n",
       "1  0.693415  0.959521  130.565256  246.703191  0.137856  0.570206  149.295793   \n",
       "\n",
       "       exng   oldpeak       slp       caa     thall  \n",
       "0  0.293823  0.939592  1.533888  0.885713  2.204104  \n",
       "1  0.334290  0.910771  1.502025  0.985410  2.238593  "
      ]
     },
     "execution_count": 54,
     "metadata": {},
     "output_type": "execute_result"
    }
   ],
   "source": [
    "for i in range(best_number):\n",
    "    clust_centers[i] = Revert(clust_centers[i], stats)\n",
    "clust_centers = pd.DataFrame(clust_centers, columns = var_names)\n",
    "clust_centers"
   ]
  },
  {
   "cell_type": "code",
   "execution_count": 55,
   "metadata": {},
   "outputs": [
    {
     "data": {
      "image/png": "[encoded data removed]",
      "text/plain": [
       "<Figure size 640x480 with 1 Axes>"
      ]
     },
     "metadata": {},
     "output_type": "display_data"
    }
   ],
   "source": [
    "plotMFs(mfs, 'chol')"
   ]
  },
  {
   "cell_type": "code",
   "execution_count": 56,
   "metadata": {},
   "outputs": [
    {
     "data": {
      "text/html": [
       "<div>\n",
       "<style scoped>\n",
       "    .dataframe tbody tr th:only-of-type {\n",
       "        vertical-align: middle;\n",
       "    }\n",
       "\n",
       "    .dataframe tbody tr th {\n",
       "        vertical-align: top;\n",
       "    }\n",
       "\n",
       "    .dataframe thead th {\n",
       "        text-align: right;\n",
       "    }\n",
       "</style>\n",
       "<table border=\"1\" class=\"dataframe\">\n",
       "  <thead>\n",
       "    <tr style=\"text-align: right;\">\n",
       "      <th></th>\n",
       "      <th>sex</th>\n",
       "      <th>cp</th>\n",
       "      <th>trtbps</th>\n",
       "      <th>chol</th>\n",
       "      <th>fbs</th>\n",
       "      <th>restecg</th>\n",
       "      <th>thalachh</th>\n",
       "      <th>exng</th>\n",
       "      <th>oldpeak</th>\n",
       "      <th>slp</th>\n",
       "      <th>caa</th>\n",
       "      <th>thall</th>\n",
       "      <th>constant</th>\n",
       "    </tr>\n",
       "  </thead>\n",
       "  <tbody>\n",
       "    <tr>\n",
       "      <th>0</th>\n",
       "      <td>-0.106259</td>\n",
       "      <td>0.125492</td>\n",
       "      <td>-0.004503</td>\n",
       "      <td>-0.000292</td>\n",
       "      <td>0.076170</td>\n",
       "      <td>0.069755</td>\n",
       "      <td>-0.001523</td>\n",
       "      <td>-0.270914</td>\n",
       "      <td>-0.065930</td>\n",
       "      <td>0.122260</td>\n",
       "      <td>-0.11942</td>\n",
       "      <td>-0.214679</td>\n",
       "      <td>2.032105</td>\n",
       "    </tr>\n",
       "    <tr>\n",
       "      <th>1</th>\n",
       "      <td>-0.340589</td>\n",
       "      <td>0.068354</td>\n",
       "      <td>-0.003982</td>\n",
       "      <td>-0.000806</td>\n",
       "      <td>0.069681</td>\n",
       "      <td>0.030631</td>\n",
       "      <td>0.000121</td>\n",
       "      <td>-0.192349</td>\n",
       "      <td>0.021317</td>\n",
       "      <td>0.187714</td>\n",
       "      <td>-0.19767</td>\n",
       "      <td>-0.167783</td>\n",
       "      <td>1.509223</td>\n",
       "    </tr>\n",
       "  </tbody>\n",
       "</table>\n",
       "</div>"
      ],
      "text/plain": [
       "        sex        cp    trtbps      chol       fbs   restecg  thalachh  \\\n",
       "0 -0.106259  0.125492 -0.004503 -0.000292  0.076170  0.069755 -0.001523   \n",
       "1 -0.340589  0.068354 -0.003982 -0.000806  0.069681  0.030631  0.000121   \n",
       "\n",
       "       exng   oldpeak       slp      caa     thall  constant  \n",
       "0 -0.270914 -0.065930  0.122260 -0.11942 -0.214679  2.032105  \n",
       "1 -0.192349  0.021317  0.187714 -0.19767 -0.167783  1.509223  "
      ]
     },
     "execution_count": 56,
     "metadata": {},
     "output_type": "execute_result"
    }
   ],
   "source": [
    "consequents"
   ]
  },
  {
   "cell_type": "code",
   "execution_count": 57,
   "metadata": {},
   "outputs": [],
   "source": [
    "def inference(X_test, mfs, consequents):\n",
    "    X = X_test.copy()\n",
    "    for i in range(best_number):\n",
    "        X[i] = Revert(X[i], stats)\n",
    "    y = [] # dim 1: weighted sum of the consequents for each cluster\n",
    "    dim = X.shape[1]\n",
    "    for i in range(X.shape[0]):\n",
    "        membership_list = [] # member ship values for a certain observation, dim 1: var, dim 2: clust\n",
    "        for k in range(dim):\n",
    "            temp_list = [] # membership values for a certain variable, dim 1: clust\n",
    "            for clust in range(best_number):\n",
    "                temp_list.append(mfs[var_names[k]][clust](X[i,k]))\n",
    "            membership_list.append(temp_list)\n",
    "        acumulated = 0\n",
    "        for h in range(best_number):\n",
    "            for j in range(dim):\n",
    "                acumulated += membership_list[j][h] * consequents.iloc[h,j] * X[i,j]\n",
    "            acumulated += consequents.iloc[h,-1]\n",
    "        y.append(acumulated)\n",
    "\n",
    "    return y # dim 1: observationm dim 2: clust"
   ]
  },
  {
   "cell_type": "code",
   "execution_count": 58,
   "metadata": {},
   "outputs": [
    {
     "data": {
      "text/plain": [
       "[0.0077792913179643985,\n",
       " 0.7435484460813921,\n",
       " 4.030499560573073,\n",
       " 2.137601484928103,\n",
       " 5.249330493355449,\n",
       " 4.263311398965942,\n",
       " 3.313469770023852,\n",
       " 1.731938672832616,\n",
       " 1.6677457460586138,\n",
       " 3.3198047455153357,\n",
       " 3.7715047737833647,\n",
       " 3.1943226445245223,\n",
       " 4.141319844344176,\n",
       " 2.308216849952885,\n",
       " 5.07450876428909,\n",
       " 4.17781184946605,\n",
       " 5.042639791808783,\n",
       " 1.2412804357361356,\n",
       " 1.4374932985358848,\n",
       " 1.9785829363557468,\n",
       " 3.46308448278538,\n",
       " 2.1687517962829843,\n",
       " 3.488570775060227,\n",
       " 4.447040965591094,\n",
       " 4.542065482207534,\n",
       " 3.5207428567356,\n",
       " 1.102891809856056,\n",
       " 2.8260530571299363,\n",
       " 1.6481921855919817,\n",
       " 4.732590369751673,\n",
       " 1.8357947701770605,\n",
       " 2.0410272745266593,\n",
       " 3.4519089593267216,\n",
       " 2.2771235449621536,\n",
       " 4.758876369231526,\n",
       " 2.1064780335713342,\n",
       " 4.0602496022072,\n",
       " 4.152041620762955,\n",
       " 3.046987543314305,\n",
       " 3.8102706352580853,\n",
       " 3.374687647165571,\n",
       " 3.1669731802322287,\n",
       " 4.4073829703164895,\n",
       " 3.6620320382913496,\n",
       " 3.7141272407968016,\n",
       " 3.927395102682797,\n",
       " 3.4362408909626594,\n",
       " 4.561730303097369,\n",
       " 3.2680794324001856,\n",
       " 1.89790180740972,\n",
       " 2.843374708653034,\n",
       " 1.23806393553076,\n",
       " 3.9748459275301453,\n",
       " 4.991634280810261,\n",
       " 2.2866501008660114,\n",
       " 2.2778774646221365,\n",
       " 1.101724508359313,\n",
       " 4.335360592870136,\n",
       " 2.766982257215548,\n",
       " 3.6203422595432597,\n",
       " 3.540736384971657]"
      ]
     },
     "execution_count": 58,
     "metadata": {},
     "output_type": "execute_result"
    }
   ],
   "source": [
    "inference(X_test, mfs, consequents)"
   ]
  }
 ],
 "metadata": {
  "kernelspec": {
   "display_name": "IntelSis",
   "language": "python",
   "name": "python3"
  },
  "language_info": {
   "codemirror_mode": {
    "name": "ipython",
    "version": 3
   },
   "file_extension": ".py",
   "mimetype": "text/x-python",
   "name": "python",
   "nbconvert_exporter": "python",
   "pygments_lexer": "ipython3",
   "version": "3.12.4"
  }
 },
 "nbformat": 4,
 "nbformat_minor": 2
}
