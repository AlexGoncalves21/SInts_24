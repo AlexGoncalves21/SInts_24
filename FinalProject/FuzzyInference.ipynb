{
 "cells": [
  {
   "cell_type": "markdown",
   "metadata": {},
   "source": [
    "## Importing Data and Libraries"
   ]
  },
  {
   "cell_type": "code",
   "execution_count": 711,
   "metadata": {},
   "outputs": [],
   "source": [
    "import pandas as pd\n",
    "import numpy as np\n",
    "import matplotlib.pyplot as plt\n",
    "from pyfume.Clustering import Clusterer\n",
    "from pyfume.EstimateAntecendentSet import AntecedentEstimator\n",
    "from pyfume.EstimateConsequentParameters import ConsequentEstimator\n",
    "from pyfume.SimpfulModelBuilder import SugenoFISBuilder\n",
    "from pyfume.Tester import SugenoFISTester\n",
    "from sklearn.metrics import accuracy_score, recall_score, precision_score, f1_score, cohen_kappa_score\n",
    "from numpy import clip, column_stack, argmax\n",
    "from scipy.spatial import distance\n",
    "from scipy.spatial.distance import cdist\n",
    "from sklearn.metrics import silhouette_score\n",
    "import warnings\n",
    "\n",
    "warnings.simplefilter(action='ignore', category=FutureWarning)"
   ]
  },
  {
   "cell_type": "code",
   "execution_count": 712,
   "metadata": {},
   "outputs": [
    {
     "data": {
      "text/plain": [
       "((241, 12), (61, 12), (241,), (61,))"
      ]
     },
     "execution_count": 712,
     "metadata": {},
     "output_type": "execute_result"
    }
   ],
   "source": [
    "Train = pd.read_csv('dataTrain.csv')\n",
    "Test = pd.read_csv('dataTest.csv')\n",
    "\n",
    "stats = pd.read_csv('stats.csv')\n",
    "stats = stats.iloc[:,1:]\n",
    "\n",
    "X_train = Train.drop('output', axis=1)\n",
    "y_train = Train['output']\n",
    "\n",
    "X_test = Test.drop('output', axis=1)\n",
    "y_test = Test['output']\n",
    "\n",
    "maxs = X_train.max().tolist()\n",
    "mins = X_train.min().tolist()\n",
    "\n",
    "var_names = X_train.columns.to_list()\n",
    "X_train.shape, X_test.shape, y_train.shape, y_test.shape"
   ]
  },
  {
   "cell_type": "code",
   "execution_count": 713,
   "metadata": {},
   "outputs": [
    {
     "data": {
      "text/html": [
       "<div>\n",
       "<style scoped>\n",
       "    .dataframe tbody tr th:only-of-type {\n",
       "        vertical-align: middle;\n",
       "    }\n",
       "\n",
       "    .dataframe tbody tr th {\n",
       "        vertical-align: top;\n",
       "    }\n",
       "\n",
       "    .dataframe thead th {\n",
       "        text-align: right;\n",
       "    }\n",
       "</style>\n",
       "<table border=\"1\" class=\"dataframe\">\n",
       "  <thead>\n",
       "    <tr style=\"text-align: right;\">\n",
       "      <th></th>\n",
       "      <th>Feature</th>\n",
       "      <th>Mean</th>\n",
       "      <th>Variance</th>\n",
       "    </tr>\n",
       "  </thead>\n",
       "  <tbody>\n",
       "    <tr>\n",
       "      <th>0</th>\n",
       "      <td>age</td>\n",
       "      <td>54.373444</td>\n",
       "      <td>83.926930</td>\n",
       "    </tr>\n",
       "    <tr>\n",
       "      <th>1</th>\n",
       "      <td>sex</td>\n",
       "      <td>0.651452</td>\n",
       "      <td>0.227062</td>\n",
       "    </tr>\n",
       "    <tr>\n",
       "      <th>2</th>\n",
       "      <td>cp</td>\n",
       "      <td>1.000000</td>\n",
       "      <td>1.070539</td>\n",
       "    </tr>\n",
       "    <tr>\n",
       "      <th>3</th>\n",
       "      <td>trtbps</td>\n",
       "      <td>130.784232</td>\n",
       "      <td>275.936847</td>\n",
       "    </tr>\n",
       "    <tr>\n",
       "      <th>4</th>\n",
       "      <td>chol</td>\n",
       "      <td>245.033195</td>\n",
       "      <td>2254.206367</td>\n",
       "    </tr>\n",
       "    <tr>\n",
       "      <th>5</th>\n",
       "      <td>fbs</td>\n",
       "      <td>0.132780</td>\n",
       "      <td>0.115150</td>\n",
       "    </tr>\n",
       "    <tr>\n",
       "      <th>6</th>\n",
       "      <td>restecg</td>\n",
       "      <td>0.526971</td>\n",
       "      <td>0.282468</td>\n",
       "    </tr>\n",
       "    <tr>\n",
       "      <th>7</th>\n",
       "      <td>thalachh</td>\n",
       "      <td>149.759336</td>\n",
       "      <td>495.798927</td>\n",
       "    </tr>\n",
       "    <tr>\n",
       "      <th>8</th>\n",
       "      <td>exng</td>\n",
       "      <td>0.302905</td>\n",
       "      <td>0.211153</td>\n",
       "    </tr>\n",
       "    <tr>\n",
       "      <th>9</th>\n",
       "      <td>oldpeak</td>\n",
       "      <td>0.978423</td>\n",
       "      <td>1.099368</td>\n",
       "    </tr>\n",
       "    <tr>\n",
       "      <th>10</th>\n",
       "      <td>slp</td>\n",
       "      <td>1.414938</td>\n",
       "      <td>0.367246</td>\n",
       "    </tr>\n",
       "    <tr>\n",
       "      <th>11</th>\n",
       "      <td>caa</td>\n",
       "      <td>0.672199</td>\n",
       "      <td>0.967235</td>\n",
       "    </tr>\n",
       "    <tr>\n",
       "      <th>12</th>\n",
       "      <td>thall</td>\n",
       "      <td>2.323651</td>\n",
       "      <td>0.351681</td>\n",
       "    </tr>\n",
       "  </tbody>\n",
       "</table>\n",
       "</div>"
      ],
      "text/plain": [
       "     Feature        Mean     Variance\n",
       "0        age   54.373444    83.926930\n",
       "1        sex    0.651452     0.227062\n",
       "2         cp    1.000000     1.070539\n",
       "3     trtbps  130.784232   275.936847\n",
       "4       chol  245.033195  2254.206367\n",
       "5        fbs    0.132780     0.115150\n",
       "6    restecg    0.526971     0.282468\n",
       "7   thalachh  149.759336   495.798927\n",
       "8       exng    0.302905     0.211153\n",
       "9    oldpeak    0.978423     1.099368\n",
       "10       slp    1.414938     0.367246\n",
       "11       caa    0.672199     0.967235\n",
       "12     thall    2.323651     0.351681"
      ]
     },
     "execution_count": 713,
     "metadata": {},
     "output_type": "execute_result"
    }
   ],
   "source": [
    "stats"
   ]
  },
  {
   "cell_type": "code",
   "execution_count": 714,
   "metadata": {},
   "outputs": [],
   "source": [
    "savecols = X_train.columns"
   ]
  },
  {
   "cell_type": "code",
   "execution_count": 715,
   "metadata": {},
   "outputs": [],
   "source": [
    "X_train = X_train.to_numpy()\n",
    "X_test = X_test.to_numpy()\n",
    "y_train = y_train.array\n",
    "y_test = y_test.array"
   ]
  },
  {
   "cell_type": "markdown",
   "metadata": {},
   "source": [
    "## Building the model"
   ]
  },
  {
   "cell_type": "markdown",
   "metadata": {},
   "source": [
    "### Clustering"
   ]
  },
  {
   "cell_type": "markdown",
   "metadata": {},
   "source": [
    "In this section, we will try out different numbers of clusters in order to minimize the separation between clusters. "
   ]
  },
  {
   "cell_type": "markdown",
   "metadata": {},
   "source": [
    "#### Functions"
   ]
  },
  {
   "cell_type": "code",
   "execution_count": 716,
   "metadata": {},
   "outputs": [],
   "source": [
    "def SeparationMetric(X_train, clust_centers, part_matrix):\n",
    "    metric = 0\n",
    "    for clust in range(clust_centers.shape[0]):\n",
    "        for point in range(X_train.shape[0]):\n",
    "            metric += part_matrix[point, clust] * distance.euclidean(X_train[point], clust_centers[clust])\n",
    "    return metric"
   ]
  },
  {
   "cell_type": "code",
   "execution_count": 717,
   "metadata": {},
   "outputs": [],
   "source": [
    "def gaussian(x, mu, sig, mux, sigx):\n",
    "    mu = mux + sigx * mu\n",
    "    sig = sig * sigx\n",
    "    #return (1.0 / (np.sqrt(2.0 * np.pi) * sig) * np.exp(-np.power((x - mu) / sig, 2.0) / 2))\n",
    "    return (np.exp(-np.power((x - mu) / sig, 2.0) / 2))"
   ]
  },
  {
   "cell_type": "code",
   "execution_count": 718,
   "metadata": {},
   "outputs": [],
   "source": [
    "def Revert(x, stats):\n",
    "    for i in range(x.shape[0]):\n",
    "        data = stats[stats['Feature'] == savecols[i]]\n",
    "        x[i] = x[i] * (data.iloc[0,2] ** 0.5) + data.iloc[0,1]\n",
    "    return x"
   ]
  },
  {
   "cell_type": "markdown",
   "metadata": {},
   "source": [
    "#### Code"
   ]
  },
  {
   "cell_type": "code",
   "execution_count": 719,
   "metadata": {},
   "outputs": [
    {
     "data": {
      "text/plain": [
       "'\"\\nfor i in range(max_clusters):\\n    i += 1\\n    #clust_centers, part_matrix = Cluster(i)\\n    cl = Clusterer(x_train=X_train, y_train=y_train, nr_clus=i)\\n    clust_centers, part_matrix, _ = cl.cluster(method=selected_method)\\n    clust_centers = clust_centers[:,:-1]\\n    \\n    metric = SeparationMetric(X_train, clust_centers, part_matrix)\\n    if metric < min_metric:\\n        min_metric = metric\\n        best_number = i\\n\\nprint(f\\'Best number of clusters: {best_number}\\')'"
      ]
     },
     "execution_count": 719,
     "metadata": {},
     "output_type": "execute_result"
    }
   ],
   "source": [
    "max_clusters = 10\n",
    "min_metric = np.inf\n",
    "selected_method = 'fst-pso' #'gk'\n",
    "\"\"\"\"\n",
    "for i in range(max_clusters):\n",
    "    i += 1\n",
    "    #clust_centers, part_matrix = Cluster(i)\n",
    "    cl = Clusterer(x_train=X_train, y_train=y_train, nr_clus=i)\n",
    "    clust_centers, part_matrix, _ = cl.cluster(method=selected_method)\n",
    "    clust_centers = clust_centers[:,:-1]\n",
    "    \n",
    "    metric = SeparationMetric(X_train, clust_centers, part_matrix)\n",
    "    if metric < min_metric:\n",
    "        min_metric = metric\n",
    "        best_number = i\n",
    "\n",
    "print(f'Best number of clusters: {best_number}')\"\"\""
   ]
  },
  {
   "cell_type": "code",
   "execution_count": 720,
   "metadata": {},
   "outputs": [
    {
     "name": "stdout",
     "output_type": "stream",
     "text": [
      "Fuzzy Self-Tuning PSO - v1.8.1\n",
      " * Max distance: 18.910044\n",
      " * Search space boundaries set to: [[-1.3671311638052943, 0.7314587118448709], [-1.3671311638052943, 0.7314587118448709], [-0.9664929007146316, 1.9329858014292631], [-0.9664929007146316, 1.9329858014292631], [-2.2144039565795786, 2.3607819282158617], [-2.2144039565795786, 2.3607819282158617], [-2.401786816576483, 2.568885877536174], [-2.401786816576483, 2.568885877536174], [-0.3912927904356147, 2.555631037532609], [-0.3912927904356147, 2.555631037532609], [-0.9915220285980402, 2.771577324033892], [-0.9915220285980402, 2.771577324033892], [-2.5715413778467515, 2.3461506537983703], [-2.5715413778467515, 2.3461506537983703], [-0.6591841999955774, 1.5170266520446165], [-0.6591841999955774, 1.5170266520446165], [-0.9331578631464132, 2.8817877690552076], [-0.9331578631464132, 2.8817877690552076], [-2.334849818633804, 0.965436435270869], [-2.334849818633804, 0.965436435270869], [-0.6834895479753919, 3.3836951696065687], [-0.6834895479753919, 3.3836951696065687], [-3.9182880820805015, 1.1405017096055745], [-3.9182880820805015, 1.1405017096055745], [0.0, 1.0], [0.0, 1.0]]\n",
      " * Max velocities set to: [2.0985898756501653, 2.0985898756501653, 2.899478702143895, 2.899478702143895, 4.57518588479544, 4.57518588479544, 4.970672694112657, 4.970672694112657, 2.9469238279682237, 2.9469238279682237, 3.763099352631932, 3.763099352631932, 4.917692031645122, 4.917692031645122, 2.176210852040194, 2.176210852040194, 3.8149456322016206, 3.8149456322016206, 3.300286253904673, 3.300286253904673, 4.06718471758196, 4.06718471758196, 5.058789791686076, 5.058789791686076, 1.0, 1.0]\n",
      " * Number of particles automatically set to 20\n",
      " * Fuzzy rules for minimum velocity cap DISABLED\n",
      " * 20 particles created.\n",
      " * FST-PSO will now assess the local and global best particles.\n",
      " * Estimated worst fitness: 13492.178\n",
      " * New best particle in the swarm is #0 with fitness 9519.041771 (it: 0).\n",
      " * New best particle in the swarm is #1 with fitness 9476.470898 (it: 0).\n",
      " * New best particle in the swarm is #4 with fitness 9434.559223 (it: 0).\n",
      " * New best particle in the swarm is #11 with fitness 8426.117416 (it: 0).\n",
      "\n",
      " *** All prepared, launching optimization ***\n",
      " * New best particle in the swarm is #0 with fitness 7536.955234 (it: 0).\n",
      " * New best particle in the swarm is #1 with fitness 6440.666590 (it: 0).\n",
      " * New best particle in the swarm is #1 with fitness 6301.833891 (it: 1).\n",
      " * New best particle in the swarm is #2 with fitness 4909.108769 (it: 1).\n",
      " * New best particle in the swarm is #15 with fitness 4843.730202 (it: 3).\n",
      " * New best particle in the swarm is #0 with fitness 4425.906547 (it: 4).\n",
      " * New best particle in the swarm is #14 with fitness 4397.348791 (it: 5).\n",
      " * New best particle in the swarm is #16 with fitness 4336.495914 (it: 5).\n",
      " * New best particle in the swarm is #8 with fitness 4293.959456 (it: 6).\n",
      " * New best particle in the swarm is #15 with fitness 4015.444234 (it: 6).\n",
      " * New best particle in the swarm is #1 with fitness 3928.373649 (it: 7).\n",
      " * New best particle in the swarm is #12 with fitness 3807.799155 (it: 8).\n",
      " * New best particle in the swarm is #17 with fitness 3777.488719 (it: 10).\n",
      " * 11th iteration out of 100 completed. [###                           ]\n",
      " * New best particle in the swarm is #9 with fitness 3729.504436 (it: 11).\n",
      " * New best particle in the swarm is #13 with fitness 3690.648592 (it: 11).\n",
      " * 12th iteration out of 100 completed. [###                           ]\n",
      " * New best particle in the swarm is #0 with fitness 3651.844685 (it: 12).\n",
      " * New best particle in the swarm is #1 with fitness 3619.296760 (it: 12).\n",
      " * New best particle in the swarm is #3 with fitness 3598.332166 (it: 13).\n",
      " * New best particle in the swarm is #13 with fitness 3588.862097 (it: 13).\n",
      " * 14th iteration out of 100 completed. [####                          ]\n",
      " * New best particle in the swarm is #1 with fitness 3583.039539 (it: 14).\n",
      " * New best particle in the swarm is #12 with fitness 3492.737652 (it: 14).\n",
      " * New best particle in the swarm is #4 with fitness 3389.710977 (it: 15).\n",
      " * 16th iteration out of 100 completed. [####                          ]\n",
      " * New best particle in the swarm is #4 with fitness 3358.632778 (it: 17).\n",
      " * 20th iteration out of 100 completed. [######                        ]\n",
      " * New best particle in the swarm is #4 with fitness 3319.412928 (it: 20).\n",
      " * New best particle in the swarm is #18 with fitness 3297.673516 (it: 20).\n",
      " * New best particle in the swarm is #4 with fitness 3279.899433 (it: 23).\n",
      " * New best particle in the swarm is #17 with fitness 3261.527843 (it: 24).\n",
      " * 25th iteration out of 100 completed. [#######                       ]\n",
      " * New best particle in the swarm is #4 with fitness 3239.730396 (it: 26).\n",
      " * New best particle in the swarm is #17 with fitness 3235.803409 (it: 26).\n",
      " * New best particle in the swarm is #4 with fitness 3230.692271 (it: 27).\n",
      " * New best particle in the swarm is #9 with fitness 3210.880455 (it: 27).\n",
      " * New best particle in the swarm is #12 with fitness 3198.165389 (it: 28).\n",
      " * New best particle in the swarm is #12 with fitness 3185.575048 (it: 30).\n",
      " * 33th iteration out of 100 completed. [#########                     ]\n",
      " * New best particle in the swarm is #19 with fitness 3172.973906 (it: 35).\n",
      " * New best particle in the swarm is #12 with fitness 3163.055011 (it: 37).\n",
      " * New best particle in the swarm is #0 with fitness 3162.085125 (it: 39).\n",
      " * New best particle in the swarm is #16 with fitness 3137.818127 (it: 42).\n",
      " * New best particle in the swarm is #8 with fitness 3135.823979 (it: 43).\n",
      " * New best particle in the swarm is #16 with fitness 3132.054760 (it: 43).\n",
      " * New best particle in the swarm is #0 with fitness 3127.568803 (it: 44).\n",
      " * New best particle in the swarm is #1 with fitness 3124.642555 (it: 44).\n",
      " * New best particle in the swarm is #16 with fitness 3114.131690 (it: 45).\n",
      " * New best particle in the swarm is #16 with fitness 3106.214257 (it: 47).\n",
      " * New best particle in the swarm is #2 with fitness 3100.750305 (it: 48).\n",
      " * New best particle in the swarm is #13 with fitness 3096.095588 (it: 48).\n",
      " * New best particle in the swarm is #16 with fitness 3090.277224 (it: 49).\n",
      " * 50th iteration out of 100 completed. [###############               ]\n",
      " * New best particle in the swarm is #16 with fitness 3089.490206 (it: 50).\n",
      " * New best particle in the swarm is #2 with fitness 3075.223689 (it: 53).\n",
      " * New best particle in the swarm is #0 with fitness 3061.722231 (it: 54).\n",
      " * New best particle in the swarm is #0 with fitness 3061.496676 (it: 59).\n",
      " * New best particle in the swarm is #2 with fitness 3059.651559 (it: 59).\n",
      " * New best particle in the swarm is #0 with fitness 3055.237009 (it: 60).\n",
      " * New best particle in the swarm is #0 with fitness 3053.786549 (it: 61).\n",
      " * New best particle in the swarm is #0 with fitness 3053.489178 (it: 62).\n",
      " * New best particle in the swarm is #19 with fitness 3051.503979 (it: 62).\n",
      " * New best particle in the swarm is #0 with fitness 3048.247581 (it: 64).\n",
      " * New best particle in the swarm is #1 with fitness 3046.109505 (it: 64).\n",
      " * New best particle in the swarm is #16 with fitness 3043.542292 (it: 65).\n",
      " * New best particle in the swarm is #17 with fitness 3043.394642 (it: 70).\n",
      " * New best particle in the swarm is #17 with fitness 3041.760415 (it: 78).\n",
      " * New best particle in the swarm is #17 with fitness 3041.527420 (it: 79).\n",
      " * New best particle in the swarm is #4 with fitness 3039.089670 (it: 80).\n",
      " * New best particle in the swarm is #18 with fitness 3038.817319 (it: 84).\n",
      " * New best particle in the swarm is #12 with fitness 3031.661289 (it: 85).\n",
      " * New best particle in the swarm is #4 with fitness 3029.086984 (it: 86).\n",
      " * New best particle in the swarm is #11 with fitness 3026.105895 (it: 90).\n",
      " * New best particle in the swarm is #0 with fitness 3020.975358 (it: 96).\n",
      " * New best particle in the swarm is #11 with fitness 3020.012319 (it: 97).\n",
      " * 100th iteration out of 100 completed. [##############################]\n",
      " * New best particle in the swarm is #0 with fitness 3018.143408 (it: 100).\n"
     ]
    },
    {
     "data": {
      "text/plain": [
       "((2, 12), (241, 2))"
      ]
     },
     "execution_count": 720,
     "metadata": {},
     "output_type": "execute_result"
    }
   ],
   "source": [
    "best_number = 2   # TIRAR\n",
    "\n",
    "#clust_centers, part_matrix = Cluster(best_number)\n",
    "cl = Clusterer(x_train=X_train, y_train=y_train, nr_clus = best_number)\n",
    "clust_centers, part_matrix, _ = cl.cluster(method=selected_method, m = 0.99)\n",
    "clust_centers = clust_centers[:,:-1]\n",
    "clust_centers.shape, part_matrix.shape"
   ]
  },
  {
   "cell_type": "code",
   "execution_count": 721,
   "metadata": {},
   "outputs": [
    {
     "data": {
      "text/html": [
       "<div>\n",
       "<style scoped>\n",
       "    .dataframe tbody tr th:only-of-type {\n",
       "        vertical-align: middle;\n",
       "    }\n",
       "\n",
       "    .dataframe tbody tr th {\n",
       "        vertical-align: top;\n",
       "    }\n",
       "\n",
       "    .dataframe thead th {\n",
       "        text-align: right;\n",
       "    }\n",
       "</style>\n",
       "<table border=\"1\" class=\"dataframe\">\n",
       "  <thead>\n",
       "    <tr style=\"text-align: right;\">\n",
       "      <th></th>\n",
       "      <th>sex</th>\n",
       "      <th>cp</th>\n",
       "      <th>trtbps</th>\n",
       "      <th>chol</th>\n",
       "      <th>fbs</th>\n",
       "      <th>restecg</th>\n",
       "      <th>thalachh</th>\n",
       "      <th>exng</th>\n",
       "      <th>oldpeak</th>\n",
       "      <th>slp</th>\n",
       "      <th>caa</th>\n",
       "      <th>thall</th>\n",
       "    </tr>\n",
       "  </thead>\n",
       "  <tbody>\n",
       "    <tr>\n",
       "      <th>0</th>\n",
       "      <td>-0.242517</td>\n",
       "      <td>0.047133</td>\n",
       "      <td>-0.090933</td>\n",
       "      <td>-0.145979</td>\n",
       "      <td>0.07137</td>\n",
       "      <td>0.005472</td>\n",
       "      <td>0.118012</td>\n",
       "      <td>0.055978</td>\n",
       "      <td>-0.027430</td>\n",
       "      <td>-0.030415</td>\n",
       "      <td>0.143662</td>\n",
       "      <td>-0.021989</td>\n",
       "    </tr>\n",
       "    <tr>\n",
       "      <th>1</th>\n",
       "      <td>-0.275749</td>\n",
       "      <td>0.032489</td>\n",
       "      <td>-0.047298</td>\n",
       "      <td>-0.156637</td>\n",
       "      <td>0.11345</td>\n",
       "      <td>-0.020877</td>\n",
       "      <td>0.154137</td>\n",
       "      <td>0.065995</td>\n",
       "      <td>-0.029209</td>\n",
       "      <td>-0.006518</td>\n",
       "      <td>0.094282</td>\n",
       "      <td>-0.038844</td>\n",
       "    </tr>\n",
       "  </tbody>\n",
       "</table>\n",
       "</div>"
      ],
      "text/plain": [
       "        sex        cp    trtbps      chol      fbs   restecg  thalachh  \\\n",
       "0 -0.242517  0.047133 -0.090933 -0.145979  0.07137  0.005472  0.118012   \n",
       "1 -0.275749  0.032489 -0.047298 -0.156637  0.11345 -0.020877  0.154137   \n",
       "\n",
       "       exng   oldpeak       slp       caa     thall  \n",
       "0  0.055978 -0.027430 -0.030415  0.143662 -0.021989  \n",
       "1  0.065995 -0.029209 -0.006518  0.094282 -0.038844  "
      ]
     },
     "execution_count": 721,
     "metadata": {},
     "output_type": "execute_result"
    }
   ],
   "source": [
    "pd.DataFrame(clust_centers, columns=savecols)"
   ]
  },
  {
   "cell_type": "markdown",
   "metadata": {},
   "source": [
    "### Building the model"
   ]
  },
  {
   "cell_type": "code",
   "execution_count": 722,
   "metadata": {},
   "outputs": [
    {
     "name": "stdout",
     "output_type": "stream",
     "text": [
      " * Detected 2 rules / clusters\n",
      " * Detected Sugeno model type\n"
     ]
    }
   ],
   "source": [
    "ae = AntecedentEstimator(X_train, part_matrix)\n",
    "antecedent_params = ae.determineMF()\n",
    "\n",
    "ce = ConsequentEstimator(X_train, y_train, part_matrix)\n",
    "conseq_params = ce.suglms()\n",
    "\n",
    "modbuilder = SugenoFISBuilder(antecedent_params, conseq_params, var_names, save_simpful_code=False)\n",
    "model = modbuilder.get_model()"
   ]
  },
  {
   "cell_type": "markdown",
   "metadata": {},
   "source": [
    "### Inference and Metrics"
   ]
  },
  {
   "cell_type": "code",
   "execution_count": 723,
   "metadata": {},
   "outputs": [],
   "source": [
    "modtester = SugenoFISTester(model, X_test, var_names)\n",
    "y_pred_probs = clip(modtester.predict()[0], 0, 1)\n",
    "a = y_pred_probs\n",
    "y_pred_probs = column_stack((1 - y_pred_probs, y_pred_probs))\n",
    "y_pred = argmax(y_pred_probs,axis=1)"
   ]
  },
  {
   "cell_type": "code",
   "execution_count": 724,
   "metadata": {},
   "outputs": [
    {
     "name": "stdout",
     "output_type": "stream",
     "text": [
      "Accuracy: 0.836\n",
      "Recall: 0.844\n",
      "Precision Score: 0.844\n",
      "F1-Score: 0.844\n",
      "Kappa Score: 0.671\n"
     ]
    }
   ],
   "source": [
    "acc_score = accuracy_score(y_test, y_pred)\n",
    "print(\"Accuracy: {:.3f}\".format(acc_score))\n",
    "rec_score = recall_score(y_test, y_pred)\n",
    "print(\"Recall: {:.3f}\".format(rec_score))\n",
    "prec_score = precision_score(y_test, y_pred)\n",
    "print(\"Precision Score: {:.3f}\".format(prec_score))\n",
    "F1_score = f1_score(y_test, y_pred)\n",
    "print(\"F1-Score: {:.3f}\".format(F1_score))\n",
    "kappa = cohen_kappa_score(y_test, y_pred)\n",
    "print(\"Kappa Score: {:.3f}\".format(kappa))"
   ]
  },
  {
   "cell_type": "markdown",
   "metadata": {},
   "source": [
    "## Model Visualization/Interpretation"
   ]
  },
  {
   "cell_type": "code",
   "execution_count": 725,
   "metadata": {},
   "outputs": [
    {
     "data": {
      "text/plain": [
       "OrderedDict([('fun1',\n",
       "              '-1.054937e-01*sex+7.357401e-02*cp+-2.946063e-02*trtbps+-4.339897e-02*chol+3.832253e-02*fbs+1.457441e-02*restecg+7.586023e-02*thalachh+-9.091621e-02*exng+-2.350526e-02*oldpeak+8.823439e-02*slp+-1.638751e-01*caa+-9.176293e-02*thall+5.009747e-01'),\n",
       "             ('fun2',\n",
       "              '-1.143505e-01*sex+9.173030e-02*cp+-4.986847e-02*trtbps+-1.191095e-02*chol+3.622047e-02*fbs+3.176082e-02*restecg+6.915530e-02*thalachh+-4.924064e-02*exng+-8.957764e-02*oldpeak+5.119184e-02*slp+-8.554053e-02*caa+-8.553303e-02*thall+5.732566e-01')])"
      ]
     },
     "execution_count": 725,
     "metadata": {},
     "output_type": "execute_result"
    }
   ],
   "source": [
    "model._outputfunctions"
   ]
  },
  {
   "cell_type": "code",
   "execution_count": 726,
   "metadata": {},
   "outputs": [
    {
     "data": {
      "text/plain": [
       "<Linguistic variable 'chol', contains fuzzy sets [<Fuzzy set (function), term='cluster1'>, <Fuzzy set (function), term='cluster2'>], universe of discourse: None>"
      ]
     },
     "execution_count": 726,
     "metadata": {},
     "output_type": "execute_result"
    }
   ],
   "source": [
    "model._lvs['chol'] # example of how pyFUME defines une linguistic variable in simpful"
   ]
  },
  {
   "cell_type": "code",
   "execution_count": 727,
   "metadata": {},
   "outputs": [],
   "source": [
    "# The pyFUME library doesn't atribute a universe of discourse to the linguistic variables it creates in simpful. In order to fix this, we set each universe considering the maximum\n",
    "# value heald by each dataframe column. This has to be done since, otherwise, the plotting functions won't work.\n",
    "\n",
    "for ix in range(len(var_names)):\n",
    "    max = maxs[ix]\n",
    "    min = mins[ix]\n",
    "    uod = [min, max]\n",
    "    model._lvs[var_names[ix]]._universe_of_discourse = uod"
   ]
  },
  {
   "cell_type": "code",
   "execution_count": 728,
   "metadata": {},
   "outputs": [
    {
     "data": {
      "text/plain": [
       "[[f.(c.(sex IS cluster1) AND f.(c.(cp IS cluster1) AND f.(c.(trtbps IS cluster1) AND f.(c.(chol IS cluster1) AND f.(c.(fbs IS cluster1) AND f.(c.(restecg IS cluster1) AND f.(c.(thalachh IS cluster1) AND f.(c.(exng IS cluster1) AND f.(c.(oldpeak IS cluster1) AND f.(c.(slp IS cluster1) AND f.(c.(caa IS cluster1) AND c.(thall IS cluster1)))))))))))),\n",
       "  ('OUTPUT', 'fun1')],\n",
       " [f.(c.(sex IS cluster2) AND f.(c.(cp IS cluster2) AND f.(c.(trtbps IS cluster2) AND f.(c.(chol IS cluster2) AND f.(c.(fbs IS cluster2) AND f.(c.(restecg IS cluster2) AND f.(c.(thalachh IS cluster2) AND f.(c.(exng IS cluster2) AND f.(c.(oldpeak IS cluster2) AND f.(c.(slp IS cluster2) AND f.(c.(caa IS cluster2) AND c.(thall IS cluster2)))))))))))),\n",
       "  ('OUTPUT', 'fun2')]]"
      ]
     },
     "execution_count": 728,
     "metadata": {},
     "output_type": "execute_result"
    }
   ],
   "source": [
    "model._rules"
   ]
  },
  {
   "cell_type": "code",
   "execution_count": 729,
   "metadata": {},
   "outputs": [],
   "source": [
    "#model.produce_figure(\"\",2)"
   ]
  },
  {
   "cell_type": "markdown",
   "metadata": {},
   "source": [
    "## Converting the model to X"
   ]
  },
  {
   "cell_type": "markdown",
   "metadata": {},
   "source": [
    "#### More functions"
   ]
  },
  {
   "cell_type": "code",
   "execution_count": 730,
   "metadata": {},
   "outputs": [],
   "source": [
    "def UODtoX(model, stats):\n",
    "    uods = {}\n",
    "    for lv in model._lvs:\n",
    "        data = stats[stats['Feature'] == lv]\n",
    "        mean = data.iloc[0,1]\n",
    "        std = data.iloc[0,2] ** 0.5\n",
    "        uod = model._lvs[lv]._universe_of_discourse\n",
    "        for i in range(2):\n",
    "            uod[i] = uod[i] * std + mean\n",
    "        uods[lv] = uod\n",
    "    return uods"
   ]
  },
  {
   "cell_type": "code",
   "execution_count": 731,
   "metadata": {},
   "outputs": [],
   "source": [
    "class XMF:\n",
    "\n",
    "    def __init__(self, uod, data, mu, sigma):\n",
    "        self.uod = uod\n",
    "        self.mean = data.iloc[0,1]\n",
    "        self.std = data.iloc[0,2] ** 0.5\n",
    "        self.mu = mu\n",
    "        self.sigma = sigma\n",
    "\n",
    "    def __call__(self, x):\n",
    "        #x = (x - self.mean) / self.std # X to Z\n",
    "        x = gaussian(x, self.mu, self.sigma, self.mean, self.std) # Z to MF\n",
    "        \n",
    "        return x"
   ]
  },
  {
   "cell_type": "code",
   "execution_count": 732,
   "metadata": {},
   "outputs": [],
   "source": [
    "def newMFS(model, stats, uods):\n",
    "    MFS = {}\n",
    "    for lv in model._lvs:\n",
    "        fs = []\n",
    "        data = stats[stats['Feature'] == lv]\n",
    "        uod = uods[lv]\n",
    "        for clust in range(len(model._lvs[lv]._FSlist)):\n",
    "            mu = model._lvs[lv]._FSlist[clust]._funpointer._mu\n",
    "            sigma = model._lvs[lv]._FSlist[clust]._funpointer._sigma\n",
    "            fs.append(XMF(uod, data, mu, sigma))\n",
    "        MFS[lv] = fs\n",
    "    return MFS"
   ]
  },
  {
   "cell_type": "code",
   "execution_count": 733,
   "metadata": {},
   "outputs": [],
   "source": [
    "def plotMFs(mfs, var):\n",
    "    mfs = mfs[var]\n",
    "    x = np.linspace(mfs[0].uod[0], mfs[0].uod[1], 100)\n",
    "    for i in range(len(mfs)):\n",
    "        y = [mfs[i](j) for j in x]\n",
    "        plt.plot(x, y)"
   ]
  },
  {
   "cell_type": "code",
   "execution_count": 734,
   "metadata": {},
   "outputs": [],
   "source": [
    "def FunctionstoX(model, stats):\n",
    "    final_df = pd.DataFrame(columns = var_names+['constant'])\n",
    "\n",
    "    for f in model._outputfunctions:\n",
    "        acumulated = 0 # value to be added to the intercept in the end\n",
    "        expression = model._outputfunctions[f]\n",
    "        item_list = expression.split('+')\n",
    "\n",
    "        for k in range(len(item_list) - 1):\n",
    "            item_list[k] = item_list[k].split('*')\n",
    "            values = stats[stats['Feature'] == item_list[k][1]]\n",
    "            std = values.iloc[0,2] ** 0.5\n",
    "            mean = values.iloc[0,1]\n",
    "            acumulated -= float(item_list[k][0]) * mean / (std) \n",
    "            item_list[k] = float(item_list[k][0]) / (std) \n",
    "            \n",
    "        item_list[-1] = float(item_list[-1]) + acumulated\n",
    "        final_df = pd.concat([final_df,pd.DataFrame([item_list], columns = var_names+['constant'])], axis = 0)\n",
    "        final_df.reset_index(drop=True, inplace=True)\n",
    "    return final_df"
   ]
  },
  {
   "cell_type": "code",
   "execution_count": 735,
   "metadata": {},
   "outputs": [
    {
     "data": {
      "text/plain": [
       "'\\ndef inference(X_test, mfs, consequents):\\n    X = X_test.copy()\\n    for i in range(best_number):\\n        X[i] = Revert(X[i], stats)\\n    y = [] # dim 1: weighted sum of the consequents for each cluster\\n    dim = X.shape[1]\\n    for i in range(X.shape[0]):\\n        membership_list = [] # member ship values for a certain observation. dim 1: var, dim 2: clust\\n        for k in range(dim):\\n            temp_list = [] # membership values for a certain variable. dim 1: clust\\n            for clust in range(best_number):\\n                temp_list.append(mfs[var_names[k]][clust](X[i,k]))\\n            membership_list.append(temp_list)\\n        acumulated = 0\\n        for h in range(best_number):\\n            for j in range(dim):\\n                acumulated += membership_list[j][h] * consequents.iloc[h,j] * X[i,j]\\n            acumulated += consequents.iloc[h,-1]\\n        y.append(acumulated)\\n\\n    return np.array(y) # dim 1: observationm dim 2: clust'"
      ]
     },
     "execution_count": 735,
     "metadata": {},
     "output_type": "execute_result"
    }
   ],
   "source": [
    "\"\"\"\n",
    "def inference(X_test, mfs, consequents):\n",
    "    X = X_test.copy()\n",
    "    for i in range(best_number):\n",
    "        X[i] = Revert(X[i], stats)\n",
    "    y = [] # dim 1: weighted sum of the consequents for each cluster\n",
    "    dim = X.shape[1]\n",
    "    for i in range(X.shape[0]):\n",
    "        membership_list = [] # member ship values for a certain observation. dim 1: var, dim 2: clust\n",
    "        for k in range(dim):\n",
    "            temp_list = [] # membership values for a certain variable. dim 1: clust\n",
    "            for clust in range(best_number):\n",
    "                temp_list.append(mfs[var_names[k]][clust](X[i,k]))\n",
    "            membership_list.append(temp_list)\n",
    "        acumulated = 0\n",
    "        for h in range(best_number):\n",
    "            for j in range(dim):\n",
    "                acumulated += membership_list[j][h] * consequents.iloc[h,j] * X[i,j]\n",
    "            acumulated += consequents.iloc[h,-1]\n",
    "        y.append(acumulated)\n",
    "\n",
    "    return np.array(y) # dim 1: observationm dim 2: clust\"\"\""
   ]
  },
  {
   "cell_type": "code",
   "execution_count": 736,
   "metadata": {},
   "outputs": [],
   "source": [
    "def inference(X_test, mfs, consequents):\n",
    "    X = X_test.copy()\n",
    "    for i in range(best_number):\n",
    "        X[i] = Revert(X[i], stats)\n",
    "    y = [] # dim 1: weighted sum of the consequents for each cluster\n",
    "    dim = X.shape[1]\n",
    "    for i in range(X.shape[0]):\n",
    "        membership_list = []\n",
    "        for k in range(dim):\n",
    "            temp_list = [] # membership values for a certain variable. dim 1: clust\n",
    "            for clust in range(best_number):\n",
    "                temp_list.append(mfs[var_names[k]][clust](X[i,k]))\n",
    "            membership_list.append(temp_list)\n",
    "        membership_list = np.transpose(np.array(membership_list)) # membership values for a certain observation. dim 1: clust, dim 2: var\n",
    "        acumulated = 0\n",
    "        firing_strengths = 0\n",
    "        for h in range(best_number):\n",
    "            linear_sum = 0\n",
    "            for j in range(dim):\n",
    "                linear_sum += consequents.iloc[h,j] * X[i,j]\n",
    "            linear_sum += consequents.iloc[h,-1] # output of the linear function of cluster h\n",
    "            acumulated += linear_sum * np.min(membership_list[h]) \n",
    "            firing_strengths += np.min(membership_list[h])\n",
    "        acumulated = np.array(acumulated) / firing_strengths\n",
    "        y.append(acumulated.tolist())\n",
    "\n",
    "    return np.array(y) # dim 1: observation"
   ]
  },
  {
   "cell_type": "markdown",
   "metadata": {},
   "source": [
    "#### Code"
   ]
  },
  {
   "cell_type": "code",
   "execution_count": 737,
   "metadata": {},
   "outputs": [],
   "source": [
    "uods = UODtoX(model, stats)\n",
    "mfs = newMFS(model, stats, uods)\n",
    "consequents = FunctionstoX(model, stats)\n",
    "#uods"
   ]
  },
  {
   "cell_type": "code",
   "execution_count": 738,
   "metadata": {},
   "outputs": [
    {
     "data": {
      "text/html": [
       "<div>\n",
       "<style scoped>\n",
       "    .dataframe tbody tr th:only-of-type {\n",
       "        vertical-align: middle;\n",
       "    }\n",
       "\n",
       "    .dataframe tbody tr th {\n",
       "        vertical-align: top;\n",
       "    }\n",
       "\n",
       "    .dataframe thead th {\n",
       "        text-align: right;\n",
       "    }\n",
       "</style>\n",
       "<table border=\"1\" class=\"dataframe\">\n",
       "  <thead>\n",
       "    <tr style=\"text-align: right;\">\n",
       "      <th></th>\n",
       "      <th>sex</th>\n",
       "      <th>cp</th>\n",
       "      <th>trtbps</th>\n",
       "      <th>chol</th>\n",
       "      <th>fbs</th>\n",
       "      <th>restecg</th>\n",
       "      <th>thalachh</th>\n",
       "      <th>exng</th>\n",
       "      <th>oldpeak</th>\n",
       "      <th>slp</th>\n",
       "      <th>caa</th>\n",
       "      <th>thall</th>\n",
       "    </tr>\n",
       "  </thead>\n",
       "  <tbody>\n",
       "    <tr>\n",
       "      <th>0</th>\n",
       "      <td>0.535891</td>\n",
       "      <td>1.048767</td>\n",
       "      <td>129.273718</td>\n",
       "      <td>238.102339</td>\n",
       "      <td>0.156998</td>\n",
       "      <td>0.529879</td>\n",
       "      <td>152.387061</td>\n",
       "      <td>0.328627</td>\n",
       "      <td>0.949663</td>\n",
       "      <td>1.396506</td>\n",
       "      <td>0.813488</td>\n",
       "      <td>2.310611</td>\n",
       "    </tr>\n",
       "    <tr>\n",
       "      <th>1</th>\n",
       "      <td>0.520055</td>\n",
       "      <td>1.033615</td>\n",
       "      <td>129.998552</td>\n",
       "      <td>237.596319</td>\n",
       "      <td>0.171278</td>\n",
       "      <td>0.515875</td>\n",
       "      <td>153.191439</td>\n",
       "      <td>0.333230</td>\n",
       "      <td>0.947798</td>\n",
       "      <td>1.410988</td>\n",
       "      <td>0.764924</td>\n",
       "      <td>2.300616</td>\n",
       "    </tr>\n",
       "  </tbody>\n",
       "</table>\n",
       "</div>"
      ],
      "text/plain": [
       "        sex        cp      trtbps        chol       fbs   restecg    thalachh  \\\n",
       "0  0.535891  1.048767  129.273718  238.102339  0.156998  0.529879  152.387061   \n",
       "1  0.520055  1.033615  129.998552  237.596319  0.171278  0.515875  153.191439   \n",
       "\n",
       "       exng   oldpeak       slp       caa     thall  \n",
       "0  0.328627  0.949663  1.396506  0.813488  2.310611  \n",
       "1  0.333230  0.947798  1.410988  0.764924  2.300616  "
      ]
     },
     "execution_count": 738,
     "metadata": {},
     "output_type": "execute_result"
    }
   ],
   "source": [
    "for i in range(best_number):\n",
    "    clust_centers[i] = Revert(clust_centers[i], stats)\n",
    "clust_centers = pd.DataFrame(clust_centers, columns = var_names)\n",
    "clust_centers"
   ]
  },
  {
   "cell_type": "code",
   "execution_count": 739,
   "metadata": {},
   "outputs": [
    {
     "data": {
      "image/png": "[encoded data removed]",
      "text/plain": [
       "<Figure size 640x480 with 1 Axes>"
      ]
     },
     "metadata": {},
     "output_type": "display_data"
    }
   ],
   "source": [
    "plotMFs(mfs, 'chol')"
   ]
  },
  {
   "cell_type": "code",
   "execution_count": 740,
   "metadata": {},
   "outputs": [
    {
     "data": {
      "text/html": [
       "<div>\n",
       "<style scoped>\n",
       "    .dataframe tbody tr th:only-of-type {\n",
       "        vertical-align: middle;\n",
       "    }\n",
       "\n",
       "    .dataframe tbody tr th {\n",
       "        vertical-align: top;\n",
       "    }\n",
       "\n",
       "    .dataframe thead th {\n",
       "        text-align: right;\n",
       "    }\n",
       "</style>\n",
       "<table border=\"1\" class=\"dataframe\">\n",
       "  <thead>\n",
       "    <tr style=\"text-align: right;\">\n",
       "      <th></th>\n",
       "      <th>sex</th>\n",
       "      <th>cp</th>\n",
       "      <th>trtbps</th>\n",
       "      <th>chol</th>\n",
       "      <th>fbs</th>\n",
       "      <th>restecg</th>\n",
       "      <th>thalachh</th>\n",
       "      <th>exng</th>\n",
       "      <th>oldpeak</th>\n",
       "      <th>slp</th>\n",
       "      <th>caa</th>\n",
       "      <th>thall</th>\n",
       "      <th>constant</th>\n",
       "    </tr>\n",
       "  </thead>\n",
       "  <tbody>\n",
       "    <tr>\n",
       "      <th>0</th>\n",
       "      <td>-0.221388</td>\n",
       "      <td>0.071109</td>\n",
       "      <td>-0.001774</td>\n",
       "      <td>-0.000914</td>\n",
       "      <td>0.112934</td>\n",
       "      <td>0.027422</td>\n",
       "      <td>0.003407</td>\n",
       "      <td>-0.197853</td>\n",
       "      <td>-0.022418</td>\n",
       "      <td>0.145599</td>\n",
       "      <td>-0.166628</td>\n",
       "      <td>-0.154736</td>\n",
       "      <td>0.837765</td>\n",
       "    </tr>\n",
       "    <tr>\n",
       "      <th>1</th>\n",
       "      <td>-0.239975</td>\n",
       "      <td>0.088657</td>\n",
       "      <td>-0.003002</td>\n",
       "      <td>-0.000251</td>\n",
       "      <td>0.106739</td>\n",
       "      <td>0.059760</td>\n",
       "      <td>0.003106</td>\n",
       "      <td>-0.107158</td>\n",
       "      <td>-0.085433</td>\n",
       "      <td>0.084474</td>\n",
       "      <td>-0.086977</td>\n",
       "      <td>-0.144231</td>\n",
       "      <td>0.974374</td>\n",
       "    </tr>\n",
       "  </tbody>\n",
       "</table>\n",
       "</div>"
      ],
      "text/plain": [
       "        sex        cp    trtbps      chol       fbs   restecg  thalachh  \\\n",
       "0 -0.221388  0.071109 -0.001774 -0.000914  0.112934  0.027422  0.003407   \n",
       "1 -0.239975  0.088657 -0.003002 -0.000251  0.106739  0.059760  0.003106   \n",
       "\n",
       "       exng   oldpeak       slp       caa     thall  constant  \n",
       "0 -0.197853 -0.022418  0.145599 -0.166628 -0.154736  0.837765  \n",
       "1 -0.107158 -0.085433  0.084474 -0.086977 -0.144231  0.974374  "
      ]
     },
     "execution_count": 740,
     "metadata": {},
     "output_type": "execute_result"
    }
   ],
   "source": [
    "consequents"
   ]
  },
  {
   "cell_type": "code",
   "execution_count": 741,
   "metadata": {},
   "outputs": [
    {
     "data": {
      "text/plain": [
       "array([-0.05434218,  0.24598495,  1.22133428,  0.71628398,  1.87512832,\n",
       "        1.1408093 ,  1.08310356,  0.13883983,  0.14658059,  0.72292305,\n",
       "        1.15679046,  0.38514643,  1.16636618,  0.61739554,  1.68481364,\n",
       "        1.15729598,  1.63229421, -0.06907483,  0.11050245,  0.2117895 ,\n",
       "        0.79261867,  0.3789787 ,  0.86199573,  1.4492678 ,  1.49476846,\n",
       "        0.84879993,  0.04685108,  0.73709651,  0.1756783 ,  1.49113131,\n",
       "        0.3285997 ,  0.24577786,  0.99818704,  0.36271099,  1.34107867,\n",
       "        0.27159485,  1.14349362,  1.38927858,  0.74408003,  0.99406418,\n",
       "        0.87656726,  0.92463289,  1.38624287,  0.85702022,  0.93710125,\n",
       "        1.31893547,  1.3138726 ,  1.49890918,  1.23062961,  0.16714384,\n",
       "        0.49669836, -0.08229486,  1.26958229,  1.67078505,  0.30946521,\n",
       "        0.50097556, -0.15171625,  1.2635008 ,  0.56199655,  0.77819382,\n",
       "        0.89359185])"
      ]
     },
     "execution_count": 741,
     "metadata": {},
     "output_type": "execute_result"
    }
   ],
   "source": [
    "inference(X_test, mfs, consequents)"
   ]
  },
  {
   "cell_type": "code",
   "execution_count": 742,
   "metadata": {},
   "outputs": [
    {
     "data": {
      "text/plain": [
       "array([0.        , 0.24598495, 0.76467843, 0.10508404, 0.98962912,\n",
       "       0.83228189, 0.59169818, 0.        , 0.        , 0.42766811,\n",
       "       0.69895176, 0.16896462, 0.80132394, 0.23544859, 1.        ,\n",
       "       0.88283876, 1.        , 0.        , 0.        , 0.        ,\n",
       "       0.51606149, 0.        , 0.36048288, 0.64432578, 0.85158342,\n",
       "       0.59994204, 0.        , 0.56734333, 0.        , 0.94530168,\n",
       "       0.        , 0.06977127, 0.57887775, 0.28494574, 0.63172849,\n",
       "       0.06876465, 0.73333776, 0.78344838, 0.64069411, 0.78336528,\n",
       "       0.45396162, 0.64658782, 0.82602537, 0.65766974, 0.70236615,\n",
       "       0.25309744, 0.81731832, 1.        , 0.35705635, 0.        ,\n",
       "       0.        , 0.        , 0.75247676, 1.        , 0.06913044,\n",
       "       0.28757104, 0.        , 0.91848686, 0.06120276, 0.54584354,\n",
       "       0.54686555])"
      ]
     },
     "execution_count": 742,
     "metadata": {},
     "output_type": "execute_result"
    }
   ],
   "source": [
    "a"
   ]
  },
  {
   "cell_type": "code",
   "execution_count": 743,
   "metadata": {},
   "outputs": [
    {
     "data": {
      "text/plain": [
       "array([ 0.73145871, -0.9664929 ,  0.07318899,  2.27401546, -0.39129279,\n",
       "        0.89002765, -0.79757941,  1.51702665,  0.21132583, -0.68470669,\n",
       "        0.33330663,  1.14050171])"
      ]
     },
     "execution_count": 743,
     "metadata": {},
     "output_type": "execute_result"
    }
   ],
   "source": [
    "X_test[0]"
   ]
  }
 ],
 "metadata": {
  "kernelspec": {
   "display_name": "base",
   "language": "python",
   "name": "python3"
  },
  "language_info": {
   "codemirror_mode": {
    "name": "ipython",
    "version": 3
   },
   "file_extension": ".py",
   "mimetype": "text/x-python",
   "name": "python",
   "nbconvert_exporter": "python",
   "pygments_lexer": "ipython3",
   "version": "3.12.2"
  }
 },
 "nbformat": 4,
 "nbformat_minor": 2
}
