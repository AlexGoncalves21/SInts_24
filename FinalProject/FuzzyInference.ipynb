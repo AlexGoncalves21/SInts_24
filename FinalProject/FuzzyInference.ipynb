{
 "cells": [
  {
   "cell_type": "markdown",
   "metadata": {},
   "source": [
    "## Importing Data and Libraries"
   ]
  },
  {
   "cell_type": "code",
   "execution_count": 1645,
   "metadata": {},
   "outputs": [],
   "source": [
    "import pandas as pd\n",
    "import numpy as np\n",
    "import matplotlib.pyplot as plt\n",
    "from pyfume.Clustering import Clusterer\n",
    "from pyfume.EstimateAntecendentSet import AntecedentEstimator\n",
    "from pyfume.EstimateConsequentParameters import ConsequentEstimator\n",
    "from pyfume.SimpfulModelBuilder import SugenoFISBuilder\n",
    "from pyfume.Tester import SugenoFISTester\n",
    "from sklearn.metrics import accuracy_score, recall_score, precision_score, f1_score, cohen_kappa_score\n",
    "from numpy import clip, column_stack, argmax\n",
    "from scipy.spatial import distance\n",
    "from scipy.spatial.distance import cdist\n",
    "from sklearn.metrics import silhouette_score\n",
    "import warnings\n",
    "\n",
    "warnings.simplefilter(action='ignore', category=FutureWarning)"
   ]
  },
  {
   "cell_type": "code",
   "execution_count": 1646,
   "metadata": {},
   "outputs": [
    {
     "data": {
      "text/plain": [
       "((241, 12), (61, 12), (241,), (61,))"
      ]
     },
     "execution_count": 1646,
     "metadata": {},
     "output_type": "execute_result"
    }
   ],
   "source": [
    "Train = pd.read_csv('dataTrain.csv')\n",
    "Test = pd.read_csv('dataTest.csv')\n",
    "\n",
    "stats = pd.read_csv('stats.csv')\n",
    "stats = stats.iloc[:,1:]\n",
    "\n",
    "X_train = Train.drop('output', axis=1)\n",
    "y_train = Train['output']\n",
    "\n",
    "X_test = Test.drop('output', axis=1)\n",
    "y_test = Test['output']\n",
    "\n",
    "maxs = X_train.max().tolist()\n",
    "mins = X_train.min().tolist()\n",
    "\n",
    "var_names = X_train.columns.to_list()\n",
    "X_train.shape, X_test.shape, y_train.shape, y_test.shape"
   ]
  },
  {
   "cell_type": "code",
   "execution_count": 1647,
   "metadata": {},
   "outputs": [
    {
     "data": {
      "text/html": [
       "<div>\n",
       "<style scoped>\n",
       "    .dataframe tbody tr th:only-of-type {\n",
       "        vertical-align: middle;\n",
       "    }\n",
       "\n",
       "    .dataframe tbody tr th {\n",
       "        vertical-align: top;\n",
       "    }\n",
       "\n",
       "    .dataframe thead th {\n",
       "        text-align: right;\n",
       "    }\n",
       "</style>\n",
       "<table border=\"1\" class=\"dataframe\">\n",
       "  <thead>\n",
       "    <tr style=\"text-align: right;\">\n",
       "      <th></th>\n",
       "      <th>Feature</th>\n",
       "      <th>Mean</th>\n",
       "      <th>Variance</th>\n",
       "    </tr>\n",
       "  </thead>\n",
       "  <tbody>\n",
       "    <tr>\n",
       "      <th>0</th>\n",
       "      <td>age</td>\n",
       "      <td>54.373444</td>\n",
       "      <td>83.926930</td>\n",
       "    </tr>\n",
       "    <tr>\n",
       "      <th>1</th>\n",
       "      <td>sex</td>\n",
       "      <td>0.651452</td>\n",
       "      <td>0.227062</td>\n",
       "    </tr>\n",
       "    <tr>\n",
       "      <th>2</th>\n",
       "      <td>cp</td>\n",
       "      <td>1.000000</td>\n",
       "      <td>1.070539</td>\n",
       "    </tr>\n",
       "    <tr>\n",
       "      <th>3</th>\n",
       "      <td>trtbps</td>\n",
       "      <td>130.784232</td>\n",
       "      <td>275.936847</td>\n",
       "    </tr>\n",
       "    <tr>\n",
       "      <th>4</th>\n",
       "      <td>chol</td>\n",
       "      <td>245.033195</td>\n",
       "      <td>2254.206367</td>\n",
       "    </tr>\n",
       "    <tr>\n",
       "      <th>5</th>\n",
       "      <td>fbs</td>\n",
       "      <td>0.132780</td>\n",
       "      <td>0.115150</td>\n",
       "    </tr>\n",
       "    <tr>\n",
       "      <th>6</th>\n",
       "      <td>restecg</td>\n",
       "      <td>0.526971</td>\n",
       "      <td>0.282468</td>\n",
       "    </tr>\n",
       "    <tr>\n",
       "      <th>7</th>\n",
       "      <td>thalachh</td>\n",
       "      <td>149.759336</td>\n",
       "      <td>495.798927</td>\n",
       "    </tr>\n",
       "    <tr>\n",
       "      <th>8</th>\n",
       "      <td>exng</td>\n",
       "      <td>0.302905</td>\n",
       "      <td>0.211153</td>\n",
       "    </tr>\n",
       "    <tr>\n",
       "      <th>9</th>\n",
       "      <td>oldpeak</td>\n",
       "      <td>0.978423</td>\n",
       "      <td>1.099368</td>\n",
       "    </tr>\n",
       "    <tr>\n",
       "      <th>10</th>\n",
       "      <td>slp</td>\n",
       "      <td>1.414938</td>\n",
       "      <td>0.367246</td>\n",
       "    </tr>\n",
       "    <tr>\n",
       "      <th>11</th>\n",
       "      <td>caa</td>\n",
       "      <td>0.672199</td>\n",
       "      <td>0.967235</td>\n",
       "    </tr>\n",
       "    <tr>\n",
       "      <th>12</th>\n",
       "      <td>thall</td>\n",
       "      <td>2.323651</td>\n",
       "      <td>0.351681</td>\n",
       "    </tr>\n",
       "  </tbody>\n",
       "</table>\n",
       "</div>"
      ],
      "text/plain": [
       "     Feature        Mean     Variance\n",
       "0        age   54.373444    83.926930\n",
       "1        sex    0.651452     0.227062\n",
       "2         cp    1.000000     1.070539\n",
       "3     trtbps  130.784232   275.936847\n",
       "4       chol  245.033195  2254.206367\n",
       "5        fbs    0.132780     0.115150\n",
       "6    restecg    0.526971     0.282468\n",
       "7   thalachh  149.759336   495.798927\n",
       "8       exng    0.302905     0.211153\n",
       "9    oldpeak    0.978423     1.099368\n",
       "10       slp    1.414938     0.367246\n",
       "11       caa    0.672199     0.967235\n",
       "12     thall    2.323651     0.351681"
      ]
     },
     "execution_count": 1647,
     "metadata": {},
     "output_type": "execute_result"
    }
   ],
   "source": [
    "stats"
   ]
  },
  {
   "cell_type": "code",
   "execution_count": 1648,
   "metadata": {},
   "outputs": [],
   "source": [
    "savecols = X_train.columns"
   ]
  },
  {
   "cell_type": "code",
   "execution_count": 1649,
   "metadata": {},
   "outputs": [],
   "source": [
    "X_train = X_train.to_numpy()\n",
    "X_test = X_test.to_numpy()\n",
    "y_train = y_train.array\n",
    "y_test = y_test.array"
   ]
  },
  {
   "cell_type": "markdown",
   "metadata": {},
   "source": [
    "## Building the model"
   ]
  },
  {
   "cell_type": "markdown",
   "metadata": {},
   "source": [
    "### Clustering"
   ]
  },
  {
   "cell_type": "markdown",
   "metadata": {},
   "source": [
    "In this section, we will try out different numbers of clusters in order to minimize the separation between clusters. "
   ]
  },
  {
   "cell_type": "markdown",
   "metadata": {},
   "source": [
    "#### Functions"
   ]
  },
  {
   "cell_type": "code",
   "execution_count": 1650,
   "metadata": {},
   "outputs": [],
   "source": [
    "def SeparationMetric(X_train, clust_centers, part_matrix):\n",
    "    metric = 0\n",
    "    for clust in range(clust_centers.shape[0]):\n",
    "        for point in range(X_train.shape[0]):\n",
    "            metric += part_matrix[point, clust] * distance.euclidean(X_train[point], clust_centers[clust])\n",
    "    return metric"
   ]
  },
  {
   "cell_type": "code",
   "execution_count": 1651,
   "metadata": {},
   "outputs": [],
   "source": [
    "def gaussian(x, mu, sig, mux, sigx):\n",
    "    mu = mux + sigx * mu\n",
    "    sig = sig * sigx\n",
    "    #return (1.0 / (np.sqrt(2.0 * np.pi) * sig) * np.exp(-np.power((x - mu) / sig, 2.0) / 2))\n",
    "    return (np.exp(-np.power((x - mu) / sig, 2.0) / 2))"
   ]
  },
  {
   "cell_type": "code",
   "execution_count": 1652,
   "metadata": {},
   "outputs": [],
   "source": [
    "def Revert(x, stats):\n",
    "    for i in range(x.shape[0]):\n",
    "        data = stats[stats['Feature'] == savecols[i]]\n",
    "        x[i] = x[i] * (data.iloc[0,2] ** 0.5) + data.iloc[0,1]\n",
    "    return x"
   ]
  },
  {
   "cell_type": "markdown",
   "metadata": {},
   "source": [
    "#### Code"
   ]
  },
  {
   "cell_type": "code",
   "execution_count": 1653,
   "metadata": {},
   "outputs": [
    {
     "data": {
      "text/plain": [
       "'\"\\nfor i in range(max_clusters):\\n    i += 1\\n    #clust_centers, part_matrix = Cluster(i)\\n    cl = Clusterer(x_train=X_train, y_train=y_train, nr_clus=i)\\n    clust_centers, part_matrix, _ = cl.cluster(method=selected_method)\\n    clust_centers = clust_centers[:,:-1]\\n    \\n    metric = SeparationMetric(X_train, clust_centers, part_matrix)\\n    if metric < min_metric:\\n        min_metric = metric\\n        best_number = i\\n\\nprint(f\\'Best number of clusters: {best_number}\\')'"
      ]
     },
     "execution_count": 1653,
     "metadata": {},
     "output_type": "execute_result"
    }
   ],
   "source": [
    "max_clusters = 10\n",
    "min_metric = np.inf\n",
    "selected_method = 'fst-pso' #'gk'\n",
    "\"\"\"\"\n",
    "for i in range(max_clusters):\n",
    "    i += 1\n",
    "    #clust_centers, part_matrix = Cluster(i)\n",
    "    cl = Clusterer(x_train=X_train, y_train=y_train, nr_clus=i)\n",
    "    clust_centers, part_matrix, _ = cl.cluster(method=selected_method)\n",
    "    clust_centers = clust_centers[:,:-1]\n",
    "    \n",
    "    metric = SeparationMetric(X_train, clust_centers, part_matrix)\n",
    "    if metric < min_metric:\n",
    "        min_metric = metric\n",
    "        best_number = i\n",
    "\n",
    "print(f'Best number of clusters: {best_number}')\"\"\""
   ]
  },
  {
   "cell_type": "code",
   "execution_count": 1654,
   "metadata": {},
   "outputs": [
    {
     "name": "stdout",
     "output_type": "stream",
     "text": [
      "Fuzzy Self-Tuning PSO - v1.8.1\n",
      " * Max distance: 18.910044\n",
      " * Search space boundaries set to: [[-1.3671311638052943, 0.7314587118448709], [-1.3671311638052943, 0.7314587118448709], [-0.9664929007146316, 1.9329858014292631], [-0.9664929007146316, 1.9329858014292631], [-2.2144039565795786, 2.3607819282158617], [-2.2144039565795786, 2.3607819282158617], [-2.401786816576483, 2.568885877536174], [-2.401786816576483, 2.568885877536174], [-0.3912927904356147, 2.555631037532609], [-0.3912927904356147, 2.555631037532609], [-0.9915220285980402, 2.771577324033892], [-0.9915220285980402, 2.771577324033892], [-2.5715413778467515, 2.3461506537983703], [-2.5715413778467515, 2.3461506537983703], [-0.6591841999955774, 1.5170266520446165], [-0.6591841999955774, 1.5170266520446165], [-0.9331578631464132, 2.8817877690552076], [-0.9331578631464132, 2.8817877690552076], [-2.334849818633804, 0.965436435270869], [-2.334849818633804, 0.965436435270869], [-0.6834895479753919, 3.3836951696065687], [-0.6834895479753919, 3.3836951696065687], [-3.9182880820805015, 1.1405017096055745], [-3.9182880820805015, 1.1405017096055745], [0.0, 1.0], [0.0, 1.0]]\n",
      " * Max velocities set to: [2.0985898756501653, 2.0985898756501653, 2.899478702143895, 2.899478702143895, 4.57518588479544, 4.57518588479544, 4.970672694112657, 4.970672694112657, 2.9469238279682237, 2.9469238279682237, 3.763099352631932, 3.763099352631932, 4.917692031645122, 4.917692031645122, 2.176210852040194, 2.176210852040194, 3.8149456322016206, 3.8149456322016206, 3.300286253904673, 3.300286253904673, 4.06718471758196, 4.06718471758196, 5.058789791686076, 5.058789791686076, 1.0, 1.0]\n",
      " * Number of particles automatically set to 20\n",
      " * Fuzzy rules for minimum velocity cap DISABLED\n",
      " * 20 particles created.\n",
      " * FST-PSO will now assess the local and global best particles.\n",
      " * Estimated worst fitness: 12532.881\n",
      " * New best particle in the swarm is #0 with fitness 11062.773553 (it: 0).\n",
      " * New best particle in the swarm is #1 with fitness 8405.891950 (it: 0).\n",
      " * New best particle in the swarm is #3 with fitness 8139.281990 (it: 0).\n",
      " * New best particle in the swarm is #15 with fitness 7211.236577 (it: 0).\n",
      "\n",
      " *** All prepared, launching optimization ***\n",
      " * New best particle in the swarm is #0 with fitness 6869.712216 (it: 0).\n",
      " * New best particle in the swarm is #3 with fitness 6164.699285 (it: 0).\n",
      " * New best particle in the swarm is #12 with fitness 5817.236010 (it: 0).\n",
      " * New best particle in the swarm is #0 with fitness 5343.146943 (it: 1).\n",
      " * New best particle in the swarm is #6 with fitness 5199.896284 (it: 1).\n",
      " * New best particle in the swarm is #10 with fitness 4966.312599 (it: 1).\n",
      " * New best particle in the swarm is #19 with fitness 4864.914221 (it: 1).\n",
      " * New best particle in the swarm is #12 with fitness 4561.811913 (it: 2).\n",
      " * New best particle in the swarm is #14 with fitness 4525.311687 (it: 4).\n",
      " * New best particle in the swarm is #16 with fitness 4341.665595 (it: 4).\n",
      " * New best particle in the swarm is #1 with fitness 4273.921008 (it: 5).\n",
      " * New best particle in the swarm is #2 with fitness 4186.767972 (it: 5).\n",
      " * New best particle in the swarm is #18 with fitness 4165.801530 (it: 6).\n",
      " * New best particle in the swarm is #7 with fitness 4150.362148 (it: 7).\n",
      " * New best particle in the swarm is #19 with fitness 4028.482196 (it: 7).\n",
      " * New best particle in the swarm is #12 with fitness 3899.817558 (it: 8).\n",
      " * New best particle in the swarm is #0 with fitness 3772.423786 (it: 9).\n",
      " * 11th iteration out of 100 completed. [###                           ]\n",
      " * New best particle in the swarm is #0 with fitness 3710.659974 (it: 11).\n",
      " * New best particle in the swarm is #12 with fitness 3682.990022 (it: 11).\n",
      " * 12th iteration out of 100 completed. [###                           ]\n",
      " * New best particle in the swarm is #2 with fitness 3659.382589 (it: 13).\n",
      " * New best particle in the swarm is #11 with fitness 3611.168682 (it: 13).\n",
      " * 14th iteration out of 100 completed. [####                          ]\n",
      " * New best particle in the swarm is #5 with fitness 3573.550349 (it: 14).\n",
      " * New best particle in the swarm is #0 with fitness 3490.590278 (it: 15).\n",
      " * 16th iteration out of 100 completed. [####                          ]\n",
      " * New best particle in the swarm is #14 with fitness 3456.140701 (it: 16).\n",
      " * New best particle in the swarm is #19 with fitness 3438.850627 (it: 16).\n",
      " * New best particle in the swarm is #19 with fitness 3386.398255 (it: 18).\n",
      " * 20th iteration out of 100 completed. [######                        ]\n",
      " * New best particle in the swarm is #13 with fitness 3379.719870 (it: 20).\n",
      " * New best particle in the swarm is #2 with fitness 3365.687348 (it: 21).\n",
      " * New best particle in the swarm is #2 with fitness 3317.187185 (it: 23).\n",
      " * New best particle in the swarm is #15 with fitness 3299.519978 (it: 24).\n",
      " * 25th iteration out of 100 completed. [#######                       ]\n",
      " * New best particle in the swarm is #19 with fitness 3243.776926 (it: 25).\n",
      " * New best particle in the swarm is #2 with fitness 3239.162839 (it: 26).\n",
      " * New best particle in the swarm is #2 with fitness 3236.660179 (it: 28).\n",
      " * New best particle in the swarm is #2 with fitness 3228.717505 (it: 30).\n",
      " * New best particle in the swarm is #10 with fitness 3202.566628 (it: 31).\n",
      " * 33th iteration out of 100 completed. [#########                     ]\n",
      " * New best particle in the swarm is #10 with fitness 3173.404867 (it: 33).\n",
      " * New best particle in the swarm is #4 with fitness 3160.819457 (it: 35).\n",
      " * New best particle in the swarm is #12 with fitness 3143.579652 (it: 37).\n",
      " * New best particle in the swarm is #18 with fitness 3134.519064 (it: 37).\n",
      " * New best particle in the swarm is #18 with fitness 3123.100236 (it: 39).\n",
      " * New best particle in the swarm is #4 with fitness 3122.339905 (it: 42).\n",
      " * New best particle in the swarm is #7 with fitness 3121.690141 (it: 45).\n",
      " * New best particle in the swarm is #17 with fitness 3120.163256 (it: 45).\n",
      " * New best particle in the swarm is #2 with fitness 3101.370653 (it: 46).\n",
      " * New best particle in the swarm is #12 with fitness 3097.134656 (it: 49).\n",
      " * 50th iteration out of 100 completed. [###############               ]\n",
      " * New best particle in the swarm is #7 with fitness 3093.357761 (it: 50).\n",
      " * New best particle in the swarm is #14 with fitness 3093.268803 (it: 50).\n",
      " * New best particle in the swarm is #4 with fitness 3090.400774 (it: 52).\n",
      " * New best particle in the swarm is #4 with fitness 3079.310374 (it: 55).\n",
      " * New best particle in the swarm is #4 with fitness 3072.991322 (it: 58).\n",
      " * New best particle in the swarm is #18 with fitness 3052.080115 (it: 58).\n",
      " * New best particle in the swarm is #19 with fitness 3049.645141 (it: 61).\n",
      " * New best particle in the swarm is #19 with fitness 3043.934465 (it: 63).\n",
      " * New best particle in the swarm is #14 with fitness 3042.184574 (it: 64).\n",
      " * New best particle in the swarm is #8 with fitness 3036.917513 (it: 73).\n",
      " * New best particle in the swarm is #8 with fitness 3036.533680 (it: 76).\n",
      " * New best particle in the swarm is #11 with fitness 3035.490256 (it: 76).\n",
      " * New best particle in the swarm is #11 with fitness 3033.601136 (it: 79).\n",
      " * New best particle in the swarm is #11 with fitness 3032.475513 (it: 81).\n",
      " * New best particle in the swarm is #11 with fitness 3031.368059 (it: 83).\n",
      " * New best particle in the swarm is #11 with fitness 3029.470336 (it: 85).\n",
      " * New best particle in the swarm is #9 with fitness 3024.578291 (it: 86).\n",
      " * New best particle in the swarm is #19 with fitness 3023.744276 (it: 95).\n",
      " * New best particle in the swarm is #17 with fitness 3021.268462 (it: 98).\n",
      " * 100th iteration out of 100 completed. [##############################]\n",
      " * New best particle in the swarm is #19 with fitness 3019.229968 (it: 100).\n"
     ]
    },
    {
     "data": {
      "text/plain": [
       "((2, 12), (241, 2))"
      ]
     },
     "execution_count": 1654,
     "metadata": {},
     "output_type": "execute_result"
    }
   ],
   "source": [
    "best_number = 2   # TIRAR\n",
    "\n",
    "#clust_centers, part_matrix = Cluster(best_number)\n",
    "cl = Clusterer(x_train=X_train, y_train=y_train, nr_clus = best_number)\n",
    "clust_centers, part_matrix, _ = cl.cluster(method=selected_method, m = 0.99)\n",
    "clust_centers = clust_centers[:,:-1]\n",
    "clust_centers.shape, part_matrix.shape"
   ]
  },
  {
   "cell_type": "code",
   "execution_count": 1655,
   "metadata": {},
   "outputs": [
    {
     "data": {
      "text/html": [
       "<div>\n",
       "<style scoped>\n",
       "    .dataframe tbody tr th:only-of-type {\n",
       "        vertical-align: middle;\n",
       "    }\n",
       "\n",
       "    .dataframe tbody tr th {\n",
       "        vertical-align: top;\n",
       "    }\n",
       "\n",
       "    .dataframe thead th {\n",
       "        text-align: right;\n",
       "    }\n",
       "</style>\n",
       "<table border=\"1\" class=\"dataframe\">\n",
       "  <thead>\n",
       "    <tr style=\"text-align: right;\">\n",
       "      <th></th>\n",
       "      <th>sex</th>\n",
       "      <th>cp</th>\n",
       "      <th>trtbps</th>\n",
       "      <th>chol</th>\n",
       "      <th>fbs</th>\n",
       "      <th>restecg</th>\n",
       "      <th>thalachh</th>\n",
       "      <th>exng</th>\n",
       "      <th>oldpeak</th>\n",
       "      <th>slp</th>\n",
       "      <th>caa</th>\n",
       "      <th>thall</th>\n",
       "    </tr>\n",
       "  </thead>\n",
       "  <tbody>\n",
       "    <tr>\n",
       "      <th>0</th>\n",
       "      <td>0.077870</td>\n",
       "      <td>-0.117099</td>\n",
       "      <td>0.108471</td>\n",
       "      <td>0.002416</td>\n",
       "      <td>0.021666</td>\n",
       "      <td>-0.109519</td>\n",
       "      <td>0.273153</td>\n",
       "      <td>-0.001954</td>\n",
       "      <td>0.112422</td>\n",
       "      <td>-0.061885</td>\n",
       "      <td>-0.063797</td>\n",
       "      <td>0.079608</td>\n",
       "    </tr>\n",
       "    <tr>\n",
       "      <th>1</th>\n",
       "      <td>0.058902</td>\n",
       "      <td>-0.166997</td>\n",
       "      <td>0.088202</td>\n",
       "      <td>0.016622</td>\n",
       "      <td>0.040259</td>\n",
       "      <td>-0.049815</td>\n",
       "      <td>0.207571</td>\n",
       "      <td>-0.042893</td>\n",
       "      <td>0.013469</td>\n",
       "      <td>-0.109517</td>\n",
       "      <td>-0.082172</td>\n",
       "      <td>0.141742</td>\n",
       "    </tr>\n",
       "  </tbody>\n",
       "</table>\n",
       "</div>"
      ],
      "text/plain": [
       "        sex        cp    trtbps      chol       fbs   restecg  thalachh  \\\n",
       "0  0.077870 -0.117099  0.108471  0.002416  0.021666 -0.109519  0.273153   \n",
       "1  0.058902 -0.166997  0.088202  0.016622  0.040259 -0.049815  0.207571   \n",
       "\n",
       "       exng   oldpeak       slp       caa     thall  \n",
       "0 -0.001954  0.112422 -0.061885 -0.063797  0.079608  \n",
       "1 -0.042893  0.013469 -0.109517 -0.082172  0.141742  "
      ]
     },
     "execution_count": 1655,
     "metadata": {},
     "output_type": "execute_result"
    }
   ],
   "source": [
    "pd.DataFrame(clust_centers, columns=savecols)"
   ]
  },
  {
   "cell_type": "markdown",
   "metadata": {},
   "source": [
    "### Building the model"
   ]
  },
  {
   "cell_type": "code",
   "execution_count": 1656,
   "metadata": {},
   "outputs": [
    {
     "name": "stdout",
     "output_type": "stream",
     "text": [
      " * Detected 2 rules / clusters\n",
      " * Detected Sugeno model type\n"
     ]
    }
   ],
   "source": [
    "ae = AntecedentEstimator(X_train, part_matrix)\n",
    "antecedent_params = ae.determineMF()\n",
    "\n",
    "ce = ConsequentEstimator(X_train, y_train, part_matrix)\n",
    "conseq_params = ce.suglms()\n",
    "\n",
    "modbuilder = SugenoFISBuilder(antecedent_params, conseq_params, var_names, save_simpful_code=False)\n",
    "model = modbuilder.get_model()"
   ]
  },
  {
   "cell_type": "markdown",
   "metadata": {},
   "source": [
    "### Inference and Metrics"
   ]
  },
  {
   "cell_type": "code",
   "execution_count": 1657,
   "metadata": {},
   "outputs": [],
   "source": [
    "modtester = SugenoFISTester(model, X_test, var_names)\n",
    "y_pred_probs = clip(modtester.predict()[0], 0, 1)\n",
    "a = modtester.predict()[0]\n",
    "y_pred_probs = column_stack((1 - y_pred_probs, y_pred_probs))\n",
    "y_pred = argmax(y_pred_probs,axis=1)"
   ]
  },
  {
   "cell_type": "code",
   "execution_count": 1658,
   "metadata": {},
   "outputs": [
    {
     "name": "stdout",
     "output_type": "stream",
     "text": [
      "Accuracy: 0.836\n",
      "Recall: 0.844\n",
      "Precision Score: 0.844\n",
      "F1-Score: 0.844\n",
      "Kappa Score: 0.671\n"
     ]
    }
   ],
   "source": [
    "acc_score = accuracy_score(y_test, y_pred)\n",
    "print(\"Accuracy: {:.3f}\".format(acc_score))\n",
    "rec_score = recall_score(y_test, y_pred)\n",
    "print(\"Recall: {:.3f}\".format(rec_score))\n",
    "prec_score = precision_score(y_test, y_pred)\n",
    "print(\"Precision Score: {:.3f}\".format(prec_score))\n",
    "F1_score = f1_score(y_test, y_pred)\n",
    "print(\"F1-Score: {:.3f}\".format(F1_score))\n",
    "kappa = cohen_kappa_score(y_test, y_pred)\n",
    "print(\"Kappa Score: {:.3f}\".format(kappa))"
   ]
  },
  {
   "cell_type": "markdown",
   "metadata": {},
   "source": [
    "## Model Visualization/Interpretation"
   ]
  },
  {
   "cell_type": "code",
   "execution_count": 1659,
   "metadata": {},
   "outputs": [
    {
     "data": {
      "text/plain": [
       "OrderedDict([('fun1',\n",
       "              '-7.880076e-02*sex+8.930831e-02*cp+-5.463384e-02*trtbps+-1.643405e-02*chol+3.808457e-02*fbs+2.782482e-02*restecg+6.314447e-02*thalachh+-8.526037e-02*exng+-4.774002e-02*oldpeak+6.053953e-02*slp+-8.365430e-02*caa+-1.288269e-01*thall+5.771272e-01'),\n",
       "             ('fun2',\n",
       "              '-1.123822e-01*sex+9.635247e-02*cp+-3.050241e-02*trtbps+-3.958550e-02*chol+9.477100e-03*fbs+1.748192e-02*restecg+7.468455e-02*thalachh+-4.706522e-02*exng+-4.479855e-02*oldpeak+8.403146e-02*slp+-1.265768e-01*caa+-7.242237e-02*thall+5.203845e-01')])"
      ]
     },
     "execution_count": 1659,
     "metadata": {},
     "output_type": "execute_result"
    }
   ],
   "source": [
    "model._outputfunctions"
   ]
  },
  {
   "cell_type": "code",
   "execution_count": 1660,
   "metadata": {},
   "outputs": [
    {
     "data": {
      "text/plain": [
       "<Linguistic variable 'chol', contains fuzzy sets [<Fuzzy set (function), term='cluster1'>, <Fuzzy set (function), term='cluster2'>], universe of discourse: None>"
      ]
     },
     "execution_count": 1660,
     "metadata": {},
     "output_type": "execute_result"
    }
   ],
   "source": [
    "model._lvs['chol'] # example of how pyFUME defines une linguistic variable in simpful"
   ]
  },
  {
   "cell_type": "code",
   "execution_count": 1661,
   "metadata": {},
   "outputs": [],
   "source": [
    "# The pyFUME library doesn't atribute a universe of discourse to the linguistic variables it creates in simpful. In order to fix this, we set each universe considering the maximum\n",
    "# value heald by each dataframe column. This has to be done since, otherwise, the plotting functions won't work.\n",
    "\n",
    "for ix in range(len(var_names)):\n",
    "    max = maxs[ix]\n",
    "    min = mins[ix]\n",
    "    uod = [min, max]\n",
    "    model._lvs[var_names[ix]]._universe_of_discourse = uod"
   ]
  },
  {
   "cell_type": "code",
   "execution_count": 1662,
   "metadata": {},
   "outputs": [
    {
     "data": {
      "text/plain": [
       "[[f.(c.(sex IS cluster1) AND f.(c.(cp IS cluster1) AND f.(c.(trtbps IS cluster1) AND f.(c.(chol IS cluster1) AND f.(c.(fbs IS cluster1) AND f.(c.(restecg IS cluster1) AND f.(c.(thalachh IS cluster1) AND f.(c.(exng IS cluster1) AND f.(c.(oldpeak IS cluster1) AND f.(c.(slp IS cluster1) AND f.(c.(caa IS cluster1) AND c.(thall IS cluster1)))))))))))),\n",
       "  ('OUTPUT', 'fun1')],\n",
       " [f.(c.(sex IS cluster2) AND f.(c.(cp IS cluster2) AND f.(c.(trtbps IS cluster2) AND f.(c.(chol IS cluster2) AND f.(c.(fbs IS cluster2) AND f.(c.(restecg IS cluster2) AND f.(c.(thalachh IS cluster2) AND f.(c.(exng IS cluster2) AND f.(c.(oldpeak IS cluster2) AND f.(c.(slp IS cluster2) AND f.(c.(caa IS cluster2) AND c.(thall IS cluster2)))))))))))),\n",
       "  ('OUTPUT', 'fun2')]]"
      ]
     },
     "execution_count": 1662,
     "metadata": {},
     "output_type": "execute_result"
    }
   ],
   "source": [
    "model._rules"
   ]
  },
  {
   "cell_type": "code",
   "execution_count": 1663,
   "metadata": {},
   "outputs": [],
   "source": [
    "#model.produce_figure(\"\",2)"
   ]
  },
  {
   "cell_type": "markdown",
   "metadata": {},
   "source": [
    "## Converting the model to X"
   ]
  },
  {
   "cell_type": "markdown",
   "metadata": {},
   "source": [
    "#### More functions"
   ]
  },
  {
   "cell_type": "code",
   "execution_count": 1664,
   "metadata": {},
   "outputs": [],
   "source": [
    "def UODtoX(model, stats):\n",
    "    uods = {}\n",
    "    for lv in model._lvs:\n",
    "        data = stats[stats['Feature'] == lv]\n",
    "        mean = data.iloc[0,1]\n",
    "        std = data.iloc[0,2] ** 0.5\n",
    "        uod = model._lvs[lv]._universe_of_discourse\n",
    "        for i in range(2):\n",
    "            uod[i] = uod[i] * std + mean\n",
    "        uods[lv] = uod\n",
    "    return uods"
   ]
  },
  {
   "cell_type": "code",
   "execution_count": 1665,
   "metadata": {},
   "outputs": [],
   "source": [
    "class XMF:\n",
    "\n",
    "    def __init__(self, uod, data, mu, sigma):\n",
    "        self.uod = uod\n",
    "        self.mean = data.iloc[0,1]\n",
    "        self.std = data.iloc[0,2] ** 0.5\n",
    "        self.mu = mu\n",
    "        self.sigma = sigma\n",
    "\n",
    "    def __call__(self, x):\n",
    "        #x = (x - self.mean) / self.std # X to Z\n",
    "        x = gaussian(x, self.mu, self.sigma, self.mean, self.std) # Z to MF\n",
    "        \n",
    "        return x"
   ]
  },
  {
   "cell_type": "code",
   "execution_count": 1666,
   "metadata": {},
   "outputs": [],
   "source": [
    "def newMFS(model, stats, uods):\n",
    "    MFS = {}\n",
    "    for lv in model._lvs:\n",
    "        fs = []\n",
    "        data = stats[stats['Feature'] == lv]\n",
    "        uod = uods[lv]\n",
    "        for clust in range(len(model._lvs[lv]._FSlist)):\n",
    "            mu = model._lvs[lv]._FSlist[clust]._funpointer._mu\n",
    "            sigma = model._lvs[lv]._FSlist[clust]._funpointer._sigma\n",
    "            fs.append(XMF(uod, data, mu, sigma))\n",
    "        MFS[lv] = fs\n",
    "    return MFS"
   ]
  },
  {
   "cell_type": "code",
   "execution_count": 1667,
   "metadata": {},
   "outputs": [],
   "source": [
    "def plotMFs(mfs, var):\n",
    "    mfs = mfs[var]\n",
    "    x = np.linspace(mfs[0].uod[0], mfs[0].uod[1], 100)\n",
    "    for i in range(len(mfs)):\n",
    "        y = [mfs[i](j) for j in x]\n",
    "        plt.plot(x, y)"
   ]
  },
  {
   "cell_type": "code",
   "execution_count": 1668,
   "metadata": {},
   "outputs": [],
   "source": [
    "def FunctionstoX(model, stats):\n",
    "    final_df = pd.DataFrame(columns = var_names+['constant'])\n",
    "\n",
    "    for f in model._outputfunctions:\n",
    "        acumulated = 0 # value to be added to the intercept in the end\n",
    "        expression = model._outputfunctions[f]\n",
    "        item_list = expression.split('+')\n",
    "\n",
    "        for k in range(len(item_list) - 1):\n",
    "            item_list[k] = item_list[k].split('*')\n",
    "            values = stats[stats['Feature'] == item_list[k][1]]\n",
    "            std = values.iloc[0,2] ** 0.5\n",
    "            mean = values.iloc[0,1]\n",
    "            acumulated -= float(item_list[k][0]) * mean / (std) \n",
    "            item_list[k] = float(item_list[k][0]) / (std) \n",
    "            \n",
    "        item_list[-1] = float(item_list[-1]) + acumulated\n",
    "        final_df = pd.concat([final_df,pd.DataFrame([item_list], columns = var_names+['constant'])], axis = 0)\n",
    "        final_df.reset_index(drop=True, inplace=True)\n",
    "    return final_df"
   ]
  },
  {
   "cell_type": "code",
   "execution_count": 1669,
   "metadata": {},
   "outputs": [],
   "source": [
    "def inference(X_test, mfs, consequents):\n",
    "\n",
    "    X = X_test.copy()\n",
    "    for i in range(best_number):\n",
    "        X[i] = Revert(X[i], stats)\n",
    "    y = [] # dim 1: weighted sum of the consequents for each cluster\n",
    "    dim = X.shape[1]\n",
    "    for i in range(X.shape[0]):\n",
    "        membership_list = []\n",
    "        for k in range(dim):\n",
    "            temp_list = [] # membership values for a certain variable. dim 1: clust\n",
    "            for clust in range(best_number):\n",
    "                temp_list.append(mfs[var_names[k]][clust](X[i,k]))\n",
    "            membership_list.append(temp_list)\n",
    "        membership_list = np.transpose(np.array(membership_list)) # membership values for a certain observation. dim 1: clust, dim 2: var\n",
    "        acumulated = 0\n",
    "        firing_strengths = 0\n",
    "        for h in range(best_number):\n",
    "            linear_sum = 0\n",
    "            for j in range(dim):\n",
    "                linear_sum += consequents.iloc[h,j] * X[i,j]\n",
    "            linear_sum += consequents.iloc[h,-1] # output of the linear function of cluster h\n",
    "            acumulated += linear_sum * np.min(membership_list[h]) \n",
    "            firing_strengths += np.min(membership_list[h])\n",
    "        acumulated = acumulated / firing_strengths\n",
    "        y.append(acumulated)\n",
    "\n",
    "    return np.array(y) # dim 1: observation"
   ]
  },
  {
   "cell_type": "markdown",
   "metadata": {},
   "source": [
    "#### Code"
   ]
  },
  {
   "cell_type": "code",
   "execution_count": 1670,
   "metadata": {},
   "outputs": [],
   "source": [
    "uods = UODtoX(model, stats)\n",
    "mfs = newMFS(model, stats, uods)\n",
    "consequents = FunctionstoX(model, stats)\n",
    "#uods"
   ]
  },
  {
   "cell_type": "code",
   "execution_count": 1671,
   "metadata": {},
   "outputs": [
    {
     "data": {
      "text/html": [
       "<div>\n",
       "<style scoped>\n",
       "    .dataframe tbody tr th:only-of-type {\n",
       "        vertical-align: middle;\n",
       "    }\n",
       "\n",
       "    .dataframe tbody tr th {\n",
       "        vertical-align: top;\n",
       "    }\n",
       "\n",
       "    .dataframe thead th {\n",
       "        text-align: right;\n",
       "    }\n",
       "</style>\n",
       "<table border=\"1\" class=\"dataframe\">\n",
       "  <thead>\n",
       "    <tr style=\"text-align: right;\">\n",
       "      <th></th>\n",
       "      <th>sex</th>\n",
       "      <th>cp</th>\n",
       "      <th>trtbps</th>\n",
       "      <th>chol</th>\n",
       "      <th>fbs</th>\n",
       "      <th>restecg</th>\n",
       "      <th>thalachh</th>\n",
       "      <th>exng</th>\n",
       "      <th>oldpeak</th>\n",
       "      <th>slp</th>\n",
       "      <th>caa</th>\n",
       "      <th>thall</th>\n",
       "    </tr>\n",
       "  </thead>\n",
       "  <tbody>\n",
       "    <tr>\n",
       "      <th>0</th>\n",
       "      <td>0.688558</td>\n",
       "      <td>0.878841</td>\n",
       "      <td>132.586085</td>\n",
       "      <td>245.147903</td>\n",
       "      <td>0.140132</td>\n",
       "      <td>0.468764</td>\n",
       "      <td>155.841507</td>\n",
       "      <td>0.302007</td>\n",
       "      <td>1.096299</td>\n",
       "      <td>1.377435</td>\n",
       "      <td>0.609456</td>\n",
       "      <td>2.370861</td>\n",
       "    </tr>\n",
       "    <tr>\n",
       "      <th>1</th>\n",
       "      <td>0.679520</td>\n",
       "      <td>0.827213</td>\n",
       "      <td>132.249381</td>\n",
       "      <td>245.822405</td>\n",
       "      <td>0.146442</td>\n",
       "      <td>0.500495</td>\n",
       "      <td>154.381216</td>\n",
       "      <td>0.283195</td>\n",
       "      <td>0.992545</td>\n",
       "      <td>1.348570</td>\n",
       "      <td>0.591385</td>\n",
       "      <td>2.407709</td>\n",
       "    </tr>\n",
       "  </tbody>\n",
       "</table>\n",
       "</div>"
      ],
      "text/plain": [
       "        sex        cp      trtbps        chol       fbs   restecg    thalachh  \\\n",
       "0  0.688558  0.878841  132.586085  245.147903  0.140132  0.468764  155.841507   \n",
       "1  0.679520  0.827213  132.249381  245.822405  0.146442  0.500495  154.381216   \n",
       "\n",
       "       exng   oldpeak       slp       caa     thall  \n",
       "0  0.302007  1.096299  1.377435  0.609456  2.370861  \n",
       "1  0.283195  0.992545  1.348570  0.591385  2.407709  "
      ]
     },
     "execution_count": 1671,
     "metadata": {},
     "output_type": "execute_result"
    }
   ],
   "source": [
    "for i in range(best_number):\n",
    "    clust_centers[i] = Revert(clust_centers[i], stats)\n",
    "clust_centers = pd.DataFrame(clust_centers, columns = var_names)\n",
    "clust_centers"
   ]
  },
  {
   "cell_type": "code",
   "execution_count": 1672,
   "metadata": {},
   "outputs": [
    {
     "data": {
      "image/png": "[encoded data removed]",
      "text/plain": [
       "<Figure size 640x480 with 1 Axes>"
      ]
     },
     "metadata": {},
     "output_type": "display_data"
    }
   ],
   "source": [
    "plotMFs(mfs, 'chol')"
   ]
  },
  {
   "cell_type": "code",
   "execution_count": 1673,
   "metadata": {},
   "outputs": [
    {
     "data": {
      "text/html": [
       "<div>\n",
       "<style scoped>\n",
       "    .dataframe tbody tr th:only-of-type {\n",
       "        vertical-align: middle;\n",
       "    }\n",
       "\n",
       "    .dataframe tbody tr th {\n",
       "        vertical-align: top;\n",
       "    }\n",
       "\n",
       "    .dataframe thead th {\n",
       "        text-align: right;\n",
       "    }\n",
       "</style>\n",
       "<table border=\"1\" class=\"dataframe\">\n",
       "  <thead>\n",
       "    <tr style=\"text-align: right;\">\n",
       "      <th></th>\n",
       "      <th>sex</th>\n",
       "      <th>cp</th>\n",
       "      <th>trtbps</th>\n",
       "      <th>chol</th>\n",
       "      <th>fbs</th>\n",
       "      <th>restecg</th>\n",
       "      <th>thalachh</th>\n",
       "      <th>exng</th>\n",
       "      <th>oldpeak</th>\n",
       "      <th>slp</th>\n",
       "      <th>caa</th>\n",
       "      <th>thall</th>\n",
       "      <th>constant</th>\n",
       "    </tr>\n",
       "  </thead>\n",
       "  <tbody>\n",
       "    <tr>\n",
       "      <th>0</th>\n",
       "      <td>-0.165370</td>\n",
       "      <td>0.086316</td>\n",
       "      <td>-0.003289</td>\n",
       "      <td>-0.000346</td>\n",
       "      <td>0.112232</td>\n",
       "      <td>0.052354</td>\n",
       "      <td>0.002836</td>\n",
       "      <td>-0.185545</td>\n",
       "      <td>-0.045531</td>\n",
       "      <td>0.099899</td>\n",
       "      <td>-0.085059</td>\n",
       "      <td>-0.217236</td>\n",
       "      <td>1.167673</td>\n",
       "    </tr>\n",
       "    <tr>\n",
       "      <th>1</th>\n",
       "      <td>-0.235844</td>\n",
       "      <td>0.093124</td>\n",
       "      <td>-0.001836</td>\n",
       "      <td>-0.000834</td>\n",
       "      <td>0.027928</td>\n",
       "      <td>0.032893</td>\n",
       "      <td>0.003354</td>\n",
       "      <td>-0.102424</td>\n",
       "      <td>-0.042726</td>\n",
       "      <td>0.138664</td>\n",
       "      <td>-0.128703</td>\n",
       "      <td>-0.122123</td>\n",
       "      <td>0.748912</td>\n",
       "    </tr>\n",
       "  </tbody>\n",
       "</table>\n",
       "</div>"
      ],
      "text/plain": [
       "        sex        cp    trtbps      chol       fbs   restecg  thalachh  \\\n",
       "0 -0.165370  0.086316 -0.003289 -0.000346  0.112232  0.052354  0.002836   \n",
       "1 -0.235844  0.093124 -0.001836 -0.000834  0.027928  0.032893  0.003354   \n",
       "\n",
       "       exng   oldpeak       slp       caa     thall  constant  \n",
       "0 -0.185545 -0.045531  0.099899 -0.085059 -0.217236  1.167673  \n",
       "1 -0.102424 -0.042726  0.138664 -0.128703 -0.122123  0.748912  "
      ]
     },
     "execution_count": 1673,
     "metadata": {},
     "output_type": "execute_result"
    }
   ],
   "source": [
    "consequents"
   ]
  },
  {
   "cell_type": "code",
   "execution_count": 1674,
   "metadata": {},
   "outputs": [
    {
     "data": {
      "text/plain": [
       "array([-0.0309191 ,  0.26951502,  1.41098605,  0.65743   ,  2.03448818,\n",
       "        1.47236872,  1.07126149,  0.25078259,  0.39896034,  1.00186305,\n",
       "        1.21419754,  0.65633361,  1.45673802,  0.7141874 ,  1.82519094,\n",
       "        1.44847981,  1.79396415,  0.05890738,  0.19676815,  0.46815859,\n",
       "        0.97355526,  0.4372027 ,  1.16057766,  1.61249724,  1.63225084,\n",
       "        1.0215903 ,  0.09282037,  0.88801683,  0.23090401,  1.64140082,\n",
       "        0.35581745,  0.35554561,  1.13318942,  0.59480972,  1.52327393,\n",
       "        0.37818106,  1.49617107,  1.68856166,  0.81926501,  1.28869147,\n",
       "        1.18814307,  1.06571132,  1.68046889,  1.1951183 ,  1.11195788,\n",
       "        1.52226688,  0.92045684,  1.78266002,  1.10351494,  0.36116099,\n",
       "        0.66741933,  0.05285232,  1.32000235,  1.8186297 ,  0.5289527 ,\n",
       "        0.54022072,  0.01329146,  1.54633072,  0.84453787,  1.14733196,\n",
       "        1.19645543])"
      ]
     },
     "execution_count": 1674,
     "metadata": {},
     "output_type": "execute_result"
    }
   ],
   "source": [
    "inference(X_test, mfs, consequents)"
   ]
  },
  {
   "cell_type": "code",
   "execution_count": 1675,
   "metadata": {},
   "outputs": [
    {
     "data": {
      "text/plain": [
       "array([-0.0309191 ,  0.26951502,  0.74141074,  0.16503573,  0.97111047,\n",
       "        0.86334372,  0.56804014,  0.00251867, -0.09782873,  0.45762755,\n",
       "        0.69892996,  0.19806146,  0.81161536,  0.24126985,  1.13351025,\n",
       "        0.89465527,  1.12737878, -0.21288386, -0.1974884 ,  0.06047632,\n",
       "        0.52014796, -0.07424145,  0.38039948,  0.67123915,  0.85765963,\n",
       "        0.57221697, -0.18781912,  0.57822325, -0.04983368,  0.91913907,\n",
       "       -0.00636433,  0.09929188,  0.62578937,  0.32937788,  0.64925995,\n",
       "        0.03810823,  0.72348873,  0.79991032,  0.67357694,  0.77817978,\n",
       "        0.49448335,  0.66414842,  0.79912044,  0.68774709,  0.69224963,\n",
       "        0.25392826,  0.75724466,  0.97212552,  0.36713585, -0.08163783,\n",
       "       -0.06530242, -0.20359532,  0.75964601,  1.02689065,  0.0928248 ,\n",
       "        0.2992172 , -0.40576228,  0.9372439 ,  0.05286288,  0.59366616,\n",
       "        0.57094833])"
      ]
     },
     "execution_count": 1675,
     "metadata": {},
     "output_type": "execute_result"
    }
   ],
   "source": [
    "a"
   ]
  },
  {
   "cell_type": "code",
   "execution_count": 1676,
   "metadata": {},
   "outputs": [
    {
     "data": {
      "text/plain": [
       "array([ 0.73145871, -0.9664929 ,  0.07318899,  2.27401546, -0.39129279,\n",
       "        0.89002765, -0.79757941,  1.51702665,  0.21132583, -0.68470669,\n",
       "        0.33330663,  1.14050171])"
      ]
     },
     "execution_count": 1676,
     "metadata": {},
     "output_type": "execute_result"
    }
   ],
   "source": [
    "X_test[0]"
   ]
  },
  {
   "cell_type": "code",
   "execution_count": 1677,
   "metadata": {},
   "outputs": [
    {
     "data": {
      "text/plain": [
       "array([ 0.73145871,  0.9664929 , -0.34820971,  1.34727988, -0.39129279,\n",
       "        0.89002765, -0.84248984,  1.51702665,  0.78356767, -0.68470669,\n",
       "       -0.68348955,  1.14050171])"
      ]
     },
     "execution_count": 1677,
     "metadata": {},
     "output_type": "execute_result"
    }
   ],
   "source": [
    "X_test[1]"
   ]
  },
  {
   "cell_type": "code",
   "execution_count": 1678,
   "metadata": {},
   "outputs": [
    {
     "data": {
      "text/plain": [
       "array([ 0.73145871,  0.9664929 ,  1.15678564, -2.50709768,  2.55563104,\n",
       "        0.89002765,  1.0437482 , -0.6591842 , -0.74241058,  0.96543644,\n",
       "        0.33330663,  1.14050171])"
      ]
     },
     "execution_count": 1678,
     "metadata": {},
     "output_type": "execute_result"
    }
   ],
   "source": [
    "X_test[2]"
   ]
  }
 ],
 "metadata": {
  "kernelspec": {
   "display_name": "base",
   "language": "python",
   "name": "python3"
  },
  "language_info": {
   "codemirror_mode": {
    "name": "ipython",
    "version": 3
   },
   "file_extension": ".py",
   "mimetype": "text/x-python",
   "name": "python",
   "nbconvert_exporter": "python",
   "pygments_lexer": "ipython3",
   "version": "3.12.2"
  }
 },
 "nbformat": 4,
 "nbformat_minor": 2
}
