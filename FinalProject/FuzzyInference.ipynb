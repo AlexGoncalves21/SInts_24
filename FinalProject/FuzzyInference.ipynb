{
 "cells": [
  {
   "cell_type": "markdown",
   "metadata": {},
   "source": [
    "## Importing Data and Libraries"
   ]
  },
  {
   "cell_type": "code",
   "execution_count": 35,
   "metadata": {},
   "outputs": [],
   "source": [
    "import pandas as pd\n",
    "import numpy as np\n",
    "import matplotlib.pyplot as plt\n",
    "from pyfume.Clustering import Clusterer\n",
    "from pyfume.EstimateAntecendentSet import AntecedentEstimator\n",
    "from pyfume.EstimateConsequentParameters import ConsequentEstimator\n",
    "from pyfume.SimpfulModelBuilder import SugenoFISBuilder\n",
    "from pyfume.Tester import SugenoFISTester\n",
    "from sklearn.metrics import accuracy_score, recall_score, precision_score, f1_score, cohen_kappa_score\n",
    "from numpy import clip, column_stack, argmax\n",
    "from scipy.spatial import distance\n",
    "from scipy.spatial.distance import cdist\n",
    "from sklearn.metrics import silhouette_score\n",
    "import warnings\n",
    "\n",
    "warnings.simplefilter(action='ignore', category=FutureWarning)"
   ]
  },
  {
   "cell_type": "code",
   "execution_count": 36,
   "metadata": {},
   "outputs": [
    {
     "data": {
      "text/plain": [
       "((241, 12), (61, 12), (241,), (61,))"
      ]
     },
     "execution_count": 36,
     "metadata": {},
     "output_type": "execute_result"
    }
   ],
   "source": [
    "Train = pd.read_csv('dataTrain.csv')\n",
    "Test = pd.read_csv('dataTest.csv')\n",
    "\n",
    "stats = pd.read_csv('stats.csv')\n",
    "stats = stats.iloc[:,1:]\n",
    "\n",
    "X_train = Train.drop('output', axis=1)\n",
    "y_train = Train['output']\n",
    "\n",
    "X_test = Test.drop('output', axis=1)\n",
    "y_test = Test['output']\n",
    "\n",
    "maxs = X_train.max().tolist()\n",
    "mins = X_train.min().tolist()\n",
    "\n",
    "var_names = X_train.columns.to_list()\n",
    "X_train.shape, X_test.shape, y_train.shape, y_test.shape"
   ]
  },
  {
   "cell_type": "code",
   "execution_count": 37,
   "metadata": {},
   "outputs": [
    {
     "data": {
      "text/html": [
       "<div>\n",
       "<style scoped>\n",
       "    .dataframe tbody tr th:only-of-type {\n",
       "        vertical-align: middle;\n",
       "    }\n",
       "\n",
       "    .dataframe tbody tr th {\n",
       "        vertical-align: top;\n",
       "    }\n",
       "\n",
       "    .dataframe thead th {\n",
       "        text-align: right;\n",
       "    }\n",
       "</style>\n",
       "<table border=\"1\" class=\"dataframe\">\n",
       "  <thead>\n",
       "    <tr style=\"text-align: right;\">\n",
       "      <th></th>\n",
       "      <th>Feature</th>\n",
       "      <th>Mean</th>\n",
       "      <th>Variance</th>\n",
       "    </tr>\n",
       "  </thead>\n",
       "  <tbody>\n",
       "    <tr>\n",
       "      <th>0</th>\n",
       "      <td>age</td>\n",
       "      <td>54.373444</td>\n",
       "      <td>83.926930</td>\n",
       "    </tr>\n",
       "    <tr>\n",
       "      <th>1</th>\n",
       "      <td>sex</td>\n",
       "      <td>0.651452</td>\n",
       "      <td>0.227062</td>\n",
       "    </tr>\n",
       "    <tr>\n",
       "      <th>2</th>\n",
       "      <td>cp</td>\n",
       "      <td>1.000000</td>\n",
       "      <td>1.070539</td>\n",
       "    </tr>\n",
       "    <tr>\n",
       "      <th>3</th>\n",
       "      <td>trtbps</td>\n",
       "      <td>130.784232</td>\n",
       "      <td>275.936847</td>\n",
       "    </tr>\n",
       "    <tr>\n",
       "      <th>4</th>\n",
       "      <td>chol</td>\n",
       "      <td>245.033195</td>\n",
       "      <td>2254.206367</td>\n",
       "    </tr>\n",
       "    <tr>\n",
       "      <th>5</th>\n",
       "      <td>fbs</td>\n",
       "      <td>0.132780</td>\n",
       "      <td>0.115150</td>\n",
       "    </tr>\n",
       "    <tr>\n",
       "      <th>6</th>\n",
       "      <td>restecg</td>\n",
       "      <td>0.526971</td>\n",
       "      <td>0.282468</td>\n",
       "    </tr>\n",
       "    <tr>\n",
       "      <th>7</th>\n",
       "      <td>thalachh</td>\n",
       "      <td>149.759336</td>\n",
       "      <td>495.798927</td>\n",
       "    </tr>\n",
       "    <tr>\n",
       "      <th>8</th>\n",
       "      <td>exng</td>\n",
       "      <td>0.302905</td>\n",
       "      <td>0.211153</td>\n",
       "    </tr>\n",
       "    <tr>\n",
       "      <th>9</th>\n",
       "      <td>oldpeak</td>\n",
       "      <td>0.978423</td>\n",
       "      <td>1.099368</td>\n",
       "    </tr>\n",
       "    <tr>\n",
       "      <th>10</th>\n",
       "      <td>slp</td>\n",
       "      <td>1.414938</td>\n",
       "      <td>0.367246</td>\n",
       "    </tr>\n",
       "    <tr>\n",
       "      <th>11</th>\n",
       "      <td>caa</td>\n",
       "      <td>0.672199</td>\n",
       "      <td>0.967235</td>\n",
       "    </tr>\n",
       "    <tr>\n",
       "      <th>12</th>\n",
       "      <td>thall</td>\n",
       "      <td>2.323651</td>\n",
       "      <td>0.351681</td>\n",
       "    </tr>\n",
       "  </tbody>\n",
       "</table>\n",
       "</div>"
      ],
      "text/plain": [
       "     Feature        Mean     Variance\n",
       "0        age   54.373444    83.926930\n",
       "1        sex    0.651452     0.227062\n",
       "2         cp    1.000000     1.070539\n",
       "3     trtbps  130.784232   275.936847\n",
       "4       chol  245.033195  2254.206367\n",
       "5        fbs    0.132780     0.115150\n",
       "6    restecg    0.526971     0.282468\n",
       "7   thalachh  149.759336   495.798927\n",
       "8       exng    0.302905     0.211153\n",
       "9    oldpeak    0.978423     1.099368\n",
       "10       slp    1.414938     0.367246\n",
       "11       caa    0.672199     0.967235\n",
       "12     thall    2.323651     0.351681"
      ]
     },
     "execution_count": 37,
     "metadata": {},
     "output_type": "execute_result"
    }
   ],
   "source": [
    "stats"
   ]
  },
  {
   "cell_type": "code",
   "execution_count": 38,
   "metadata": {},
   "outputs": [],
   "source": [
    "savecols = X_train.columns"
   ]
  },
  {
   "cell_type": "code",
   "execution_count": 39,
   "metadata": {},
   "outputs": [],
   "source": [
    "X_train = X_train.to_numpy()\n",
    "X_test = X_test.to_numpy()\n",
    "y_train = y_train.array\n",
    "y_test = y_test.array"
   ]
  },
  {
   "cell_type": "markdown",
   "metadata": {},
   "source": [
    "## Building the model"
   ]
  },
  {
   "cell_type": "markdown",
   "metadata": {},
   "source": [
    "### Clustering"
   ]
  },
  {
   "cell_type": "markdown",
   "metadata": {},
   "source": [
    "In this section, we will try out different numbers of clusters in order to minimize the separation between clusters. "
   ]
  },
  {
   "cell_type": "markdown",
   "metadata": {},
   "source": [
    "#### Functions"
   ]
  },
  {
   "cell_type": "code",
   "execution_count": 40,
   "metadata": {},
   "outputs": [],
   "source": [
    "def SeparationMetric(X_train, clust_centers, part_matrix):\n",
    "    metric = 0\n",
    "    for clust in range(clust_centers.shape[0]):\n",
    "        for point in range(X_train.shape[0]):\n",
    "            metric += part_matrix[point, clust] * distance.euclidean(X_train[point], clust_centers[clust])\n",
    "    return metric"
   ]
  },
  {
   "cell_type": "code",
   "execution_count": 41,
   "metadata": {},
   "outputs": [],
   "source": [
    "def gaussian(x, mu, sig, mux, sigx):\n",
    "    mu = mux + sigx * mu\n",
    "    sig = sig * sigx\n",
    "    #return (1.0 / (np.sqrt(2.0 * np.pi) * sig) * np.exp(-np.power((x - mu) / sig, 2.0) / 2))\n",
    "    return (np.exp(-np.power((x - mu) / sig, 2.0) / 2))"
   ]
  },
  {
   "cell_type": "code",
   "execution_count": 42,
   "metadata": {},
   "outputs": [],
   "source": [
    "def Revert(x, stats):\n",
    "    for i in range(x.shape[0]):\n",
    "        data = stats[stats['Feature'] == savecols[i]]\n",
    "        x[i] = x[i] * (data.iloc[0,2] ** 0.5) + data.iloc[0,1]\n",
    "    return x"
   ]
  },
  {
   "cell_type": "markdown",
   "metadata": {},
   "source": [
    "#### Code"
   ]
  },
  {
   "cell_type": "code",
   "execution_count": 43,
   "metadata": {},
   "outputs": [
    {
     "data": {
      "text/plain": [
       "'\"\\nfor i in range(max_clusters):\\n    i += 1\\n    #clust_centers, part_matrix = Cluster(i)\\n    cl = Clusterer(x_train=X_train, y_train=y_train, nr_clus=i)\\n    clust_centers, part_matrix, _ = cl.cluster(method=selected_method)\\n    clust_centers = clust_centers[:,:-1]\\n    \\n    metric = SeparationMetric(X_train, clust_centers, part_matrix)\\n    if metric < min_metric:\\n        min_metric = metric\\n        best_number = i\\n\\nprint(f\\'Best number of clusters: {best_number}\\')'"
      ]
     },
     "execution_count": 43,
     "metadata": {},
     "output_type": "execute_result"
    }
   ],
   "source": [
    "max_clusters = 10\n",
    "min_metric = np.inf\n",
    "selected_method = 'fst-pso' #'gk'\n",
    "\"\"\"\"\n",
    "for i in range(max_clusters):\n",
    "    i += 1\n",
    "    #clust_centers, part_matrix = Cluster(i)\n",
    "    cl = Clusterer(x_train=X_train, y_train=y_train, nr_clus=i)\n",
    "    clust_centers, part_matrix, _ = cl.cluster(method=selected_method)\n",
    "    clust_centers = clust_centers[:,:-1]\n",
    "    \n",
    "    metric = SeparationMetric(X_train, clust_centers, part_matrix)\n",
    "    if metric < min_metric:\n",
    "        min_metric = metric\n",
    "        best_number = i\n",
    "\n",
    "print(f'Best number of clusters: {best_number}')\"\"\""
   ]
  },
  {
   "cell_type": "code",
   "execution_count": 44,
   "metadata": {},
   "outputs": [
    {
     "name": "stdout",
     "output_type": "stream",
     "text": [
      "Fuzzy Self-Tuning PSO - v1.8.1\n",
      " * Max distance: 18.910044\n",
      " * Search space boundaries set to: [[-1.3671311638052943, 0.7314587118448709], [-1.3671311638052943, 0.7314587118448709], [-0.9664929007146316, 1.9329858014292636], [-0.9664929007146316, 1.9329858014292636], [-2.2144039565795786, 2.3607819282158617], [-2.2144039565795786, 2.3607819282158617], [-2.401786816576483, 2.568885877536174], [-2.401786816576483, 2.568885877536174], [-0.3912927904356147, 2.555631037532609], [-0.3912927904356147, 2.555631037532609], [-0.9915220285980402, 2.771577324033892], [-0.9915220285980402, 2.771577324033892], [-2.5715413778467515, 2.3461506537983703], [-2.5715413778467515, 2.3461506537983703], [-0.6591841999955774, 1.5170266520446165], [-0.6591841999955774, 1.5170266520446165], [-0.9331578631464132, 2.881787769055208], [-0.9331578631464132, 2.881787769055208], [-2.334849818633804, 0.965436435270869], [-2.334849818633804, 0.965436435270869], [-0.6834895479753919, 3.3836951696065687], [-0.6834895479753919, 3.3836951696065687], [-3.9182880820805015, 1.1405017096055745], [-3.9182880820805015, 1.1405017096055745], [0.0, 1.0], [0.0, 1.0]]\n",
      " * Max velocities set to: [2.0985898756501653, 2.0985898756501653, 2.8994787021438952, 2.8994787021438952, 4.57518588479544, 4.57518588479544, 4.970672694112657, 4.970672694112657, 2.9469238279682237, 2.9469238279682237, 3.763099352631932, 3.763099352631932, 4.917692031645122, 4.917692031645122, 2.176210852040194, 2.176210852040194, 3.8149456322016215, 3.8149456322016215, 3.300286253904673, 3.300286253904673, 4.06718471758196, 4.06718471758196, 5.058789791686076, 5.058789791686076, 1.0, 1.0]\n",
      " * Number of particles automatically set to 20\n",
      " * Fuzzy rules for minimum velocity cap DISABLED\n",
      " * 20 particles created.\n",
      " * FST-PSO will now assess the local and global best particles.\n",
      " * Estimated worst fitness: 13546.297\n",
      " * New best particle in the swarm is #0 with fitness 13500.163821 (it: 0).\n",
      " * New best particle in the swarm is #2 with fitness 6772.187376 (it: 0).\n",
      "\n",
      " *** All prepared, launching optimization ***\n",
      " * New best particle in the swarm is #3 with fitness 5327.372469 (it: 0).\n",
      " * New best particle in the swarm is #0 with fitness 4867.574857 (it: 1).\n",
      " * New best particle in the swarm is #19 with fitness 4788.948521 (it: 1).\n",
      " * New best particle in the swarm is #0 with fitness 4425.702286 (it: 2).\n",
      " * New best particle in the swarm is #1 with fitness 4352.616488 (it: 3).\n",
      " * New best particle in the swarm is #2 with fitness 4129.964301 (it: 4).\n",
      " * New best particle in the swarm is #0 with fitness 4100.264863 (it: 5).\n",
      " * New best particle in the swarm is #6 with fitness 4100.241512 (it: 5).\n",
      " * New best particle in the swarm is #2 with fitness 4022.779792 (it: 6).\n",
      " * New best particle in the swarm is #3 with fitness 3776.891321 (it: 7).\n",
      " * New best particle in the swarm is #7 with fitness 3712.409850 (it: 8).\n",
      " * New best particle in the swarm is #3 with fitness 3638.456368 (it: 9).\n",
      " * 11th iteration out of 100 completed. [###                           ]\n",
      " * 12th iteration out of 100 completed. [###                           ]\n",
      " * New best particle in the swarm is #1 with fitness 3473.097073 (it: 12).\n",
      " * New best particle in the swarm is #15 with fitness 3451.160673 (it: 12).\n",
      " * 14th iteration out of 100 completed. [####                          ]\n",
      " * 16th iteration out of 100 completed. [####                          ]\n",
      " * New best particle in the swarm is #0 with fitness 3421.014983 (it: 16).\n",
      " * New best particle in the swarm is #14 with fitness 3370.277084 (it: 18).\n",
      " * New best particle in the swarm is #18 with fitness 3360.854286 (it: 18).\n",
      " * 20th iteration out of 100 completed. [######                        ]\n",
      " * New best particle in the swarm is #18 with fitness 3355.773360 (it: 20).\n",
      " * New best particle in the swarm is #2 with fitness 3328.133217 (it: 22).\n",
      " * 25th iteration out of 100 completed. [#######                       ]\n",
      " * New best particle in the swarm is #2 with fitness 3325.069785 (it: 25).\n",
      " * New best particle in the swarm is #4 with fitness 3303.134751 (it: 26).\n",
      " * New best particle in the swarm is #1 with fitness 3270.491166 (it: 30).\n",
      " * New best particle in the swarm is #8 with fitness 3269.454531 (it: 31).\n",
      " * 33th iteration out of 100 completed. [#########                     ]\n",
      " * New best particle in the swarm is #1 with fitness 3249.737994 (it: 33).\n",
      " * New best particle in the swarm is #11 with fitness 3230.111285 (it: 35).\n",
      " * New best particle in the swarm is #6 with fitness 3225.238163 (it: 40).\n",
      " * New best particle in the swarm is #15 with fitness 3220.219359 (it: 40).\n",
      " * New best particle in the swarm is #15 with fitness 3215.620193 (it: 42).\n",
      " * New best particle in the swarm is #15 with fitness 3213.557739 (it: 45).\n",
      " * New best particle in the swarm is #5 with fitness 3202.463744 (it: 46).\n",
      " * New best particle in the swarm is #2 with fitness 3200.687987 (it: 49).\n",
      " * 50th iteration out of 100 completed. [###############               ]\n",
      " * New best particle in the swarm is #2 with fitness 3185.480448 (it: 52).\n",
      " * New best particle in the swarm is #2 with fitness 3184.800627 (it: 55).\n",
      " * New best particle in the swarm is #2 with fitness 3182.503162 (it: 58).\n",
      " * New best particle in the swarm is #2 with fitness 3181.863305 (it: 59).\n",
      " * New best particle in the swarm is #8 with fitness 3175.148530 (it: 61).\n",
      " * New best particle in the swarm is #19 with fitness 3157.145439 (it: 61).\n",
      " * New best particle in the swarm is #3 with fitness 3152.163263 (it: 63).\n",
      " * New best particle in the swarm is #7 with fitness 3137.161045 (it: 67).\n",
      " * New best particle in the swarm is #7 with fitness 3130.032907 (it: 69).\n",
      " * New best particle in the swarm is #6 with fitness 3127.272533 (it: 70).\n",
      " * New best particle in the swarm is #5 with fitness 3126.209904 (it: 74).\n",
      " * New best particle in the swarm is #7 with fitness 3112.976631 (it: 75).\n",
      " * New best particle in the swarm is #6 with fitness 3100.681747 (it: 76).\n",
      " * New best particle in the swarm is #6 with fitness 3091.602184 (it: 78).\n",
      " * New best particle in the swarm is #4 with fitness 3079.267144 (it: 83).\n",
      " * New best particle in the swarm is #4 with fitness 3078.223591 (it: 85).\n",
      " * New best particle in the swarm is #4 with fitness 3074.256978 (it: 89).\n",
      " * New best particle in the swarm is #4 with fitness 3071.205644 (it: 92).\n",
      " * New best particle in the swarm is #4 with fitness 3071.133972 (it: 93).\n",
      " * New best particle in the swarm is #4 with fitness 3071.003316 (it: 96).\n",
      " * New best particle in the swarm is #10 with fitness 3070.843118 (it: 97).\n",
      " * 100th iteration out of 100 completed. [##############################]\n"
     ]
    },
    {
     "data": {
      "text/plain": [
       "((2, 12), (241, 2))"
      ]
     },
     "execution_count": 44,
     "metadata": {},
     "output_type": "execute_result"
    }
   ],
   "source": [
    "best_number = 2   # TIRAR\n",
    "\n",
    "#clust_centers, part_matrix = Cluster(best_number)\n",
    "cl = Clusterer(x_train=X_train, y_train=y_train, nr_clus = best_number)\n",
    "clust_centers, part_matrix, _ = cl.cluster(method=selected_method, m = 0.99)\n",
    "clust_centers = clust_centers[:,:-1]\n",
    "clust_centers.shape, part_matrix.shape"
   ]
  },
  {
   "cell_type": "code",
   "execution_count": 45,
   "metadata": {},
   "outputs": [
    {
     "data": {
      "text/html": [
       "<div>\n",
       "<style scoped>\n",
       "    .dataframe tbody tr th:only-of-type {\n",
       "        vertical-align: middle;\n",
       "    }\n",
       "\n",
       "    .dataframe tbody tr th {\n",
       "        vertical-align: top;\n",
       "    }\n",
       "\n",
       "    .dataframe thead th {\n",
       "        text-align: right;\n",
       "    }\n",
       "</style>\n",
       "<table border=\"1\" class=\"dataframe\">\n",
       "  <thead>\n",
       "    <tr style=\"text-align: right;\">\n",
       "      <th></th>\n",
       "      <th>sex</th>\n",
       "      <th>cp</th>\n",
       "      <th>trtbps</th>\n",
       "      <th>chol</th>\n",
       "      <th>fbs</th>\n",
       "      <th>restecg</th>\n",
       "      <th>thalachh</th>\n",
       "      <th>exng</th>\n",
       "      <th>oldpeak</th>\n",
       "      <th>slp</th>\n",
       "      <th>caa</th>\n",
       "      <th>thall</th>\n",
       "    </tr>\n",
       "  </thead>\n",
       "  <tbody>\n",
       "    <tr>\n",
       "      <th>0</th>\n",
       "      <td>-0.239730</td>\n",
       "      <td>-0.186950</td>\n",
       "      <td>-0.194230</td>\n",
       "      <td>0.185751</td>\n",
       "      <td>0.024036</td>\n",
       "      <td>-0.025954</td>\n",
       "      <td>-0.039853</td>\n",
       "      <td>0.069840</td>\n",
       "      <td>0.093838</td>\n",
       "      <td>-0.191773</td>\n",
       "      <td>0.188508</td>\n",
       "      <td>-0.069130</td>\n",
       "    </tr>\n",
       "    <tr>\n",
       "      <th>1</th>\n",
       "      <td>-0.289651</td>\n",
       "      <td>-0.037942</td>\n",
       "      <td>-0.218851</td>\n",
       "      <td>0.209351</td>\n",
       "      <td>-0.013028</td>\n",
       "      <td>-0.074156</td>\n",
       "      <td>-0.083881</td>\n",
       "      <td>0.101611</td>\n",
       "      <td>0.011051</td>\n",
       "      <td>-0.319817</td>\n",
       "      <td>0.185874</td>\n",
       "      <td>-0.012609</td>\n",
       "    </tr>\n",
       "  </tbody>\n",
       "</table>\n",
       "</div>"
      ],
      "text/plain": [
       "        sex        cp    trtbps      chol       fbs   restecg  thalachh  \\\n",
       "0 -0.239730 -0.186950 -0.194230  0.185751  0.024036 -0.025954 -0.039853   \n",
       "1 -0.289651 -0.037942 -0.218851  0.209351 -0.013028 -0.074156 -0.083881   \n",
       "\n",
       "       exng   oldpeak       slp       caa     thall  \n",
       "0  0.069840  0.093838 -0.191773  0.188508 -0.069130  \n",
       "1  0.101611  0.011051 -0.319817  0.185874 -0.012609  "
      ]
     },
     "execution_count": 45,
     "metadata": {},
     "output_type": "execute_result"
    }
   ],
   "source": [
    "pd.DataFrame(clust_centers, columns=savecols)"
   ]
  },
  {
   "cell_type": "markdown",
   "metadata": {},
   "source": [
    "### Building the model"
   ]
  },
  {
   "cell_type": "code",
   "execution_count": 46,
   "metadata": {},
   "outputs": [
    {
     "name": "stdout",
     "output_type": "stream",
     "text": [
      " * Detected 2 rules / clusters\n",
      " * Detected Sugeno model type\n"
     ]
    }
   ],
   "source": [
    "ae = AntecedentEstimator(X_train, part_matrix)\n",
    "antecedent_params = ae.determineMF()\n",
    "\n",
    "ce = ConsequentEstimator(X_train, y_train, part_matrix)\n",
    "conseq_params = ce.suglms()\n",
    "\n",
    "modbuilder = SugenoFISBuilder(antecedent_params, conseq_params, var_names, save_simpful_code=False)\n",
    "model = modbuilder.get_model()"
   ]
  },
  {
   "cell_type": "markdown",
   "metadata": {},
   "source": [
    "### Inference and Metrics"
   ]
  },
  {
   "cell_type": "code",
   "execution_count": 47,
   "metadata": {},
   "outputs": [],
   "source": [
    "modtester = SugenoFISTester(model, X_test, var_names)\n",
    "y_pred_probs = clip(modtester.predict()[0], 0, 1)\n",
    "a = modtester.predict()[0]\n",
    "y_pred_probs = column_stack((1 - y_pred_probs, y_pred_probs))\n",
    "y_pred = argmax(y_pred_probs,axis=1)"
   ]
  },
  {
   "cell_type": "code",
   "execution_count": 48,
   "metadata": {},
   "outputs": [
    {
     "name": "stdout",
     "output_type": "stream",
     "text": [
      "Accuracy: 0.820\n",
      "Recall: 0.812\n",
      "Precision Score: 0.839\n",
      "F1-Score: 0.825\n",
      "Kappa Score: 0.639\n"
     ]
    }
   ],
   "source": [
    "acc_score = accuracy_score(y_test, y_pred)\n",
    "print(\"Accuracy: {:.3f}\".format(acc_score))\n",
    "rec_score = recall_score(y_test, y_pred)\n",
    "print(\"Recall: {:.3f}\".format(rec_score))\n",
    "prec_score = precision_score(y_test, y_pred)\n",
    "print(\"Precision Score: {:.3f}\".format(prec_score))\n",
    "F1_score = f1_score(y_test, y_pred)\n",
    "print(\"F1-Score: {:.3f}\".format(F1_score))\n",
    "kappa = cohen_kappa_score(y_test, y_pred)\n",
    "print(\"Kappa Score: {:.3f}\".format(kappa))"
   ]
  },
  {
   "cell_type": "markdown",
   "metadata": {},
   "source": [
    "## Model Visualization/Interpretation"
   ]
  },
  {
   "cell_type": "code",
   "execution_count": 49,
   "metadata": {},
   "outputs": [
    {
     "data": {
      "text/plain": [
       "OrderedDict([('fun1',\n",
       "              '-1.028688e-01*sex+8.248361e-02*cp+-8.129649e-02*trtbps+-1.869222e-02*chol+4.028317e-02*fbs+6.504322e-03*restecg+7.199680e-02*thalachh+-5.420438e-02*exng+-4.290696e-02*oldpeak+5.671753e-02*slp+-8.263324e-02*caa+-1.065429e-01*thall+5.754347e-01'),\n",
       "             ('fun2',\n",
       "              '-8.399509e-02*sex+5.002371e-02*cp+-1.599655e-02*trtbps+-2.503336e-02*chol+2.862905e-02*fbs+6.295717e-02*restecg+5.767878e-02*thalachh+-9.671785e-02*exng+-4.184164e-02*oldpeak+1.140673e-01*slp+-1.108304e-01*caa+-8.456792e-02*thall+4.921400e-01')])"
      ]
     },
     "execution_count": 49,
     "metadata": {},
     "output_type": "execute_result"
    }
   ],
   "source": [
    "model._outputfunctions"
   ]
  },
  {
   "cell_type": "code",
   "execution_count": 50,
   "metadata": {},
   "outputs": [
    {
     "data": {
      "text/plain": [
       "<Linguistic variable 'chol', contains fuzzy sets [<Fuzzy set (function), term='cluster1'>, <Fuzzy set (function), term='cluster2'>], universe of discourse: None>"
      ]
     },
     "execution_count": 50,
     "metadata": {},
     "output_type": "execute_result"
    }
   ],
   "source": [
    "model._lvs['chol'] # example of how pyFUME defines une linguistic variable in simpful"
   ]
  },
  {
   "cell_type": "code",
   "execution_count": 51,
   "metadata": {},
   "outputs": [],
   "source": [
    "# The pyFUME library doesn't atribute a universe of discourse to the linguistic variables it creates in simpful. In order to fix this, we set each universe considering the maximum\n",
    "# value heald by each dataframe column. This has to be done since, otherwise, the plotting functions won't work.\n",
    "\n",
    "for ix in range(len(var_names)):\n",
    "    max = maxs[ix]\n",
    "    min = mins[ix]\n",
    "    uod = [min, max]\n",
    "    model._lvs[var_names[ix]]._universe_of_discourse = uod"
   ]
  },
  {
   "cell_type": "code",
   "execution_count": 52,
   "metadata": {},
   "outputs": [
    {
     "data": {
      "text/plain": [
       "[[f.(c.(sex IS cluster1) AND f.(c.(cp IS cluster1) AND f.(c.(trtbps IS cluster1) AND f.(c.(chol IS cluster1) AND f.(c.(fbs IS cluster1) AND f.(c.(restecg IS cluster1) AND f.(c.(thalachh IS cluster1) AND f.(c.(exng IS cluster1) AND f.(c.(oldpeak IS cluster1) AND f.(c.(slp IS cluster1) AND f.(c.(caa IS cluster1) AND c.(thall IS cluster1)))))))))))),\n",
       "  ('OUTPUT', 'fun1')],\n",
       " [f.(c.(sex IS cluster2) AND f.(c.(cp IS cluster2) AND f.(c.(trtbps IS cluster2) AND f.(c.(chol IS cluster2) AND f.(c.(fbs IS cluster2) AND f.(c.(restecg IS cluster2) AND f.(c.(thalachh IS cluster2) AND f.(c.(exng IS cluster2) AND f.(c.(oldpeak IS cluster2) AND f.(c.(slp IS cluster2) AND f.(c.(caa IS cluster2) AND c.(thall IS cluster2)))))))))))),\n",
       "  ('OUTPUT', 'fun2')]]"
      ]
     },
     "execution_count": 52,
     "metadata": {},
     "output_type": "execute_result"
    }
   ],
   "source": [
    "model._rules"
   ]
  },
  {
   "cell_type": "code",
   "execution_count": 53,
   "metadata": {},
   "outputs": [],
   "source": [
    "#model.produce_figure(\"\",2)"
   ]
  },
  {
   "cell_type": "markdown",
   "metadata": {},
   "source": [
    "## Converting the model to X"
   ]
  },
  {
   "cell_type": "markdown",
   "metadata": {},
   "source": [
    "#### More functions"
   ]
  },
  {
   "cell_type": "code",
   "execution_count": 54,
   "metadata": {},
   "outputs": [],
   "source": [
    "def UODtoX(model, stats):\n",
    "    uods = {}\n",
    "    for lv in model._lvs:\n",
    "        data = stats[stats['Feature'] == lv]\n",
    "        mean = data.iloc[0,1]\n",
    "        std = data.iloc[0,2] ** 0.5\n",
    "        uod = model._lvs[lv]._universe_of_discourse\n",
    "        for i in range(2):\n",
    "            uod[i] = uod[i] * std + mean\n",
    "        uods[lv] = uod\n",
    "    return uods"
   ]
  },
  {
   "cell_type": "code",
   "execution_count": 55,
   "metadata": {},
   "outputs": [],
   "source": [
    "class XMF:\n",
    "\n",
    "    def __init__(self, uod, data, mu, sigma):\n",
    "        self.uod = uod\n",
    "        self.mean = data.iloc[0,1]\n",
    "        self.std = data.iloc[0,2] ** 0.5\n",
    "        self.mu = mu\n",
    "        self.sigma = sigma\n",
    "\n",
    "    def __call__(self, x):\n",
    "        #x = (x - self.mean) / self.std # X to Z\n",
    "        x = gaussian(x, self.mu, self.sigma, self.mean, self.std) # Z to MF\n",
    "        \n",
    "        return x"
   ]
  },
  {
   "cell_type": "code",
   "execution_count": 56,
   "metadata": {},
   "outputs": [],
   "source": [
    "def newMFS(model, stats, uods):\n",
    "    MFS = {}\n",
    "    for lv in model._lvs:\n",
    "        fs = []\n",
    "        data = stats[stats['Feature'] == lv]\n",
    "        uod = uods[lv]\n",
    "        for clust in range(len(model._lvs[lv]._FSlist)):\n",
    "            mu = model._lvs[lv]._FSlist[clust]._funpointer._mu\n",
    "            sigma = model._lvs[lv]._FSlist[clust]._funpointer._sigma\n",
    "            fs.append(XMF(uod, data, mu, sigma))\n",
    "        MFS[lv] = fs\n",
    "    return MFS"
   ]
  },
  {
   "cell_type": "code",
   "execution_count": 57,
   "metadata": {},
   "outputs": [],
   "source": [
    "def plotMFs(mfs, var):\n",
    "    mfs = mfs[var]\n",
    "    x = np.linspace(mfs[0].uod[0], mfs[0].uod[1], 100)\n",
    "    for i in range(len(mfs)):\n",
    "        y = [mfs[i](j) for j in x]\n",
    "        plt.plot(x, y)"
   ]
  },
  {
   "cell_type": "code",
   "execution_count": 58,
   "metadata": {},
   "outputs": [],
   "source": [
    "def FunctionstoX(model, stats):\n",
    "    final_df = pd.DataFrame(columns = var_names+['constant'])\n",
    "\n",
    "    for f in model._outputfunctions:\n",
    "        acumulated = 0 # value to be added to the intercept in the end\n",
    "        expression = model._outputfunctions[f]\n",
    "        item_list = expression.split('+')\n",
    "\n",
    "        for k in range(len(item_list) - 1):\n",
    "            item_list[k] = item_list[k].split('*')\n",
    "            values = stats[stats['Feature'] == item_list[k][1]]\n",
    "            std = values.iloc[0,2] ** 0.5\n",
    "            mean = values.iloc[0,1]\n",
    "            acumulated -= float(item_list[k][0]) * mean / (std) \n",
    "            item_list[k] = float(item_list[k][0]) / (std) \n",
    "            \n",
    "        item_list[-1] = float(item_list[-1]) + acumulated\n",
    "        final_df = pd.concat([final_df,pd.DataFrame([item_list], columns = var_names+['constant'])], axis = 0)\n",
    "        final_df.reset_index(drop=True, inplace=True)\n",
    "    return final_df"
   ]
  },
  {
   "cell_type": "code",
   "execution_count": 59,
   "metadata": {},
   "outputs": [],
   "source": [
    "def inference(X_test, mfs, consequents):\n",
    "\n",
    "    X = X_test.copy()\n",
    "    for i in range(best_number):\n",
    "        X[i] = Revert(X[i], stats)\n",
    "    y = [] # dim 1: weighted sum of the consequents for each cluster\n",
    "    dim = X.shape[1]\n",
    "    for i in range(X.shape[0]):\n",
    "        membership_list = []\n",
    "        for k in range(dim):\n",
    "            temp_list = [] # membership values for a certain variable. dim 1: clust\n",
    "            for clust in range(best_number):\n",
    "                temp_list.append(mfs[var_names[k]][clust](X[i,k]))\n",
    "            membership_list.append(temp_list)\n",
    "        membership_list = np.transpose(np.array(membership_list)) # membership values for a certain observation. dim 1: clust, dim 2: var\n",
    "        acumulated = 0\n",
    "        firing_strengths = 0\n",
    "        for h in range(best_number):\n",
    "            linear_sum = 0\n",
    "            for j in range(dim):\n",
    "                linear_sum += consequents.iloc[h,j] * X[i,j]\n",
    "            linear_sum += consequents.iloc[h,-1] # output of the linear function of cluster h\n",
    "            acumulated += linear_sum * np.min(membership_list[h]) \n",
    "            firing_strengths += np.min(membership_list[h])\n",
    "        acumulated = acumulated / firing_strengths\n",
    "        y.append(acumulated)\n",
    "\n",
    "    return np.array(y) # dim 1: observation"
   ]
  },
  {
   "cell_type": "markdown",
   "metadata": {},
   "source": [
    "#### Code"
   ]
  },
  {
   "cell_type": "code",
   "execution_count": 60,
   "metadata": {},
   "outputs": [],
   "source": [
    "uods = UODtoX(model, stats)\n",
    "mfs = newMFS(model, stats, uods)\n",
    "consequents = FunctionstoX(model, stats)\n",
    "#uods"
   ]
  },
  {
   "cell_type": "code",
   "execution_count": 61,
   "metadata": {},
   "outputs": [
    {
     "data": {
      "text/html": [
       "<div>\n",
       "<style scoped>\n",
       "    .dataframe tbody tr th:only-of-type {\n",
       "        vertical-align: middle;\n",
       "    }\n",
       "\n",
       "    .dataframe tbody tr th {\n",
       "        vertical-align: top;\n",
       "    }\n",
       "\n",
       "    .dataframe thead th {\n",
       "        text-align: right;\n",
       "    }\n",
       "</style>\n",
       "<table border=\"1\" class=\"dataframe\">\n",
       "  <thead>\n",
       "    <tr style=\"text-align: right;\">\n",
       "      <th></th>\n",
       "      <th>sex</th>\n",
       "      <th>cp</th>\n",
       "      <th>trtbps</th>\n",
       "      <th>chol</th>\n",
       "      <th>fbs</th>\n",
       "      <th>restecg</th>\n",
       "      <th>thalachh</th>\n",
       "      <th>exng</th>\n",
       "      <th>oldpeak</th>\n",
       "      <th>slp</th>\n",
       "      <th>caa</th>\n",
       "      <th>thall</th>\n",
       "    </tr>\n",
       "  </thead>\n",
       "  <tbody>\n",
       "    <tr>\n",
       "      <th>0</th>\n",
       "      <td>0.537219</td>\n",
       "      <td>0.806569</td>\n",
       "      <td>127.557816</td>\n",
       "      <td>253.852380</td>\n",
       "      <td>0.140936</td>\n",
       "      <td>0.513177</td>\n",
       "      <td>148.871957</td>\n",
       "      <td>0.334997</td>\n",
       "      <td>1.076813</td>\n",
       "      <td>1.298722</td>\n",
       "      <td>0.857593</td>\n",
       "      <td>2.282656</td>\n",
       "    </tr>\n",
       "    <tr>\n",
       "      <th>1</th>\n",
       "      <td>0.513431</td>\n",
       "      <td>0.960743</td>\n",
       "      <td>127.148825</td>\n",
       "      <td>254.972859</td>\n",
       "      <td>0.128359</td>\n",
       "      <td>0.487559</td>\n",
       "      <td>147.891587</td>\n",
       "      <td>0.349596</td>\n",
       "      <td>0.990010</td>\n",
       "      <td>1.221126</td>\n",
       "      <td>0.855003</td>\n",
       "      <td>2.316174</td>\n",
       "    </tr>\n",
       "  </tbody>\n",
       "</table>\n",
       "</div>"
      ],
      "text/plain": [
       "        sex        cp      trtbps        chol       fbs   restecg    thalachh  \\\n",
       "0  0.537219  0.806569  127.557816  253.852380  0.140936  0.513177  148.871957   \n",
       "1  0.513431  0.960743  127.148825  254.972859  0.128359  0.487559  147.891587   \n",
       "\n",
       "       exng   oldpeak       slp       caa     thall  \n",
       "0  0.334997  1.076813  1.298722  0.857593  2.282656  \n",
       "1  0.349596  0.990010  1.221126  0.855003  2.316174  "
      ]
     },
     "execution_count": 61,
     "metadata": {},
     "output_type": "execute_result"
    }
   ],
   "source": [
    "for i in range(best_number):\n",
    "    clust_centers[i] = Revert(clust_centers[i], stats)\n",
    "clust_centers = pd.DataFrame(clust_centers, columns = var_names)\n",
    "clust_centers"
   ]
  },
  {
   "cell_type": "code",
   "execution_count": 62,
   "metadata": {},
   "outputs": [
    {
     "data": {
      "image/png": "[encoded data removed]",
      "text/plain": [
       "<Figure size 640x480 with 1 Axes>"
      ]
     },
     "metadata": {},
     "output_type": "display_data"
    }
   ],
   "source": [
    "plotMFs(mfs, 'chol')"
   ]
  },
  {
   "cell_type": "code",
   "execution_count": 63,
   "metadata": {},
   "outputs": [
    {
     "data": {
      "text/html": [
       "<div>\n",
       "<style scoped>\n",
       "    .dataframe tbody tr th:only-of-type {\n",
       "        vertical-align: middle;\n",
       "    }\n",
       "\n",
       "    .dataframe tbody tr th {\n",
       "        vertical-align: top;\n",
       "    }\n",
       "\n",
       "    .dataframe thead th {\n",
       "        text-align: right;\n",
       "    }\n",
       "</style>\n",
       "<table border=\"1\" class=\"dataframe\">\n",
       "  <thead>\n",
       "    <tr style=\"text-align: right;\">\n",
       "      <th></th>\n",
       "      <th>sex</th>\n",
       "      <th>cp</th>\n",
       "      <th>trtbps</th>\n",
       "      <th>chol</th>\n",
       "      <th>fbs</th>\n",
       "      <th>restecg</th>\n",
       "      <th>thalachh</th>\n",
       "      <th>exng</th>\n",
       "      <th>oldpeak</th>\n",
       "      <th>slp</th>\n",
       "      <th>caa</th>\n",
       "      <th>thall</th>\n",
       "      <th>constant</th>\n",
       "    </tr>\n",
       "  </thead>\n",
       "  <tbody>\n",
       "    <tr>\n",
       "      <th>0</th>\n",
       "      <td>-0.215879</td>\n",
       "      <td>0.079720</td>\n",
       "      <td>-0.004894</td>\n",
       "      <td>-0.000394</td>\n",
       "      <td>0.118711</td>\n",
       "      <td>0.012238</td>\n",
       "      <td>0.003233</td>\n",
       "      <td>-0.117960</td>\n",
       "      <td>-0.040922</td>\n",
       "      <td>0.093592</td>\n",
       "      <td>-0.084021</td>\n",
       "      <td>-0.179659</td>\n",
       "      <td>1.283725</td>\n",
       "    </tr>\n",
       "    <tr>\n",
       "      <th>1</th>\n",
       "      <td>-0.176271</td>\n",
       "      <td>0.048348</td>\n",
       "      <td>-0.000963</td>\n",
       "      <td>-0.000527</td>\n",
       "      <td>0.084368</td>\n",
       "      <td>0.118457</td>\n",
       "      <td>0.002590</td>\n",
       "      <td>-0.210478</td>\n",
       "      <td>-0.039906</td>\n",
       "      <td>0.188227</td>\n",
       "      <td>-0.112692</td>\n",
       "      <td>-0.142604</td>\n",
       "      <td>0.595787</td>\n",
       "    </tr>\n",
       "  </tbody>\n",
       "</table>\n",
       "</div>"
      ],
      "text/plain": [
       "        sex        cp    trtbps      chol       fbs   restecg  thalachh  \\\n",
       "0 -0.215879  0.079720 -0.004894 -0.000394  0.118711  0.012238  0.003233   \n",
       "1 -0.176271  0.048348 -0.000963 -0.000527  0.084368  0.118457  0.002590   \n",
       "\n",
       "       exng   oldpeak       slp       caa     thall  constant  \n",
       "0 -0.117960 -0.040922  0.093592 -0.084021 -0.179659  1.283725  \n",
       "1 -0.210478 -0.039906  0.188227 -0.112692 -0.142604  0.595787  "
      ]
     },
     "execution_count": 63,
     "metadata": {},
     "output_type": "execute_result"
    }
   ],
   "source": [
    "consequents"
   ]
  },
  {
   "cell_type": "code",
   "execution_count": 64,
   "metadata": {},
   "outputs": [
    {
     "data": {
      "text/plain": [
       "array([-0.00771531,  0.23225969,  1.18586453,  0.5745089 ,  1.71982418,\n",
       "        1.21107267,  0.78561589,  0.05226509,  0.04405922,  0.51472748,\n",
       "        1.18649166,  0.24827915,  1.21383233,  0.55065298,  1.63278893,\n",
       "        1.1359568 ,  1.60728436, -0.20554665, -0.02947821,  0.12845648,\n",
       "        0.63445211,  0.0732988 ,  0.85211762,  1.38666734,  1.31779098,\n",
       "        0.88976174, -0.19715478,  0.6442971 , -0.03220153,  1.42680012,\n",
       "        0.13528648,  0.1830839 ,  1.09235135,  0.2849173 ,  1.11118338,\n",
       "        0.03943987,  1.08841212,  1.36651503,  0.64030716,  1.02955131,\n",
       "        0.86362024,  0.83661228,  1.35657565,  0.81231796,  0.956025  ,\n",
       "        1.19294831,  1.53198549,  1.51416288,  1.08934614, -0.07338852,\n",
       "        0.42879913, -0.20941819,  1.2570738 ,  1.58593667,  0.24878857,\n",
       "        0.41256302, -0.21641287,  1.27628087,  0.58435159,  0.76348705,\n",
       "        0.91653209])"
      ]
     },
     "execution_count": 64,
     "metadata": {},
     "output_type": "execute_result"
    }
   ],
   "source": [
    "inference(X_test, mfs, consequents)"
   ]
  },
  {
   "cell_type": "code",
   "execution_count": 65,
   "metadata": {},
   "outputs": [
    {
     "data": {
      "text/plain": [
       "array([-0.00771531,  0.23225969,  0.73716473,  0.16070843,  0.96610475,\n",
       "        0.82497911,  0.52089444,  0.02230733, -0.0953564 ,  0.38825336,\n",
       "        0.70528058,  0.0844779 ,  0.8244579 ,  0.30982468,  1.12717786,\n",
       "        0.83529758,  1.11395458, -0.21742157, -0.17026615,  0.02494287,\n",
       "        0.41791051, -0.08077803,  0.39641384,  0.68029282,  0.82012686,\n",
       "        0.59429783, -0.18868251,  0.54497436, -0.07232657,  0.92369993,\n",
       "        0.00528412,  0.09967756,  0.66638252,  0.29825809,  0.56086247,\n",
       "        0.01077967,  0.69607198,  0.82769684,  0.59556744,  0.78001342,\n",
       "        0.48764646,  0.63438488,  0.80545447,  0.61711261,  0.70351379,\n",
       "        0.32127457,  0.8329884 ,  1.00152788,  0.36768847, -0.12399145,\n",
       "       -0.0297377 , -0.20365946,  0.74828587,  1.01760984,  0.10528317,\n",
       "        0.32139738, -0.35464138,  0.90343543,  0.13546854,  0.52021051,\n",
       "        0.58952599])"
      ]
     },
     "execution_count": 65,
     "metadata": {},
     "output_type": "execute_result"
    }
   ],
   "source": [
    "a"
   ]
  },
  {
   "cell_type": "code",
   "execution_count": 66,
   "metadata": {},
   "outputs": [
    {
     "data": {
      "text/plain": [
       "array([ 0.73145871, -0.9664929 ,  0.07318899,  2.27401546, -0.39129279,\n",
       "        0.89002765, -0.79757941,  1.51702665,  0.21132583, -0.68470669,\n",
       "        0.33330663,  1.14050171])"
      ]
     },
     "execution_count": 66,
     "metadata": {},
     "output_type": "execute_result"
    }
   ],
   "source": [
    "X_test[0]"
   ]
  },
  {
   "cell_type": "code",
   "execution_count": 67,
   "metadata": {},
   "outputs": [
    {
     "data": {
      "text/plain": [
       "array([ 0.73145871,  0.9664929 , -0.34820971,  1.34727988, -0.39129279,\n",
       "        0.89002765, -0.84248984,  1.51702665,  0.78356767, -0.68470669,\n",
       "       -0.68348955,  1.14050171])"
      ]
     },
     "execution_count": 67,
     "metadata": {},
     "output_type": "execute_result"
    }
   ],
   "source": [
    "X_test[1]"
   ]
  },
  {
   "cell_type": "code",
   "execution_count": 68,
   "metadata": {},
   "outputs": [
    {
     "data": {
      "text/plain": [
       "array([ 0.73145871,  0.9664929 ,  1.15678564, -2.50709768,  2.55563104,\n",
       "        0.89002765,  1.0437482 , -0.6591842 , -0.74241058,  0.96543644,\n",
       "        0.33330663,  1.14050171])"
      ]
     },
     "execution_count": 68,
     "metadata": {},
     "output_type": "execute_result"
    }
   ],
   "source": [
    "X_test[2]"
   ]
  }
 ],
 "metadata": {
  "kernelspec": {
   "display_name": "IntelSis",
   "language": "python",
   "name": "python3"
  },
  "language_info": {
   "codemirror_mode": {
    "name": "ipython",
    "version": 3
   },
   "file_extension": ".py",
   "mimetype": "text/x-python",
   "name": "python",
   "nbconvert_exporter": "python",
   "pygments_lexer": "ipython3",
   "version": "3.12.4"
  }
 },
 "nbformat": 4,
 "nbformat_minor": 2
}
