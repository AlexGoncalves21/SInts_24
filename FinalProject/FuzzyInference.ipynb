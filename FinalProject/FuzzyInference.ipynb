{
 "cells": [
  {
   "cell_type": "markdown",
   "metadata": {},
   "source": [
    "## Importing Data and Libraries"
   ]
  },
  {
   "cell_type": "code",
   "execution_count": 228,
   "metadata": {},
   "outputs": [],
   "source": [
    "import pandas as pd\n",
    "import numpy as np\n",
    "import matplotlib.pyplot as plt\n",
    "from pyfume.Clustering import Clusterer\n",
    "from pyfume.EstimateAntecendentSet import AntecedentEstimator\n",
    "from pyfume.EstimateConsequentParameters import ConsequentEstimator\n",
    "from pyfume.SimpfulModelBuilder import SugenoFISBuilder\n",
    "from pyfume.Tester import SugenoFISTester\n",
    "from sklearn.metrics import accuracy_score, recall_score, precision_score, f1_score, cohen_kappa_score\n",
    "from numpy import clip, column_stack, argmax\n",
    "from scipy.spatial import distance\n",
    "from scipy.spatial.distance import cdist\n",
    "from sklearn.metrics import silhouette_score\n",
    "import warnings\n",
    "\n",
    "warnings.simplefilter(action='ignore', category=FutureWarning)"
   ]
  },
  {
   "cell_type": "code",
   "execution_count": 229,
   "metadata": {},
   "outputs": [
    {
     "data": {
      "text/plain": [
       "((241, 12), (61, 12), (241,), (61,))"
      ]
     },
     "execution_count": 229,
     "metadata": {},
     "output_type": "execute_result"
    }
   ],
   "source": [
    "Train = pd.read_csv('dataTrain.csv')\n",
    "Test = pd.read_csv('dataTest.csv')\n",
    "\n",
    "stats = pd.read_csv('stats.csv')\n",
    "stats = stats.iloc[:,1:]\n",
    "\n",
    "X_train = Train.drop('output', axis=1)\n",
    "y_train = Train['output']\n",
    "\n",
    "X_test = Test.drop('output', axis=1)\n",
    "y_test = Test['output']\n",
    "\n",
    "maxs = X_train.max().tolist()\n",
    "mins = X_train.min().tolist()\n",
    "\n",
    "var_names = X_train.columns.to_list()\n",
    "X_train.shape, X_test.shape, y_train.shape, y_test.shape"
   ]
  },
  {
   "cell_type": "code",
   "execution_count": 230,
   "metadata": {},
   "outputs": [
    {
     "data": {
      "text/html": [
       "<div>\n",
       "<style scoped>\n",
       "    .dataframe tbody tr th:only-of-type {\n",
       "        vertical-align: middle;\n",
       "    }\n",
       "\n",
       "    .dataframe tbody tr th {\n",
       "        vertical-align: top;\n",
       "    }\n",
       "\n",
       "    .dataframe thead th {\n",
       "        text-align: right;\n",
       "    }\n",
       "</style>\n",
       "<table border=\"1\" class=\"dataframe\">\n",
       "  <thead>\n",
       "    <tr style=\"text-align: right;\">\n",
       "      <th></th>\n",
       "      <th>Feature</th>\n",
       "      <th>Mean</th>\n",
       "      <th>Variance</th>\n",
       "    </tr>\n",
       "  </thead>\n",
       "  <tbody>\n",
       "    <tr>\n",
       "      <th>0</th>\n",
       "      <td>age</td>\n",
       "      <td>54.373444</td>\n",
       "      <td>83.926930</td>\n",
       "    </tr>\n",
       "    <tr>\n",
       "      <th>1</th>\n",
       "      <td>sex</td>\n",
       "      <td>0.651452</td>\n",
       "      <td>0.227062</td>\n",
       "    </tr>\n",
       "    <tr>\n",
       "      <th>2</th>\n",
       "      <td>cp</td>\n",
       "      <td>1.000000</td>\n",
       "      <td>1.070539</td>\n",
       "    </tr>\n",
       "    <tr>\n",
       "      <th>3</th>\n",
       "      <td>trtbps</td>\n",
       "      <td>130.784232</td>\n",
       "      <td>275.936847</td>\n",
       "    </tr>\n",
       "    <tr>\n",
       "      <th>4</th>\n",
       "      <td>chol</td>\n",
       "      <td>245.033195</td>\n",
       "      <td>2254.206367</td>\n",
       "    </tr>\n",
       "    <tr>\n",
       "      <th>5</th>\n",
       "      <td>fbs</td>\n",
       "      <td>0.132780</td>\n",
       "      <td>0.115150</td>\n",
       "    </tr>\n",
       "    <tr>\n",
       "      <th>6</th>\n",
       "      <td>restecg</td>\n",
       "      <td>0.526971</td>\n",
       "      <td>0.282468</td>\n",
       "    </tr>\n",
       "    <tr>\n",
       "      <th>7</th>\n",
       "      <td>thalachh</td>\n",
       "      <td>149.759336</td>\n",
       "      <td>495.798927</td>\n",
       "    </tr>\n",
       "    <tr>\n",
       "      <th>8</th>\n",
       "      <td>exng</td>\n",
       "      <td>0.302905</td>\n",
       "      <td>0.211153</td>\n",
       "    </tr>\n",
       "    <tr>\n",
       "      <th>9</th>\n",
       "      <td>oldpeak</td>\n",
       "      <td>0.978423</td>\n",
       "      <td>1.099368</td>\n",
       "    </tr>\n",
       "    <tr>\n",
       "      <th>10</th>\n",
       "      <td>slp</td>\n",
       "      <td>1.414938</td>\n",
       "      <td>0.367246</td>\n",
       "    </tr>\n",
       "    <tr>\n",
       "      <th>11</th>\n",
       "      <td>caa</td>\n",
       "      <td>0.672199</td>\n",
       "      <td>0.967235</td>\n",
       "    </tr>\n",
       "    <tr>\n",
       "      <th>12</th>\n",
       "      <td>thall</td>\n",
       "      <td>2.323651</td>\n",
       "      <td>0.351681</td>\n",
       "    </tr>\n",
       "  </tbody>\n",
       "</table>\n",
       "</div>"
      ],
      "text/plain": [
       "     Feature        Mean     Variance\n",
       "0        age   54.373444    83.926930\n",
       "1        sex    0.651452     0.227062\n",
       "2         cp    1.000000     1.070539\n",
       "3     trtbps  130.784232   275.936847\n",
       "4       chol  245.033195  2254.206367\n",
       "5        fbs    0.132780     0.115150\n",
       "6    restecg    0.526971     0.282468\n",
       "7   thalachh  149.759336   495.798927\n",
       "8       exng    0.302905     0.211153\n",
       "9    oldpeak    0.978423     1.099368\n",
       "10       slp    1.414938     0.367246\n",
       "11       caa    0.672199     0.967235\n",
       "12     thall    2.323651     0.351681"
      ]
     },
     "execution_count": 230,
     "metadata": {},
     "output_type": "execute_result"
    }
   ],
   "source": [
    "stats"
   ]
  },
  {
   "cell_type": "code",
   "execution_count": 231,
   "metadata": {},
   "outputs": [],
   "source": [
    "savecols = X_train.columns"
   ]
  },
  {
   "cell_type": "code",
   "execution_count": 232,
   "metadata": {},
   "outputs": [],
   "source": [
    "X_train = X_train.to_numpy()\n",
    "X_test = X_test.to_numpy()\n",
    "y_train = y_train.array\n",
    "y_test = y_test.array"
   ]
  },
  {
   "cell_type": "markdown",
   "metadata": {},
   "source": [
    "## Building the model"
   ]
  },
  {
   "cell_type": "markdown",
   "metadata": {},
   "source": [
    "### Clustering"
   ]
  },
  {
   "cell_type": "markdown",
   "metadata": {},
   "source": [
    "In this section, we will try out different numbers of clusters in order to minimize the separation between clusters. "
   ]
  },
  {
   "cell_type": "markdown",
   "metadata": {},
   "source": [
    "#### Functions"
   ]
  },
  {
   "cell_type": "code",
   "execution_count": 233,
   "metadata": {},
   "outputs": [],
   "source": [
    "def SeparationMetric(X_train, clust_centers, part_matrix):\n",
    "    metric = 0\n",
    "    for clust in range(clust_centers.shape[0]):\n",
    "        for point in range(X_train.shape[0]):\n",
    "            metric += part_matrix[point, clust] * distance.euclidean(X_train[point], clust_centers[clust])\n",
    "    return metric\n",
    "\n",
    "#def SeparationMetric(X_train, clust_centers, part_matrix):\n",
    "#    silhouette_score(X_train, )\n",
    "#    return metric"
   ]
  },
  {
   "cell_type": "code",
   "execution_count": 234,
   "metadata": {},
   "outputs": [],
   "source": [
    "# Since pyfume's clustering algorithm was using the the target, I made some modifcations to their fcm\n",
    "# code as seen below\n",
    "\n",
    "def fcm(data, n_clusters, m=2, max_iter=1000, error=0.005):\n",
    "        #data: 2d array, size (N, S). N is the number of instances; S is the number of variables\n",
    "        #n_clusters: number of clusters\n",
    "        #m: fuzzy clustering coefficient\n",
    "        #max_it: maximum number of iterations, default=1000\n",
    "        #error: stopping criterion, default=0.005\n",
    "        #seed: seed for random initialization of u matrix\n",
    "        \n",
    "    n_instances = data.shape[0]\n",
    "        \n",
    "    #randomly initaliaze u\n",
    "    np.random.seed(1231241421)\n",
    "    u = np.random.rand(n_instances, n_clusters)\n",
    "    u = np.fmax(u, np.finfo(np.float64).eps)\n",
    "    ut = u.T\n",
    "        \n",
    "    for it in range(0,max_iter):\n",
    "        #copy old u matrix\n",
    "        u_old = ut.copy()\n",
    "        u_old /= np.ones((n_clusters, 1)).dot(np.atleast_2d(u_old.sum(axis=0)))\n",
    "        u_old = np.fmax(u_old, np.finfo(np.float64).eps)\n",
    "        \n",
    "        #elevate to m\n",
    "        um = u_old ** m\n",
    "        \n",
    "        #calculate cluster centers\n",
    "        centers = um.dot(data) / (np.ones((data.shape[1], 1)).dot(np.atleast_2d(um.sum(axis=1))).T)\n",
    "        \n",
    "        #calculate distances\n",
    "        dist = cdist(centers, data, metric='euclidean')\n",
    "        dist = np.fmax(dist, np.finfo(np.float64).eps)\n",
    "        \n",
    "        #calculate objective\n",
    "        jm = (um * dist ** 2).sum()\n",
    "    \n",
    "        #calculate new u matrix\n",
    "        ut = dist ** (- 2. / (m - 1))\n",
    "        ut /= np.ones((n_clusters, 1)).dot(np.atleast_2d(ut.sum(axis=0)))\n",
    "    \n",
    "        #stopping criterion\n",
    "        if np.linalg.norm(ut - u_old) < error:\n",
    "            break\n",
    "    \n",
    "    partition_matrix = ut.T\n",
    "    return centers, partition_matrix"
   ]
  },
  {
   "cell_type": "code",
   "execution_count": 235,
   "metadata": {},
   "outputs": [],
   "source": [
    "def Cluster(nclusters):\n",
    "    clust_centers, part_matrix = fcm(X_train, n_clusters = nclusters)\n",
    "    return clust_centers, part_matrix"
   ]
  },
  {
   "cell_type": "code",
   "execution_count": 236,
   "metadata": {},
   "outputs": [],
   "source": [
    "def gaussian(x, mu, sig):\n",
    "    return (1.0 / (np.sqrt(2.0 * np.pi) * sig) * np.exp(-np.power((x - mu) / sig, 2.0) / 2))"
   ]
  },
  {
   "cell_type": "markdown",
   "metadata": {},
   "source": [
    "#### Code"
   ]
  },
  {
   "cell_type": "code",
   "execution_count": 237,
   "metadata": {},
   "outputs": [
    {
     "name": "stdout",
     "output_type": "stream",
     "text": [
      "Best number of clusters: 2\n"
     ]
    }
   ],
   "source": [
    "max_clusters = 2\n",
    "min_metric = np.inf\n",
    "\n",
    "for i in range(max_clusters):\n",
    "    i += 1\n",
    "    clust_centers, part_matrix = Cluster(i)\n",
    "    metric = SeparationMetric(X_train, clust_centers, part_matrix)\n",
    "    if metric < min_metric:\n",
    "        min_metric = metric\n",
    "        best_number = i\n",
    "\n",
    "print(f'Best number of clusters: {best_number}')"
   ]
  },
  {
   "cell_type": "code",
   "execution_count": 238,
   "metadata": {},
   "outputs": [
    {
     "data": {
      "text/plain": [
       "((2, 12), (241, 2))"
      ]
     },
     "execution_count": 238,
     "metadata": {},
     "output_type": "execute_result"
    }
   ],
   "source": [
    "clust_centers, part_matrix = Cluster(best_number)\n",
    "clust_centers.shape, part_matrix.shape"
   ]
  },
  {
   "cell_type": "markdown",
   "metadata": {},
   "source": [
    "### Building the model"
   ]
  },
  {
   "cell_type": "code",
   "execution_count": 239,
   "metadata": {},
   "outputs": [
    {
     "name": "stdout",
     "output_type": "stream",
     "text": [
      " * Detected 2 rules / clusters\n",
      " * Detected Sugeno model type\n"
     ]
    }
   ],
   "source": [
    "ae = AntecedentEstimator(X_train, part_matrix)\n",
    "antecedent_params = ae.determineMF()\n",
    "\n",
    "ce = ConsequentEstimator(X_train, y_train, part_matrix)\n",
    "conseq_params = ce.suglms()\n",
    "\n",
    "modbuilder = SugenoFISBuilder(antecedent_params, conseq_params, var_names, save_simpful_code=False)\n",
    "model = modbuilder.get_model()"
   ]
  },
  {
   "cell_type": "markdown",
   "metadata": {},
   "source": [
    "### Inference and Metrics"
   ]
  },
  {
   "cell_type": "code",
   "execution_count": 240,
   "metadata": {},
   "outputs": [],
   "source": [
    "modtester = SugenoFISTester(model, X_test, var_names)\n",
    "y_pred_probs = clip(modtester.predict()[0], 0, 1)\n",
    "y_pred_probs = column_stack((1 - y_pred_probs, y_pred_probs))\n",
    "y_pred = argmax(y_pred_probs,axis=1)"
   ]
  },
  {
   "cell_type": "code",
   "execution_count": 241,
   "metadata": {},
   "outputs": [
    {
     "name": "stdout",
     "output_type": "stream",
     "text": [
      "Accuracy: 0.836\n",
      "Recall: 0.844\n",
      "Precision Score: 0.844\n",
      "F1-Score: 0.844\n",
      "Kappa Score: 0.671\n"
     ]
    }
   ],
   "source": [
    "acc_score = accuracy_score(y_test, y_pred)\n",
    "print(\"Accuracy: {:.3f}\".format(acc_score))\n",
    "rec_score = recall_score(y_test, y_pred)\n",
    "print(\"Recall: {:.3f}\".format(rec_score))\n",
    "prec_score = precision_score(y_test, y_pred)\n",
    "print(\"Precision Score: {:.3f}\".format(prec_score))\n",
    "F1_score = f1_score(y_test, y_pred)\n",
    "print(\"F1-Score: {:.3f}\".format(F1_score))\n",
    "kappa = cohen_kappa_score(y_test, y_pred)\n",
    "print(\"Kappa Score: {:.3f}\".format(kappa))"
   ]
  },
  {
   "cell_type": "markdown",
   "metadata": {},
   "source": [
    "## Model Visualization/Interpretation"
   ]
  },
  {
   "cell_type": "code",
   "execution_count": 242,
   "metadata": {},
   "outputs": [
    {
     "data": {
      "text/plain": [
       "<Linguistic variable 'chol', contains fuzzy sets [<Fuzzy set (function), term='cluster1'>, <Fuzzy set (function), term='cluster2'>], universe of discourse: None>"
      ]
     },
     "execution_count": 242,
     "metadata": {},
     "output_type": "execute_result"
    }
   ],
   "source": [
    "model._lvs['chol'] # example of how pyFUME defines une linguistic variable in simpful"
   ]
  },
  {
   "cell_type": "code",
   "execution_count": 243,
   "metadata": {},
   "outputs": [
    {
     "data": {
      "text/plain": [
       "['IF ((sex IS cluster1) AND ((cp IS cluster1) AND ((trtbps IS cluster1) AND ((chol IS cluster1) AND ((fbs IS cluster1) AND ((restecg IS cluster1) AND ((thalachh IS cluster1) AND ((exng IS cluster1) AND ((oldpeak IS cluster1) AND ((slp IS cluster1) AND ((caa IS cluster1) AND (thall IS cluster1)))))))))))) THEN (OUTPUT IS fun1)',\n",
       " 'IF ((sex IS cluster2) AND ((cp IS cluster2) AND ((trtbps IS cluster2) AND ((chol IS cluster2) AND ((fbs IS cluster2) AND ((restecg IS cluster2) AND ((thalachh IS cluster2) AND ((exng IS cluster2) AND ((oldpeak IS cluster2) AND ((slp IS cluster2) AND ((caa IS cluster2) AND (thall IS cluster2)))))))))))) THEN (OUTPUT IS fun2)']"
      ]
     },
     "execution_count": 243,
     "metadata": {},
     "output_type": "execute_result"
    }
   ],
   "source": [
    "model.get_rules() # print the rules associated with the model"
   ]
  },
  {
   "cell_type": "code",
   "execution_count": 244,
   "metadata": {},
   "outputs": [],
   "source": [
    "# The pyFUME library doesn't atribute a universe of discourse to the linguistic variables it creates in simpful. In order to fix this, we set each universe considering the maximum\n",
    "# value heald by each dataframe column. This has to be done since, otherwise, the plotting functions won't work.\n",
    "\n",
    "for ix in range(len(var_names)):\n",
    "    max = maxs[ix]\n",
    "    min = mins[ix]\n",
    "    uod = [min, max]\n",
    "    model._lvs[var_names[ix]]._universe_of_discourse = uod\n"
   ]
  },
  {
   "cell_type": "code",
   "execution_count": 245,
   "metadata": {},
   "outputs": [],
   "source": [
    "#model.produce_figure(\"\",2)"
   ]
  },
  {
   "cell_type": "markdown",
   "metadata": {},
   "source": [
    "## Converting the model to X"
   ]
  },
  {
   "cell_type": "code",
   "execution_count": 246,
   "metadata": {},
   "outputs": [],
   "source": [
    "def UODtoX(model, stats):\n",
    "    uods = {}\n",
    "    for lv in model._lvs:\n",
    "        data = stats[stats['Feature'] == lv]\n",
    "        mean = data.iloc[0,1]\n",
    "        std = data.iloc[0,2] ** 0.5\n",
    "        uod = model._lvs[lv]._universe_of_discourse\n",
    "        for i in range(2):\n",
    "            uod[i] = uod[i] * std + mean\n",
    "        uods[lv] = uod\n",
    "    return uods"
   ]
  },
  {
   "cell_type": "code",
   "execution_count": 247,
   "metadata": {},
   "outputs": [],
   "source": [
    "def FunctionstoX(model, stats):\n",
    "    final_df = pd.DataFrame(columns = var_names+['constant'])\n",
    "\n",
    "    for f in model._outputfunctions:\n",
    "        acumulated = 0 # value to be added to the intercept in the end\n",
    "        expression = model._outputfunctions[f]\n",
    "        item_list = expression.split('+')\n",
    "\n",
    "        for k in range(len(item_list) - 1):\n",
    "            item_list[k] = item_list[k].split('*')\n",
    "            values = stats[stats['Feature'] == item_list[k][1]]\n",
    "            std = values.iloc[0,2] ** 0.5\n",
    "            mean = values.iloc[0,1]\n",
    "            acumulated += float(item_list[k][0]) * mean\n",
    "            item_list[k] = float(item_list[k][0]) * (std) \n",
    "            \n",
    "        item_list[-1] = float(item_list[-1]) + acumulated\n",
    "        final_df = pd.concat([final_df,pd.DataFrame([item_list], columns = var_names+['constant'])], axis = 0)\n",
    "        final_df.reset_index(drop=True, inplace=True)\n",
    "    return final_df"
   ]
  },
  {
   "cell_type": "code",
   "execution_count": 248,
   "metadata": {},
   "outputs": [],
   "source": [
    "class XMF:\n",
    "    def __init__(self, uod, data, mu, sigma):\n",
    "        self.uod = uod\n",
    "        self.mean = data.iloc[0,1]\n",
    "        self.std = data.iloc[0,2] ** 0.5\n",
    "        self.mu = mu\n",
    "        self.sigma = sigma\n",
    "\n",
    "    def __call__(self, x):\n",
    "        x = x * self.std + self.mean\n",
    "        x = gaussian(x, self.mu, self.sigma)\n",
    "        return x\n",
    "    "
   ]
  },
  {
   "cell_type": "code",
   "execution_count": 249,
   "metadata": {},
   "outputs": [],
   "source": [
    "def newMFS(model, stats, uods):\n",
    "    MFS = {}\n",
    "    for lv in model._lvs:\n",
    "        fs = []\n",
    "        data = stats[stats['Feature'] == lv]\n",
    "        uod = uods[lv]\n",
    "        for clust in range(len(model._lvs[lv]._FSlist)):\n",
    "            mu = model._lvs[lv]._FSlist[clust]._funpointer._mu\n",
    "            sigma = model._lvs[lv]._FSlist[clust]._funpointer._sigma\n",
    "            fs.append(XMF(uod, data, mu, sigma))\n",
    "        MFS[lv] = fs\n",
    "    return MFS"
   ]
  },
  {
   "cell_type": "code",
   "execution_count": 250,
   "metadata": {},
   "outputs": [],
   "source": [
    "def plotMFs(mfs, var):\n",
    "    mfs = mfs[var]\n",
    "    x = np.linspace(mfs[0].uod[0], mfs[0].uod[1], 100)\n",
    "    print(x)\n",
    "    for i in range(len(mfs)):\n",
    "        mu = mfs[i].mu\n",
    "        sig = mfs[i].sigma\n",
    "        print(-np.power((x - mu) / sig, 2.0) / 2)\n",
    "        y = [mfs[i](j) for j in x]\n",
    "        print(y)\n",
    "        plt.plot(x, y)"
   ]
  },
  {
   "cell_type": "code",
   "execution_count": 251,
   "metadata": {},
   "outputs": [],
   "source": [
    "uods = UODtoX(model, stats)\n",
    "mfs = newMFS(model, stats, uods)\n",
    "consequents = FunctionstoX(model, stats)"
   ]
  },
  {
   "cell_type": "code",
   "execution_count": 252,
   "metadata": {},
   "outputs": [
    {
     "name": "stdout",
     "output_type": "stream",
     "text": [
      "[131.         133.38383838 135.76767677 138.15151515 140.53535354\n",
      " 142.91919192 145.3030303  147.68686869 150.07070707 152.45454545\n",
      " 154.83838384 157.22222222 159.60606061 161.98989899 164.37373737\n",
      " 166.75757576 169.14141414 171.52525253 173.90909091 176.29292929\n",
      " 178.67676768 181.06060606 183.44444444 185.82828283 188.21212121\n",
      " 190.5959596  192.97979798 195.36363636 197.74747475 200.13131313\n",
      " 202.51515152 204.8989899  207.28282828 209.66666667 212.05050505\n",
      " 214.43434343 216.81818182 219.2020202  221.58585859 223.96969697\n",
      " 226.35353535 228.73737374 231.12121212 233.50505051 235.88888889\n",
      " 238.27272727 240.65656566 243.04040404 245.42424242 247.80808081\n",
      " 250.19191919 252.57575758 254.95959596 257.34343434 259.72727273\n",
      " 262.11111111 264.49494949 266.87878788 269.26262626 271.64646465\n",
      " 274.03030303 276.41414141 278.7979798  281.18181818 283.56565657\n",
      " 285.94949495 288.33333333 290.71717172 293.1010101  295.48484848\n",
      " 297.86868687 300.25252525 302.63636364 305.02020202 307.4040404\n",
      " 309.78787879 312.17171717 314.55555556 316.93939394 319.32323232\n",
      " 321.70707071 324.09090909 326.47474747 328.85858586 331.24242424\n",
      " 333.62626263 336.01010101 338.39393939 340.77777778 343.16161616\n",
      " 345.54545455 347.92929293 350.31313131 352.6969697  355.08080808\n",
      " 357.46464646 359.84848485 362.23232323 364.61616162 367.        ]\n",
      "[ -8.63622861  -8.95313978  -9.27576126  -9.60409306  -9.93813517\n",
      " -10.2778876  -10.62335034 -10.9745234  -11.33140678 -11.69400047\n",
      " -12.06230447 -12.43631879 -12.81604343 -13.20147838 -13.59262365\n",
      " -13.98947923 -14.39204512 -14.80032134 -15.21430786 -15.63400471\n",
      " -16.05941186 -16.49052934 -16.92735713 -17.36989523 -17.81814365\n",
      " -18.27210238 -18.73177143 -19.1971508  -19.66824048 -20.14504048\n",
      " -20.62755079 -21.11577141 -21.60970236 -22.10934361 -22.61469519\n",
      " -23.12575707 -23.64252928 -24.1650118  -24.69320463 -25.22710778\n",
      " -25.76672124 -26.31204502 -26.86307912 -27.41982353 -27.98227825\n",
      " -28.5504433  -29.12431865 -29.70390432 -30.28920031 -30.88020661\n",
      " -31.47692323 -32.07935016 -32.68748741 -33.30133498 -33.92089285\n",
      " -34.54616105 -35.17713956 -35.81382838 -36.45622752 -37.10433698\n",
      " -37.75815675 -38.41768684 -39.08292724 -39.75387795 -40.43053899\n",
      " -41.11291033 -41.800992   -42.49478397 -43.19428627 -43.89949888\n",
      " -44.6104218  -45.32705504 -46.04939859 -46.77745246 -47.51121665\n",
      " -48.25069115 -48.99587597 -49.7467711  -50.50337654 -51.26569231\n",
      " -52.03371838 -52.80745478 -53.58690148 -54.37205851 -55.16292585\n",
      " -55.9595035  -56.76179147 -57.56978975 -58.38349835 -59.20291727\n",
      " -60.0280465  -60.85888604 -61.6954359  -62.53769608 -63.38566657\n",
      " -64.23934738 -65.0987385  -65.96383994 -66.83465169 -67.71117376]\n",
      "[0.0, 0.0, 0.0, 0.0, 0.0, 0.0, 0.0, 0.0, 0.0, 0.0, 0.0, 0.0, 0.0, 0.0, 0.0, 0.0, 0.0, 0.0, 0.0, 0.0, 0.0, 0.0, 0.0, 0.0, 0.0, 0.0, 0.0, 0.0, 0.0, 0.0, 0.0, 0.0, 0.0, 0.0, 0.0, 0.0, 0.0, 0.0, 0.0, 0.0, 0.0, 0.0, 0.0, 0.0, 0.0, 0.0, 0.0, 0.0, 0.0, 0.0, 0.0, 0.0, 0.0, 0.0, 0.0, 0.0, 0.0, 0.0, 0.0, 0.0, 0.0, 0.0, 0.0, 0.0, 0.0, 0.0, 0.0, 0.0, 0.0, 0.0, 0.0, 0.0, 0.0, 0.0, 0.0, 0.0, 0.0, 0.0, 0.0, 0.0, 0.0, 0.0, 0.0, 0.0, 0.0, 0.0, 0.0, 0.0, 0.0, 0.0, 0.0, 0.0, 0.0, 0.0, 0.0, 0.0, 0.0, 0.0, 0.0, 0.0]\n",
      "[ -13.30721371  -13.79635272  -14.29431995  -14.80111541  -15.3167391\n",
      "  -15.84119101  -16.37447115  -16.91657952  -17.46751612  -18.02728095\n",
      "  -18.595874    -19.17329528  -19.75954478  -20.35462252  -20.95852848\n",
      "  -21.57126267  -22.19282509  -22.82321573  -23.46243461  -24.11048171\n",
      "  -24.76735703  -25.43306059  -26.10759237  -26.79095238  -27.48314062\n",
      "  -28.18415708  -28.89400178  -29.6126747   -30.34017584  -31.07650522\n",
      "  -31.82166282  -32.57564865  -33.33846271  -34.11010499  -34.8905755\n",
      "  -35.67987424  -36.47800121  -37.28495641  -38.10073983  -38.92535148\n",
      "  -39.75879136  -40.60105946  -41.45215579  -42.31208035  -43.18083314\n",
      "  -44.05841415  -44.9448234   -45.84006087  -46.74412656  -47.65702049\n",
      "  -48.57874264  -49.50929302  -50.44867163  -51.39687846  -52.35391353\n",
      "  -53.31977682  -54.29446833  -55.27798808  -56.27033605  -57.27151225\n",
      "  -58.28151668  -59.30034933  -60.32801021  -61.36449932  -62.40981666\n",
      "  -63.46396223  -64.52693602  -65.59873804  -66.67936829  -67.76882676\n",
      "  -68.86711346  -69.97422839  -71.09017155  -72.21494294  -73.34854255\n",
      "  -74.49097039  -75.64222646  -76.80231075  -77.97122327  -79.14896402\n",
      "  -80.335533    -81.5309302   -82.73515564  -83.9482093   -85.17009118\n",
      "  -86.4008013   -87.64033964  -88.88870621  -90.14590101  -91.41192403\n",
      "  -92.68677529  -93.97045477  -95.26296247  -96.56429841  -97.87446257\n",
      "  -99.19345496 -100.52127558 -101.85792442 -103.20340149 -104.55770679]\n",
      "[0.0, 0.0, 0.0, 0.0, 0.0, 0.0, 0.0, 0.0, 0.0, 0.0, 0.0, 0.0, 0.0, 0.0, 0.0, 0.0, 0.0, 0.0, 0.0, 0.0, 0.0, 0.0, 0.0, 0.0, 0.0, 0.0, 0.0, 0.0, 0.0, 0.0, 0.0, 0.0, 0.0, 0.0, 0.0, 0.0, 0.0, 0.0, 0.0, 0.0, 0.0, 0.0, 0.0, 0.0, 0.0, 0.0, 0.0, 0.0, 0.0, 0.0, 0.0, 0.0, 0.0, 0.0, 0.0, 0.0, 0.0, 0.0, 0.0, 0.0, 0.0, 0.0, 0.0, 0.0, 0.0, 0.0, 0.0, 0.0, 0.0, 0.0, 0.0, 0.0, 0.0, 0.0, 0.0, 0.0, 0.0, 0.0, 0.0, 0.0, 0.0, 0.0, 0.0, 0.0, 0.0, 0.0, 0.0, 0.0, 0.0, 0.0, 0.0, 0.0, 0.0, 0.0, 0.0, 0.0, 0.0, 0.0, 0.0, 0.0]\n"
     ]
    },
    {
     "data": {
      "image/png": "[encoded data removed]",
      "text/plain": [
       "<Figure size 640x480 with 1 Axes>"
      ]
     },
     "metadata": {},
     "output_type": "display_data"
    }
   ],
   "source": [
    "plotMFs(mfs, 'chol')"
   ]
  }
 ],
 "metadata": {
  "kernelspec": {
   "display_name": "base",
   "language": "python",
   "name": "python3"
  },
  "language_info": {
   "codemirror_mode": {
    "name": "ipython",
    "version": 3
   },
   "file_extension": ".py",
   "mimetype": "text/x-python",
   "name": "python",
   "nbconvert_exporter": "python",
   "pygments_lexer": "ipython3",
   "version": "3.12.2"
  }
 },
 "nbformat": 4,
 "nbformat_minor": 2
}
