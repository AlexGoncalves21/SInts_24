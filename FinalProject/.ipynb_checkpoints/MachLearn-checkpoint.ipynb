{
 "cells": [
  {
   "cell_type": "markdown",
   "metadata": {},
   "source": [
    "## Importing Data and Libraries"
   ]
  },
  {
   "cell_type": "code",
   "execution_count": 13,
   "metadata": {},
   "outputs": [],
   "source": [
    "import pandas as pd\n",
    "import numpy as np\n",
    "import tensorflow as tf\n",
    "from sklearn.metrics import (\n",
    "    accuracy_score, \n",
    "    recall_score, \n",
    "    precision_score, \n",
    "    f1_score, \n",
    "    cohen_kappa_score\n",
    ")\n",
    "from sklearn.model_selection import KFold\n",
    "from sklearn.ensemble import RandomForestClassifier\n",
    "from xgboost import XGBClassifier\n",
    "from sklearn.svm import SVC\n"
   ]
  },
  {
   "cell_type": "code",
   "execution_count": 14,
   "metadata": {},
   "outputs": [],
   "source": [
    "Train = pd.read_csv('dataTrain.csv')\n",
    "Test = pd.read_csv('dataTest.csv')\n",
    "\n",
    "stats = pd.read_csv('stats.csv')\n",
    "stats = stats.iloc[:,1:]\n",
    "\n",
    "X_train = Train.drop('output', axis=1)\n",
    "y_train = Train['output']\n",
    "\n",
    "X_test = Test.drop('output', axis=1)\n",
    "y_test = Test['output']"
   ]
  },
  {
   "cell_type": "code",
   "execution_count": 15,
   "metadata": {},
   "outputs": [],
   "source": [
    "X_train = X_train.to_numpy()\n",
    "X_test = X_test.to_numpy()\n",
    "y_train = y_train.array\n",
    "y_test = y_test.array"
   ]
  },
  {
   "cell_type": "markdown",
   "metadata": {},
   "source": [
    "## Building the model"
   ]
  },
  {
   "cell_type": "markdown",
   "metadata": {},
   "source": [
    "### RFC"
   ]
  },
  {
   "cell_type": "code",
   "execution_count": 16,
   "metadata": {},
   "outputs": [
    {
     "name": "stdout",
     "output_type": "stream",
     "text": [
      "Average Accuracy: 0.822 ± 0.043\n",
      "Average Recall: 0.822 ± 0.043\n",
      "Average Precision: 0.826 ± 0.046\n",
      "Average F1-Score: 0.820 ± 0.044\n",
      "Average Kappa: 0.631 ± 0.087\n"
     ]
    }
   ],
   "source": [
    "def trainRandomForest(X, y, n_splits=5):\n",
    "    kf = KFold(n_splits=n_splits, shuffle=True, random_state=1)\n",
    "    accuracies, recalls, precisions, f1_scores, kappas = [], [], [], [], []\n",
    "    \n",
    "    for train_index, test_index in kf.split(X):\n",
    "        X_train, X_test = X[train_index], X[test_index]\n",
    "        y_train, y_test = y[train_index], y[test_index]\n",
    "        \n",
    "        model = RandomForestClassifier(random_state=1)\n",
    "        model.fit(X_train, y_train)\n",
    "        y_pred = model.predict(X_test)\n",
    "\n",
    "        accuracies.append(accuracy_score(y_test, y_pred))\n",
    "        recalls.append(recall_score(y_test, y_pred, average='weighted'))\n",
    "        precisions.append(precision_score(y_test, y_pred, average='weighted'))\n",
    "        f1_scores.append(f1_score(y_test, y_pred, average='weighted'))\n",
    "        kappas.append(cohen_kappa_score(y_test, y_pred))\n",
    "\n",
    "    print(f\"Average Accuracy: {np.mean(accuracies):.3f} ± {np.std(accuracies):.3f}\")\n",
    "    print(f\"Average Recall: {np.mean(recalls):.3f} ± {np.std(recalls):.3f}\")\n",
    "    print(f\"Average Precision: {np.mean(precisions):.3f} ± {np.std(precisions):.3f}\")\n",
    "    print(f\"Average F1-Score: {np.mean(f1_scores):.3f} ± {np.std(f1_scores):.3f}\")\n",
    "    print(f\"Average Kappa: {np.mean(kappas):.3f} ± {np.std(kappas):.3f}\")\n",
    "\n",
    "trainRandomForest(X_train, y_train)"
   ]
  },
  {
   "cell_type": "markdown",
   "metadata": {},
   "source": [
    "XGB"
   ]
  },
  {
   "cell_type": "code",
   "execution_count": 17,
   "metadata": {},
   "outputs": [
    {
     "name": "stdout",
     "output_type": "stream",
     "text": [
      "Average Accuracy: 0.784 ± 0.041\n",
      "Average Recall: 0.784 ± 0.041\n",
      "Average Precision: 0.794 ± 0.050\n",
      "Average F1-Score: 0.782 ± 0.041\n",
      "Average Kappa: 0.553 ± 0.083\n"
     ]
    }
   ],
   "source": [
    "# Define the Gradient Boosting training function\n",
    "def trainGradientBoosting(X, y, n_splits=5):\n",
    "    kf = KFold(n_splits=n_splits, shuffle=True, random_state=1)\n",
    "    accuracies, recalls, precisions, f1_scores, kappas = [], [], [], [], []\n",
    "    \n",
    "    for train_index, test_index in kf.split(X):\n",
    "        \n",
    "        X_train, X_test = X[train_index], X[test_index]\n",
    "        y_train, y_test = y[train_index], y[test_index]\n",
    "        \n",
    "        model = XGBClassifier(eval_metric=\"logloss\", random_state=1)\n",
    "        model.fit(X_train, y_train)\n",
    "        y_pred = model.predict(X_test)\n",
    "\n",
    "        accuracies.append(accuracy_score(y_test, y_pred))\n",
    "        recalls.append(recall_score(y_test, y_pred, average='weighted'))\n",
    "        precisions.append(precision_score(y_test, y_pred, average='weighted'))\n",
    "        f1_scores.append(f1_score(y_test, y_pred, average='weighted'))\n",
    "        kappas.append(cohen_kappa_score(y_test, y_pred))\n",
    "\n",
    "    print(f\"Average Accuracy: {np.mean(accuracies):.3f} ± {np.std(accuracies):.3f}\")\n",
    "    print(f\"Average Recall: {np.mean(recalls):.3f} ± {np.std(recalls):.3f}\")\n",
    "    print(f\"Average Precision: {np.mean(precisions):.3f} ± {np.std(precisions):.3f}\")\n",
    "    print(f\"Average F1-Score: {np.mean(f1_scores):.3f} ± {np.std(f1_scores):.3f}\")\n",
    "    print(f\"Average Kappa: {np.mean(kappas):.3f} ± {np.std(kappas):.3f}\")\n",
    "\n",
    "trainGradientBoosting(X_train, y_train)"
   ]
  },
  {
   "cell_type": "markdown",
   "metadata": {},
   "source": [
    "SVM"
   ]
  },
  {
   "cell_type": "code",
   "execution_count": 18,
   "metadata": {},
   "outputs": [
    {
     "name": "stdout",
     "output_type": "stream",
     "text": [
      "Average Accuracy: 0.805 ± 0.037\n",
      "Average Recall: 0.805 ± 0.037\n",
      "Average Precision: 0.811 ± 0.039\n",
      "Average F1-Score: 0.805 ± 0.036\n",
      "Average Kappa: 0.601 ± 0.076\n"
     ]
    }
   ],
   "source": [
    "def trainSVM(X, y, n_splits=5):\n",
    "    kf = KFold(n_splits=n_splits, shuffle=True, random_state=1)\n",
    "    accuracies, recalls, precisions, f1_scores, kappas = [], [], [], [], []\n",
    "    \n",
    "    for train_index, test_index in kf.split(X):\n",
    "        X_train, X_test = X[train_index], X[test_index]\n",
    "        y_train, y_test = y[train_index], y[test_index]\n",
    "        \n",
    "        model = SVC(kernel='rbf', class_weight='balanced', random_state=1)\n",
    "        model.fit(X_train, y_train)\n",
    "        y_pred = model.predict(X_test)\n",
    "\n",
    "        accuracies.append(accuracy_score(y_test, y_pred))\n",
    "        recalls.append(recall_score(y_test, y_pred, average='weighted'))\n",
    "        precisions.append(precision_score(y_test, y_pred, average='weighted'))\n",
    "        f1_scores.append(f1_score(y_test, y_pred, average='weighted'))\n",
    "        kappas.append(cohen_kappa_score(y_test, y_pred))\n",
    "\n",
    "    print(f\"Average Accuracy: {np.mean(accuracies):.3f} ± {np.std(accuracies):.3f}\")\n",
    "    print(f\"Average Recall: {np.mean(recalls):.3f} ± {np.std(recalls):.3f}\")\n",
    "    print(f\"Average Precision: {np.mean(precisions):.3f} ± {np.std(precisions):.3f}\")\n",
    "    print(f\"Average F1-Score: {np.mean(f1_scores):.3f} ± {np.std(f1_scores):.3f}\")\n",
    "    print(f\"Average Kappa: {np.mean(kappas):.3f} ± {np.std(kappas):.3f}\")\n",
    "\n",
    "trainSVM(X_train, y_train)"
   ]
  }
 ],
 "metadata": {
  "kernelspec": {
   "display_name": "Python 3 (ipykernel)",
   "language": "python",
   "name": "python3"
  },
  "language_info": {
   "codemirror_mode": {
    "name": "ipython",
    "version": 3
   },
   "file_extension": ".py",
   "mimetype": "text/x-python",
   "name": "python",
   "nbconvert_exporter": "python",
   "pygments_lexer": "ipython3",
   "version": "3.12.4"
  }
 },
 "nbformat": 4,
 "nbformat_minor": 4
}
