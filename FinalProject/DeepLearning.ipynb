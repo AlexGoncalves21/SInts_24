{
 "cells": [
  {
   "cell_type": "code",
   "execution_count": 27,
   "metadata": {},
   "outputs": [],
   "source": [
    "import pandas as pd\n",
    "from sklearn.neural_network import MLPClassifier\n",
    "from sklearn.metrics import accuracy_score, recall_score, precision_score, f1_score, cohen_kappa_score\n",
    "from sklearn.model_selection import KFold"
   ]
  },
  {
   "cell_type": "code",
   "execution_count": 28,
   "metadata": {},
   "outputs": [
    {
     "data": {
      "text/plain": [
       "((241, 12), (61, 12), (241,), (61,))"
      ]
     },
     "execution_count": 28,
     "metadata": {},
     "output_type": "execute_result"
    }
   ],
   "source": [
    "Train = pd.read_csv('dataTrain.csv')\n",
    "Test = pd.read_csv('dataTest.csv')\n",
    "\n",
    "X_train = Train.drop('output', axis=1)\n",
    "y_train = Train['output']\n",
    "\n",
    "X_test = Test.drop('output', axis=1)\n",
    "y_test = Test['output']\n",
    "\n",
    "maxs = X_train.max().tolist()\n",
    "X_train.shape, X_test.shape, y_train.shape, y_test.shape"
   ]
  },
  {
   "cell_type": "code",
   "execution_count": 29,
   "metadata": {},
   "outputs": [
    {
     "name": "stdout",
     "output_type": "stream",
     "text": [
      "\n",
      "Architecture: [5]\n",
      "Accuracy: 0.869\n",
      "Recall: 0.906\n",
      "Precision Score: 0.853\n",
      "F1-Score: 0.879\n",
      "Kappa Score: 0.736\n",
      "\n",
      "Architecture: [10]\n",
      "Accuracy: 0.885\n",
      "Recall: 0.875\n",
      "Precision Score: 0.903\n",
      "F1-Score: 0.889\n",
      "Kappa Score: 0.770\n",
      "\n",
      "Architecture: [5, 5]\n",
      "Accuracy: 0.852\n",
      "Recall: 0.812\n",
      "Precision Score: 0.897\n",
      "F1-Score: 0.852\n",
      "Kappa Score: 0.706\n",
      "\n",
      "Architecture: [5, 10]\n",
      "Accuracy: 0.852\n",
      "Recall: 0.844\n",
      "Precision Score: 0.871\n",
      "F1-Score: 0.857\n",
      "Kappa Score: 0.705\n",
      "\n",
      "Architecture: [10, 10]\n",
      "Accuracy: 0.852\n",
      "Recall: 0.781\n",
      "Precision Score: 0.926\n",
      "F1-Score: 0.847\n",
      "Kappa Score: 0.707\n"
     ]
    }
   ],
   "source": [
    "def trainMLP(HLS):\n",
    "    regr = MLPClassifier(hidden_layer_sizes=HLS,random_state=1, max_iter=5000)\n",
    "    regr.fit(X_train, y_train)\n",
    "\n",
    "    y_pred = regr.predict(X_test)\n",
    "\n",
    "    print('')\n",
    "    print('Architecture: {list}'.format(list = HLS))\n",
    "    acc_score = accuracy_score(y_test, y_pred)\n",
    "    print(\"Accuracy: {:.3f}\".format(acc_score))\n",
    "    rec_score = recall_score(y_test, y_pred)\n",
    "    print(\"Recall: {:.3f}\".format(rec_score))\n",
    "    prec_score = precision_score(y_test, y_pred)\n",
    "    print(\"Precision Score: {:.3f}\".format(prec_score))\n",
    "    F1_score = f1_score(y_test, y_pred)\n",
    "    print(\"F1-Score: {:.3f}\".format(F1_score))\n",
    "    kappa = cohen_kappa_score(y_test, y_pred)\n",
    "    print(\"Kappa Score: {:.3f}\".format(kappa))\n",
    "\n",
    "Architectures = [[5],[10], [5, 5], [5, 10],[10, 10]]\n",
    "\n",
    "for i in Architectures: trainMLP(i)"
   ]
  },
  {
   "cell_type": "code",
   "execution_count": 30,
   "metadata": {},
   "outputs": [
    {
     "name": "stdout",
     "output_type": "stream",
     "text": [
      "\n",
      "Architecture: [5]\n",
      "Average Accuracy: 0.821 ± 0.029\n",
      "Average Recall: 0.821 ± 0.029\n",
      "Average Precision: 0.837 ± 0.022\n",
      "Average F1-Score: 0.818 ± 0.032\n",
      "Average Kappa: 0.630 ± 0.059\n",
      "\n",
      "Architecture: [10]\n",
      "Average Accuracy: 0.776 ± 0.035\n",
      "Average Recall: 0.776 ± 0.035\n",
      "Average Precision: 0.781 ± 0.039\n",
      "Average F1-Score: 0.774 ± 0.038\n",
      "Average Kappa: 0.537 ± 0.079\n",
      "\n",
      "Architecture: [5, 5]\n",
      "Average Accuracy: 0.764 ± 0.053\n",
      "Average Recall: 0.764 ± 0.053\n",
      "Average Precision: 0.769 ± 0.051\n",
      "Average F1-Score: 0.763 ± 0.052\n",
      "Average Kappa: 0.515 ± 0.103\n",
      "\n",
      "Architecture: [5, 10]\n",
      "Average Accuracy: 0.772 ± 0.033\n",
      "Average Recall: 0.772 ± 0.033\n",
      "Average Precision: 0.776 ± 0.031\n",
      "Average F1-Score: 0.771 ± 0.032\n",
      "Average Kappa: 0.529 ± 0.066\n",
      "\n",
      "Architecture: [10, 10]\n",
      "Average Accuracy: 0.760 ± 0.087\n",
      "Average Recall: 0.760 ± 0.087\n",
      "Average Precision: 0.767 ± 0.090\n",
      "Average F1-Score: 0.758 ± 0.087\n",
      "Average Kappa: 0.505 ± 0.182\n"
     ]
    }
   ],
   "source": [
    "def trainMLP(hidden_layer_sizes, X, y, n_splits=5):\n",
    "    kf = KFold(n_splits=n_splits, shuffle=True, random_state=1)\n",
    "    \n",
    "    accuracies = []\n",
    "    recalls = []\n",
    "    precisions = []\n",
    "    f1_scores = []\n",
    "    kappas = []\n",
    "    \n",
    "    for train_index, test_index in kf.split(X):\n",
    "        X_train2, X_test2 = X.iloc[train_index], X.iloc[test_index]\n",
    "        y_train2, y_test2 = y.iloc[train_index], y.iloc[test_index]\n",
    "        \n",
    "        regr = MLPClassifier(hidden_layer_sizes=hidden_layer_sizes, random_state=1, max_iter=5000)\n",
    "        regr.fit(X_train2, y_train2)\n",
    "\n",
    "        y_pred = regr.predict(X_test2)\n",
    "\n",
    "        acc_score = accuracy_score(y_test2, y_pred)  \n",
    "        rec_score = recall_score(y_test2, y_pred, average='weighted')  \n",
    "        prec_score = precision_score(y_test2, y_pred, average='weighted')  \n",
    "        F1_score = f1_score(y_test2, y_pred, average='weighted')\n",
    "        kappa = cohen_kappa_score(y_test2, y_pred)\n",
    "\n",
    "        accuracies.append(acc_score)\n",
    "        recalls.append(rec_score)\n",
    "        precisions.append(prec_score)\n",
    "        f1_scores.append(F1_score)\n",
    "        kappas.append(kappa)\n",
    "\n",
    "    print(f'\\nArchitecture: {hidden_layer_sizes}')\n",
    "    print(f\"Average Accuracy: {np.mean(accuracies):.3f} ± {np.std(accuracies):.3f}\")\n",
    "    print(f\"Average Recall: {np.mean(recalls):.3f} ± {np.std(recalls):.3f}\")\n",
    "    print(f\"Average Precision: {np.mean(precisions):.3f} ± {np.std(precisions):.3f}\")\n",
    "    print(f\"Average F1-Score: {np.mean(f1_scores):.3f} ± {np.std(f1_scores):.3f}\")\n",
    "    print(f\"Average Kappa: {np.mean(kappas):.3f} ± {np.std(kappas):.3f}\")\n",
    "\n",
    "Architectures = [[5], [10], [5, 5], [5, 10], [10, 10]]\n",
    "\n",
    "for arch in Architectures:\n",
    "    trainMLP(arch, X_train, y_train, n_splits=5)"
   ]
  },
  {
   "cell_type": "code",
   "execution_count": null,
   "metadata": {},
   "outputs": [],
   "source": []
  }
 ],
 "metadata": {
  "kernelspec": {
   "display_name": "Python 3 (ipykernel)",
   "language": "python",
   "name": "python3"
  },
  "language_info": {
   "codemirror_mode": {
    "name": "ipython",
    "version": 3
   },
   "file_extension": ".py",
   "mimetype": "text/x-python",
   "name": "python",
   "nbconvert_exporter": "python",
   "pygments_lexer": "ipython3",
   "version": "3.12.4"
  }
 },
 "nbformat": 4,
 "nbformat_minor": 4
}
