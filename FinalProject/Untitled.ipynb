{
 "cells": [
  {
   "cell_type": "code",
   "execution_count": null,
   "id": "5517e0cf-839d-413e-af3d-4cab0b583e65",
   "metadata": {},
   "outputs": [],
   "source": [
    "def trainMLP(hidden_layer_sizes, X, y, n_splits=5):\n",
    "    kf = KFold(n_splits=n_splits, shuffle=True, random_state=1)\n",
    "    \n",
    "    accuracies = []\n",
    "    recalls = []\n",
    "    precisions = []\n",
    "    f1_scores = []\n",
    "    kappas = []\n",
    "    \n",
    "    for train_index, test_index in kf.split(X):\n",
    "        X_train2, X_test2 = X_train[train_index], X_test[test_index]\n",
    "        y_train2, y_test2 = y_train[train_index], y_test[test_index]\n",
    "        \n",
    "        regr = MLPClassifier(hidden_layer_sizes=hidden_layer_sizes, random_state=1, max_iter=5000)\n",
    "        regr.fit(X_train2, y_train2)\n",
    "\n",
    "        y_pred = regr.predict(X_test2)\n",
    "\n",
    "        # Calculate metrics for the current fold\n",
    "        acc_score = accuracy_score(y_test, y_pred)\n",
    "        rec_score = recall_score(y_test, y_pred)\n",
    "        prec_score = precision_score(y_test, y_pred)\n",
    "        F1_score = f1_score(y_test, y_pred)\n",
    "        kappa = cohen_kappa_score(y_test, y_pred)\n",
    "\n",
    "        # Append metrics to lists\n",
    "        accuracies.append(acc_score)\n",
    "        recalls.append(rec_score)\n",
    "        precisions.append(prec_score)\n",
    "        f1_scores.append(F1_score)\n",
    "        kappas.append(kappa)\n",
    "\n",
    "    # Calculate average metrics across all folds\n",
    "    print(f'\\nArchitecture: {hidden_layer_sizes}')\n",
    "    print(f\"Average Accuracy: {np.mean(accuracies):.3f} ± {np.std(accuracies):.3f}\")\n",
    "    print(f\"Average Recall: {np.mean(recalls):.3f} ± {np.std(recalls):.3f}\")\n",
    "    print(f\"Average Precision: {np.mean(precisions):.3f} ± {np.std(precisions):.3f}\")\n",
    "    print(f\"Average F1-Score: {np.mean(f1_scores):.3f} ± {np.std(f1_scores):.3f}\")\n",
    "    print(f\"Average Kappa: {np.mean(kappas):.3f} ± {np.std(kappas):.3f}\")\n",
    "\n",
    "Architectures = [[5], [10], [5, 5], [5, 10], [10, 10]]\n",
    "\n",
    "for arch in Architectures:\n",
    "    trainMLP(arch, X_train, y_train, n_splits=5)\n"
   ]
  }
 ],
 "metadata": {
  "kernelspec": {
   "display_name": "Python 3 (ipykernel)",
   "language": "python",
   "name": "python3"
  },
  "language_info": {
   "codemirror_mode": {
    "name": "ipython",
    "version": 3
   },
   "file_extension": ".py",
   "mimetype": "text/x-python",
   "name": "python",
   "nbconvert_exporter": "python",
   "pygments_lexer": "ipython3",
   "version": "3.12.4"
  }
 },
 "nbformat": 4,
 "nbformat_minor": 5
}
