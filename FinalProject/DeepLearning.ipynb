{
 "cells": [
  {
   "cell_type": "code",
   "execution_count": 9,
   "metadata": {},
   "outputs": [],
   "source": [
    "import pandas as pd\n",
    "from sklearn.neural_network import MLPClassifier\n",
    "from sklearn.metrics import accuracy_score, recall_score, precision_score, f1_score, cohen_kappa_score"
   ]
  },
  {
   "cell_type": "code",
   "execution_count": 10,
   "metadata": {},
   "outputs": [
    {
     "data": {
      "text/plain": [
       "((241, 12), (61, 12), (241,), (61,))"
      ]
     },
     "execution_count": 10,
     "metadata": {},
     "output_type": "execute_result"
    }
   ],
   "source": [
    "Train = pd.read_csv('dataTrain.csv')\n",
    "Test = pd.read_csv('dataTest.csv')\n",
    "\n",
    "X_train = Train.drop('output', axis=1)\n",
    "y_train = Train['output']\n",
    "\n",
    "X_test = Test.drop('output', axis=1)\n",
    "y_test = Test['output']\n",
    "\n",
    "maxs = X_train.max().tolist()\n",
    "X_train.shape, X_test.shape, y_train.shape, y_test.shape"
   ]
  },
  {
   "cell_type": "code",
   "execution_count": 11,
   "metadata": {},
   "outputs": [],
   "source": [
    "def trainMLP(HLS):\n",
    "    regr = MLPClassifier(hidden_layer_sizes=HLS,random_state=1, max_iter=5000)\n",
    "    regr.fit(X_train, y_train)\n",
    "\n",
    "    y_pred = regr.predict(X_test)\n",
    "\n",
    "    print('')\n",
    "    print('Architecture: {list}'.format(list = HLS))\n",
    "    acc_score = accuracy_score(y_test, y_pred)\n",
    "    print(\"Accuracy: {:.3f}\".format(acc_score))\n",
    "    rec_score = recall_score(y_test, y_pred)\n",
    "    print(\"Recall: {:.3f}\".format(rec_score))\n",
    "    prec_score = precision_score(y_test, y_pred)\n",
    "    print(\"Precision Score: {:.3f}\".format(prec_score))\n",
    "    F1_score = f1_score(y_test, y_pred)\n",
    "    print(\"F1-Score: {:.3f}\".format(F1_score))\n",
    "    kappa = cohen_kappa_score(y_test, y_pred)\n",
    "    print(\"Kappa Score: {:.3f}\".format(kappa))"
   ]
  },
  {
   "cell_type": "code",
   "execution_count": 12,
   "metadata": {},
   "outputs": [
    {
     "name": "stdout",
     "output_type": "stream",
     "text": [
      "\n",
      "Architecture: [5]\n",
      "Accuracy: 0.869\n",
      "Recall: 0.906\n",
      "Precision Score: 0.853\n",
      "F1-Score: 0.879\n",
      "Kappa Score: 0.736\n",
      "\n",
      "Architecture: [10]\n",
      "Accuracy: 0.885\n",
      "Recall: 0.875\n",
      "Precision Score: 0.903\n",
      "F1-Score: 0.889\n",
      "Kappa Score: 0.770\n",
      "\n",
      "Architecture: [5, 5]\n",
      "Accuracy: 0.852\n",
      "Recall: 0.812\n",
      "Precision Score: 0.897\n",
      "F1-Score: 0.852\n",
      "Kappa Score: 0.706\n",
      "\n",
      "Architecture: [5, 10]\n",
      "Accuracy: 0.852\n",
      "Recall: 0.844\n",
      "Precision Score: 0.871\n",
      "F1-Score: 0.857\n",
      "Kappa Score: 0.705\n",
      "\n",
      "Architecture: [10, 10]\n",
      "Accuracy: 0.852\n",
      "Recall: 0.781\n",
      "Precision Score: 0.926\n",
      "F1-Score: 0.847\n",
      "Kappa Score: 0.707\n"
     ]
    }
   ],
   "source": [
    "Architectures = [[5],[10], [5, 5], [5, 10],[10, 10]]\n",
    "\n",
    "for i in Architectures: trainMLP(i)"
   ]
  },
  {
   "cell_type": "code",
   "execution_count": null,
   "metadata": {},
   "outputs": [],
   "source": []
  },
  {
   "cell_type": "code",
   "execution_count": null,
   "metadata": {},
   "outputs": [],
   "source": []
  }
 ],
 "metadata": {
  "kernelspec": {
   "display_name": "Python 3 (ipykernel)",
   "language": "python",
   "name": "python3"
  },
  "language_info": {
   "codemirror_mode": {
    "name": "ipython",
    "version": 3
   },
   "file_extension": ".py",
   "mimetype": "text/x-python",
   "name": "python",
   "nbconvert_exporter": "python",
   "pygments_lexer": "ipython3",
   "version": "3.12.4"
  }
 },
 "nbformat": 4,
 "nbformat_minor": 4
}
