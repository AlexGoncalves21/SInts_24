{
 "cells": [
  {
   "cell_type": "markdown",
   "metadata": {},
   "source": [
    "## Importing Data and Libraries"
   ]
  },
  {
   "cell_type": "code",
   "execution_count": 282,
   "metadata": {},
   "outputs": [],
   "source": [
    "import pandas as pd\n",
    "import numpy as np\n",
    "import matplotlib.pyplot as plt\n",
    "from pyfume.Clustering import Clusterer\n",
    "from pyfume.EstimateAntecendentSet import AntecedentEstimator\n",
    "from pyfume.EstimateConsequentParameters import ConsequentEstimator\n",
    "from pyfume.SimpfulModelBuilder import SugenoFISBuilder\n",
    "from pyfume.Tester import SugenoFISTester\n",
    "from sklearn.metrics import accuracy_score, recall_score, precision_score, f1_score, cohen_kappa_score\n",
    "from numpy import clip, column_stack, argmax\n",
    "from scipy.spatial import distance\n",
    "from scipy.spatial.distance import cdist\n",
    "from sklearn.metrics import silhouette_score\n",
    "import warnings\n",
    "\n",
    "warnings.simplefilter(action='ignore', category=FutureWarning)"
   ]
  },
  {
   "cell_type": "code",
   "execution_count": 283,
   "metadata": {},
   "outputs": [
    {
     "data": {
      "text/plain": [
       "((241, 12), (61, 12), (241,), (61,))"
      ]
     },
     "execution_count": 283,
     "metadata": {},
     "output_type": "execute_result"
    }
   ],
   "source": [
    "Train = pd.read_csv('dataTrain.csv')\n",
    "Test = pd.read_csv('dataTest.csv')\n",
    "\n",
    "stats = pd.read_csv('stats.csv')\n",
    "stats = stats.iloc[:,1:]\n",
    "\n",
    "X_train = Train.drop('output', axis=1)\n",
    "y_train = Train['output']\n",
    "\n",
    "X_test = Test.drop('output', axis=1)\n",
    "y_test = Test['output']\n",
    "\n",
    "maxs = X_train.max().tolist()\n",
    "mins = X_train.min().tolist()\n",
    "\n",
    "var_names = X_train.columns.to_list()\n",
    "X_train.shape, X_test.shape, y_train.shape, y_test.shape"
   ]
  },
  {
   "cell_type": "code",
   "execution_count": 284,
   "metadata": {},
   "outputs": [
    {
     "data": {
      "text/html": [
       "<div>\n",
       "<style scoped>\n",
       "    .dataframe tbody tr th:only-of-type {\n",
       "        vertical-align: middle;\n",
       "    }\n",
       "\n",
       "    .dataframe tbody tr th {\n",
       "        vertical-align: top;\n",
       "    }\n",
       "\n",
       "    .dataframe thead th {\n",
       "        text-align: right;\n",
       "    }\n",
       "</style>\n",
       "<table border=\"1\" class=\"dataframe\">\n",
       "  <thead>\n",
       "    <tr style=\"text-align: right;\">\n",
       "      <th></th>\n",
       "      <th>Feature</th>\n",
       "      <th>Mean</th>\n",
       "      <th>Variance</th>\n",
       "    </tr>\n",
       "  </thead>\n",
       "  <tbody>\n",
       "    <tr>\n",
       "      <th>0</th>\n",
       "      <td>age</td>\n",
       "      <td>54.373444</td>\n",
       "      <td>83.926930</td>\n",
       "    </tr>\n",
       "    <tr>\n",
       "      <th>1</th>\n",
       "      <td>sex</td>\n",
       "      <td>0.651452</td>\n",
       "      <td>0.227062</td>\n",
       "    </tr>\n",
       "    <tr>\n",
       "      <th>2</th>\n",
       "      <td>cp</td>\n",
       "      <td>1.000000</td>\n",
       "      <td>1.070539</td>\n",
       "    </tr>\n",
       "    <tr>\n",
       "      <th>3</th>\n",
       "      <td>trtbps</td>\n",
       "      <td>130.784232</td>\n",
       "      <td>275.936847</td>\n",
       "    </tr>\n",
       "    <tr>\n",
       "      <th>4</th>\n",
       "      <td>chol</td>\n",
       "      <td>245.033195</td>\n",
       "      <td>2254.206367</td>\n",
       "    </tr>\n",
       "    <tr>\n",
       "      <th>5</th>\n",
       "      <td>fbs</td>\n",
       "      <td>0.132780</td>\n",
       "      <td>0.115150</td>\n",
       "    </tr>\n",
       "    <tr>\n",
       "      <th>6</th>\n",
       "      <td>restecg</td>\n",
       "      <td>0.526971</td>\n",
       "      <td>0.282468</td>\n",
       "    </tr>\n",
       "    <tr>\n",
       "      <th>7</th>\n",
       "      <td>thalachh</td>\n",
       "      <td>149.759336</td>\n",
       "      <td>495.798927</td>\n",
       "    </tr>\n",
       "    <tr>\n",
       "      <th>8</th>\n",
       "      <td>exng</td>\n",
       "      <td>0.302905</td>\n",
       "      <td>0.211153</td>\n",
       "    </tr>\n",
       "    <tr>\n",
       "      <th>9</th>\n",
       "      <td>oldpeak</td>\n",
       "      <td>0.978423</td>\n",
       "      <td>1.099368</td>\n",
       "    </tr>\n",
       "    <tr>\n",
       "      <th>10</th>\n",
       "      <td>slp</td>\n",
       "      <td>1.414938</td>\n",
       "      <td>0.367246</td>\n",
       "    </tr>\n",
       "    <tr>\n",
       "      <th>11</th>\n",
       "      <td>caa</td>\n",
       "      <td>0.672199</td>\n",
       "      <td>0.967235</td>\n",
       "    </tr>\n",
       "    <tr>\n",
       "      <th>12</th>\n",
       "      <td>thall</td>\n",
       "      <td>2.323651</td>\n",
       "      <td>0.351681</td>\n",
       "    </tr>\n",
       "  </tbody>\n",
       "</table>\n",
       "</div>"
      ],
      "text/plain": [
       "     Feature        Mean     Variance\n",
       "0        age   54.373444    83.926930\n",
       "1        sex    0.651452     0.227062\n",
       "2         cp    1.000000     1.070539\n",
       "3     trtbps  130.784232   275.936847\n",
       "4       chol  245.033195  2254.206367\n",
       "5        fbs    0.132780     0.115150\n",
       "6    restecg    0.526971     0.282468\n",
       "7   thalachh  149.759336   495.798927\n",
       "8       exng    0.302905     0.211153\n",
       "9    oldpeak    0.978423     1.099368\n",
       "10       slp    1.414938     0.367246\n",
       "11       caa    0.672199     0.967235\n",
       "12     thall    2.323651     0.351681"
      ]
     },
     "execution_count": 284,
     "metadata": {},
     "output_type": "execute_result"
    }
   ],
   "source": [
    "stats"
   ]
  },
  {
   "cell_type": "code",
   "execution_count": 285,
   "metadata": {},
   "outputs": [],
   "source": [
    "savecols = X_train.columns"
   ]
  },
  {
   "cell_type": "code",
   "execution_count": 286,
   "metadata": {},
   "outputs": [],
   "source": [
    "X_train = X_train.to_numpy()\n",
    "X_test = X_test.to_numpy()\n",
    "y_train = y_train.array\n",
    "y_test = y_test.array"
   ]
  },
  {
   "cell_type": "markdown",
   "metadata": {},
   "source": [
    "## Building the model"
   ]
  },
  {
   "cell_type": "markdown",
   "metadata": {},
   "source": [
    "### Clustering"
   ]
  },
  {
   "cell_type": "markdown",
   "metadata": {},
   "source": [
    "In this section, we will try out different numbers of clusters in order to minimize the separation between clusters. "
   ]
  },
  {
   "cell_type": "markdown",
   "metadata": {},
   "source": [
    "#### Functions"
   ]
  },
  {
   "cell_type": "code",
   "execution_count": 287,
   "metadata": {},
   "outputs": [],
   "source": [
    "def SeparationMetric(X_train, clust_centers, part_matrix):\n",
    "    metric = 0\n",
    "    for clust in range(clust_centers.shape[0]):\n",
    "        for point in range(X_train.shape[0]):\n",
    "            metric += part_matrix[point, clust] * distance.euclidean(X_train[point], clust_centers[clust])\n",
    "    return metric\n",
    "\n",
    "#def SeparationMetric(X_train, clust_centers, part_matrix):\n",
    "#    silhouette_score(X_train, )\n",
    "#    return metric"
   ]
  },
  {
   "cell_type": "code",
   "execution_count": 288,
   "metadata": {},
   "outputs": [],
   "source": [
    "# Since pyfume's clustering algorithm was using the the target, I made some modifcations to their fcm\n",
    "# code as seen below\n",
    "\n",
    "def fcm(data, n_clusters, m=2, max_iter=1000, error=0.005):\n",
    "        #data: 2d array, size (N, S). N is the number of instances; S is the number of variables\n",
    "        #n_clusters: number of clusters\n",
    "        #m: fuzzy clustering coefficient\n",
    "        #max_it: maximum number of iterations, default=1000\n",
    "        #error: stopping criterion, default=0.005\n",
    "        #seed: seed for random initialization of u matrix\n",
    "        \n",
    "    n_instances = data.shape[0]\n",
    "        \n",
    "    #randomly initaliaze u\n",
    "    np.random.seed(1231241421)\n",
    "    u = np.random.rand(n_instances, n_clusters)\n",
    "    u = np.fmax(u, np.finfo(np.float64).eps)\n",
    "    ut = u.T\n",
    "        \n",
    "    for it in range(0,max_iter):\n",
    "        #copy old u matrix\n",
    "        u_old = ut.copy()\n",
    "        u_old /= np.ones((n_clusters, 1)).dot(np.atleast_2d(u_old.sum(axis=0)))\n",
    "        u_old = np.fmax(u_old, np.finfo(np.float64).eps)\n",
    "        \n",
    "        #elevate to m\n",
    "        um = u_old ** m\n",
    "        \n",
    "        #calculate cluster centers\n",
    "        centers = um.dot(data) / (np.ones((data.shape[1], 1)).dot(np.atleast_2d(um.sum(axis=1))).T)\n",
    "        \n",
    "        #calculate distances\n",
    "        dist = cdist(centers, data, metric='euclidean')\n",
    "        dist = np.fmax(dist, np.finfo(np.float64).eps)\n",
    "        \n",
    "        #calculate objective\n",
    "        jm = (um * dist ** 2).sum()\n",
    "    \n",
    "        #calculate new u matrix\n",
    "        ut = dist ** (- 2. / (m - 1))\n",
    "        ut /= np.ones((n_clusters, 1)).dot(np.atleast_2d(ut.sum(axis=0)))\n",
    "    \n",
    "        #stopping criterion\n",
    "        if np.linalg.norm(ut - u_old) < error:\n",
    "            break\n",
    "    \n",
    "    partition_matrix = ut.T\n",
    "    return centers, partition_matrix"
   ]
  },
  {
   "cell_type": "code",
   "execution_count": 289,
   "metadata": {},
   "outputs": [],
   "source": [
    "def Cluster(nclusters):\n",
    "    clust_centers, part_matrix = fcm(X_train, n_clusters = nclusters)\n",
    "    return clust_centers, part_matrix"
   ]
  },
  {
   "cell_type": "code",
   "execution_count": 290,
   "metadata": {},
   "outputs": [],
   "source": [
    "def gaussian(x, mu, sig, mux, sigx):\n",
    "    mu = mux + sigx * mu\n",
    "    sig = sig * sigx\n",
    "    #return (1.0 / (np.sqrt(2.0 * np.pi) * sig) * np.exp(-np.power((x - mu) / sig, 2.0) / 2))\n",
    "    return (np.exp(-np.power((x - mu) / sig, 2.0) / 2))"
   ]
  },
  {
   "cell_type": "code",
   "execution_count": 291,
   "metadata": {},
   "outputs": [],
   "source": [
    "def Revert(x, stats):\n",
    "    for i in range(x.shape[0]):\n",
    "        data = stats[stats['Feature'] == savecols[i]]\n",
    "        x[i] = x[i] * (data.iloc[0,2] ** 0.5) + data.iloc[0,1]\n",
    "    return x"
   ]
  },
  {
   "cell_type": "markdown",
   "metadata": {},
   "source": [
    "#### Code"
   ]
  },
  {
   "cell_type": "code",
   "execution_count": 292,
   "metadata": {},
   "outputs": [
    {
     "name": "stdout",
     "output_type": "stream",
     "text": [
      "Best number of clusters: 2\n"
     ]
    }
   ],
   "source": [
    "max_clusters = 2\n",
    "min_metric = np.inf\n",
    "\n",
    "for i in range(max_clusters):\n",
    "    i += 1\n",
    "    #clust_centers, part_matrix = Cluster(i)\n",
    "    cl = Clusterer(x_train=X_train, y_train=y_train, nr_clus=10)\n",
    "    clust_centers, part_matrix, _ = cl.cluster(method='fcm')\n",
    "    clust_centers = clust_centers[:,:-1]\n",
    "    metric = SeparationMetric(X_train, clust_centers, part_matrix)\n",
    "    if metric < min_metric:\n",
    "        min_metric = metric\n",
    "        best_number = i\n",
    "\n",
    "print(f'Best number of clusters: {best_number}')"
   ]
  },
  {
   "cell_type": "code",
   "execution_count": 293,
   "metadata": {},
   "outputs": [
    {
     "data": {
      "text/plain": [
       "((2, 12), (241, 2))"
      ]
     },
     "execution_count": 293,
     "metadata": {},
     "output_type": "execute_result"
    }
   ],
   "source": [
    "#clust_centers, part_matrix = Cluster(best_number)\n",
    "cl = Clusterer(x_train=X_train, y_train=y_train, nr_clus = best_number)\n",
    "clust_centers, part_matrix, _ = cl.cluster(method='fcm')\n",
    "clust_centers = clust_centers[:,:-1]\n",
    "clust_centers.shape, part_matrix.shape"
   ]
  },
  {
   "cell_type": "markdown",
   "metadata": {},
   "source": [
    "### Building the model"
   ]
  },
  {
   "cell_type": "code",
   "execution_count": 294,
   "metadata": {},
   "outputs": [
    {
     "name": "stdout",
     "output_type": "stream",
     "text": [
      " * Detected 2 rules / clusters\n",
      " * Detected Sugeno model type\n"
     ]
    }
   ],
   "source": [
    "ae = AntecedentEstimator(X_train, part_matrix)\n",
    "antecedent_params = ae.determineMF()\n",
    "\n",
    "ce = ConsequentEstimator(X_train, y_train, part_matrix)\n",
    "conseq_params = ce.suglms()\n",
    "\n",
    "modbuilder = SugenoFISBuilder(antecedent_params, conseq_params, var_names, save_simpful_code=False)\n",
    "model = modbuilder.get_model()"
   ]
  },
  {
   "cell_type": "markdown",
   "metadata": {},
   "source": [
    "### Inference and Metrics"
   ]
  },
  {
   "cell_type": "code",
   "execution_count": 295,
   "metadata": {},
   "outputs": [],
   "source": [
    "modtester = SugenoFISTester(model, X_test, var_names)\n",
    "y_pred_probs = clip(modtester.predict()[0], 0, 1)\n",
    "y_pred_probs = column_stack((1 - y_pred_probs, y_pred_probs))\n",
    "y_pred = argmax(y_pred_probs,axis=1)"
   ]
  },
  {
   "cell_type": "code",
   "execution_count": 296,
   "metadata": {},
   "outputs": [
    {
     "name": "stdout",
     "output_type": "stream",
     "text": [
      "Accuracy: 0.836\n",
      "Recall: 0.844\n",
      "Precision Score: 0.844\n",
      "F1-Score: 0.844\n",
      "Kappa Score: 0.671\n"
     ]
    }
   ],
   "source": [
    "acc_score = accuracy_score(y_test, y_pred)\n",
    "print(\"Accuracy: {:.3f}\".format(acc_score))\n",
    "rec_score = recall_score(y_test, y_pred)\n",
    "print(\"Recall: {:.3f}\".format(rec_score))\n",
    "prec_score = precision_score(y_test, y_pred)\n",
    "print(\"Precision Score: {:.3f}\".format(prec_score))\n",
    "F1_score = f1_score(y_test, y_pred)\n",
    "print(\"F1-Score: {:.3f}\".format(F1_score))\n",
    "kappa = cohen_kappa_score(y_test, y_pred)\n",
    "print(\"Kappa Score: {:.3f}\".format(kappa))"
   ]
  },
  {
   "cell_type": "markdown",
   "metadata": {},
   "source": [
    "## Model Visualization/Interpretation"
   ]
  },
  {
   "cell_type": "code",
   "execution_count": 297,
   "metadata": {},
   "outputs": [
    {
     "data": {
      "text/plain": [
       "<Linguistic variable 'chol', contains fuzzy sets [<Fuzzy set (function), term='cluster1'>, <Fuzzy set (function), term='cluster2'>], universe of discourse: None>"
      ]
     },
     "execution_count": 297,
     "metadata": {},
     "output_type": "execute_result"
    }
   ],
   "source": [
    "model._lvs['chol'] # example of how pyFUME defines une linguistic variable in simpful"
   ]
  },
  {
   "cell_type": "code",
   "execution_count": 298,
   "metadata": {},
   "outputs": [],
   "source": [
    "#model._outputfunctions # perguntar escala dos coeficientes"
   ]
  },
  {
   "cell_type": "code",
   "execution_count": 299,
   "metadata": {},
   "outputs": [
    {
     "data": {
      "text/plain": [
       "['IF ((sex IS cluster1) AND ((cp IS cluster1) AND ((trtbps IS cluster1) AND ((chol IS cluster1) AND ((fbs IS cluster1) AND ((restecg IS cluster1) AND ((thalachh IS cluster1) AND ((exng IS cluster1) AND ((oldpeak IS cluster1) AND ((slp IS cluster1) AND ((caa IS cluster1) AND (thall IS cluster1)))))))))))) THEN (OUTPUT IS fun1)',\n",
       " 'IF ((sex IS cluster2) AND ((cp IS cluster2) AND ((trtbps IS cluster2) AND ((chol IS cluster2) AND ((fbs IS cluster2) AND ((restecg IS cluster2) AND ((thalachh IS cluster2) AND ((exng IS cluster2) AND ((oldpeak IS cluster2) AND ((slp IS cluster2) AND ((caa IS cluster2) AND (thall IS cluster2)))))))))))) THEN (OUTPUT IS fun2)']"
      ]
     },
     "execution_count": 299,
     "metadata": {},
     "output_type": "execute_result"
    }
   ],
   "source": [
    "model.get_rules() # print the rules associated with the model"
   ]
  },
  {
   "cell_type": "code",
   "execution_count": 300,
   "metadata": {},
   "outputs": [],
   "source": [
    "# The pyFUME library doesn't atribute a universe of discourse to the linguistic variables it creates in simpful. In order to fix this, we set each universe considering the maximum\n",
    "# value heald by each dataframe column. This has to be done since, otherwise, the plotting functions won't work.\n",
    "\n",
    "for ix in range(len(var_names)):\n",
    "    max = maxs[ix]\n",
    "    min = mins[ix]\n",
    "    uod = [min, max]\n",
    "    model._lvs[var_names[ix]]._universe_of_discourse = uod"
   ]
  },
  {
   "cell_type": "code",
   "execution_count": 301,
   "metadata": {},
   "outputs": [],
   "source": [
    "#model.produce_figure(\"\",2)"
   ]
  },
  {
   "cell_type": "markdown",
   "metadata": {},
   "source": [
    "## Converting the model to X"
   ]
  },
  {
   "cell_type": "code",
   "execution_count": 302,
   "metadata": {},
   "outputs": [],
   "source": [
    "def FunctionstoX(model, stats):\n",
    "    final_df = pd.DataFrame(columns = var_names+['constant'])\n",
    "\n",
    "    for f in model._outputfunctions:\n",
    "        acumulated = 0 # value to be added to the intercept in the end\n",
    "        expression = model._outputfunctions[f]\n",
    "        item_list = expression.split('+')\n",
    "\n",
    "        for k in range(len(item_list) - 1):\n",
    "            item_list[k] = item_list[k].split('*')\n",
    "            values = stats[stats['Feature'] == item_list[k][1]]\n",
    "            std = values.iloc[0,2] ** 0.5\n",
    "            mean = values.iloc[0,1]\n",
    "            acumulated += float(item_list[k][0]) * mean\n",
    "            item_list[k] = float(item_list[k][0]) * (std) \n",
    "            \n",
    "        item_list[-1] = float(item_list[-1]) + acumulated\n",
    "        final_df = pd.concat([final_df,pd.DataFrame([item_list], columns = var_names+['constant'])], axis = 0)\n",
    "        final_df.reset_index(drop=True, inplace=True)\n",
    "    return final_df"
   ]
  },
  {
   "cell_type": "code",
   "execution_count": 303,
   "metadata": {},
   "outputs": [],
   "source": [
    "def UODtoX(model, stats):\n",
    "    uods = {}\n",
    "    for lv in model._lvs:\n",
    "        data = stats[stats['Feature'] == lv]\n",
    "        mean = data.iloc[0,1]\n",
    "        std = data.iloc[0,2] ** 0.5\n",
    "        uod = model._lvs[lv]._universe_of_discourse\n",
    "        for i in range(2):\n",
    "            uod[i] = uod[i] * std + mean\n",
    "        uods[lv] = uod\n",
    "    return uods"
   ]
  },
  {
   "cell_type": "code",
   "execution_count": 304,
   "metadata": {},
   "outputs": [],
   "source": [
    "class XMF:\n",
    "\n",
    "    def __init__(self, uod, data, mu, sigma):\n",
    "        self.uod = uod\n",
    "        self.mean = data.iloc[0,1]\n",
    "        self.std = data.iloc[0,2] ** 0.5\n",
    "        self.mu = mu\n",
    "        self.sigma = sigma\n",
    "\n",
    "    def __call__(self, x):\n",
    "        #x = (x - self.mean) / self.std # X to Z\n",
    "        x = gaussian(x, self.mu, self.sigma, self.mean, self.std) # Z to MF\n",
    "        \n",
    "        return x"
   ]
  },
  {
   "cell_type": "code",
   "execution_count": 305,
   "metadata": {},
   "outputs": [],
   "source": [
    "def newMFS(model, stats, uods):\n",
    "    MFS = {}\n",
    "    for lv in model._lvs:\n",
    "        fs = []\n",
    "        data = stats[stats['Feature'] == lv]\n",
    "        uod = uods[lv]\n",
    "        for clust in range(len(model._lvs[lv]._FSlist)):\n",
    "            mu = model._lvs[lv]._FSlist[clust]._funpointer._mu\n",
    "            sigma = model._lvs[lv]._FSlist[clust]._funpointer._sigma\n",
    "            fs.append(XMF(uod, data, mu, sigma))\n",
    "        MFS[lv] = fs\n",
    "    return MFS"
   ]
  },
  {
   "cell_type": "code",
   "execution_count": 306,
   "metadata": {},
   "outputs": [],
   "source": [
    "def plotMFs(mfs, var):\n",
    "    mfs = mfs[var]\n",
    "    x = np.linspace(mfs[0].uod[0], mfs[0].uod[1], 100)\n",
    "    for i in range(len(mfs)):\n",
    "        y = [mfs[i](j) for j in x]\n",
    "        plt.plot(x, y)"
   ]
  },
  {
   "cell_type": "code",
   "execution_count": 307,
   "metadata": {},
   "outputs": [],
   "source": [
    "uods = UODtoX(model, stats)\n",
    "mfs = newMFS(model, stats, uods)\n",
    "consequents = FunctionstoX(model, stats)"
   ]
  },
  {
   "cell_type": "markdown",
   "metadata": {},
   "source": [
    "### Estado Atual"
   ]
  },
  {
   "cell_type": "code",
   "execution_count": 308,
   "metadata": {},
   "outputs": [
    {
     "data": {
      "text/plain": [
       "{'sex': [1.1102230246251565e-16, 1.0],\n",
       " 'cp': [1.1102230246251565e-16, 3.0],\n",
       " 'trtbps': [93.99999999999997, 169.99999999999997],\n",
       " 'chol': [131.0, 367.0],\n",
       " 'fbs': [-2.7755575615628914e-17, 1.0],\n",
       " 'restecg': [0.0, 2.0],\n",
       " 'thalachh': [92.5, 202.0],\n",
       " 'exng': [5.551115123125783e-17, 0.9999999999999998],\n",
       " 'oldpeak': [-2.220446049250313e-16, 4.0],\n",
       " 'slp': [0.0, 2.0],\n",
       " 'caa': [0.0, 4.0],\n",
       " 'thall': [0.0, 3.0]}"
      ]
     },
     "execution_count": 308,
     "metadata": {},
     "output_type": "execute_result"
    }
   ],
   "source": [
    "uods"
   ]
  },
  {
   "cell_type": "code",
   "execution_count": 312,
   "metadata": {},
   "outputs": [
    {
     "data": {
      "text/html": [
       "<div>\n",
       "<style scoped>\n",
       "    .dataframe tbody tr th:only-of-type {\n",
       "        vertical-align: middle;\n",
       "    }\n",
       "\n",
       "    .dataframe tbody tr th {\n",
       "        vertical-align: top;\n",
       "    }\n",
       "\n",
       "    .dataframe thead th {\n",
       "        text-align: right;\n",
       "    }\n",
       "</style>\n",
       "<table border=\"1\" class=\"dataframe\">\n",
       "  <thead>\n",
       "    <tr style=\"text-align: right;\">\n",
       "      <th></th>\n",
       "      <th>sex</th>\n",
       "      <th>cp</th>\n",
       "      <th>trtbps</th>\n",
       "      <th>chol</th>\n",
       "      <th>fbs</th>\n",
       "      <th>restecg</th>\n",
       "      <th>thalachh</th>\n",
       "      <th>exng</th>\n",
       "      <th>oldpeak</th>\n",
       "      <th>slp</th>\n",
       "      <th>caa</th>\n",
       "      <th>thall</th>\n",
       "    </tr>\n",
       "  </thead>\n",
       "  <tbody>\n",
       "    <tr>\n",
       "      <th>0</th>\n",
       "      <td>0.650873</td>\n",
       "      <td>1.002276</td>\n",
       "      <td>130.771397</td>\n",
       "      <td>245.018775</td>\n",
       "      <td>0.132545</td>\n",
       "      <td>0.527649</td>\n",
       "      <td>149.838225</td>\n",
       "      <td>0.301371</td>\n",
       "      <td>0.974887</td>\n",
       "      <td>1.416880</td>\n",
       "      <td>0.669898</td>\n",
       "      <td>2.322252</td>\n",
       "    </tr>\n",
       "    <tr>\n",
       "      <th>1</th>\n",
       "      <td>0.652033</td>\n",
       "      <td>0.997719</td>\n",
       "      <td>130.797057</td>\n",
       "      <td>245.047607</td>\n",
       "      <td>0.133014</td>\n",
       "      <td>0.526292</td>\n",
       "      <td>149.680333</td>\n",
       "      <td>0.304441</td>\n",
       "      <td>0.981965</td>\n",
       "      <td>1.412994</td>\n",
       "      <td>0.674502</td>\n",
       "      <td>2.325054</td>\n",
       "    </tr>\n",
       "  </tbody>\n",
       "</table>\n",
       "</div>"
      ],
      "text/plain": [
       "        sex        cp      trtbps        chol       fbs   restecg    thalachh  \\\n",
       "0  0.650873  1.002276  130.771397  245.018775  0.132545  0.527649  149.838225   \n",
       "1  0.652033  0.997719  130.797057  245.047607  0.133014  0.526292  149.680333   \n",
       "\n",
       "       exng   oldpeak       slp       caa     thall  \n",
       "0  0.301371  0.974887  1.416880  0.669898  2.322252  \n",
       "1  0.304441  0.981965  1.412994  0.674502  2.325054  "
      ]
     },
     "execution_count": 312,
     "metadata": {},
     "output_type": "execute_result"
    }
   ],
   "source": [
    "for i in range(max_clusters):\n",
    "    clust_centers[i] = Revert(clust_centers[i], stats)\n",
    "clust_centers = pd.DataFrame(clust_centers, columns = var_names)\n",
    "clust_centers"
   ]
  },
  {
   "cell_type": "code",
   "execution_count": 315,
   "metadata": {},
   "outputs": [
    {
     "data": {
      "image/png": "[encoded data removed]",
      "text/plain": [
       "<Figure size 640x480 with 1 Axes>"
      ]
     },
     "metadata": {},
     "output_type": "display_data"
    }
   ],
   "source": [
    "plotMFs(mfs, 'chol')"
   ]
  },
  {
   "cell_type": "code",
   "execution_count": 310,
   "metadata": {},
   "outputs": [
    {
     "data": {
      "text/html": [
       "<div>\n",
       "<style scoped>\n",
       "    .dataframe tbody tr th:only-of-type {\n",
       "        vertical-align: middle;\n",
       "    }\n",
       "\n",
       "    .dataframe tbody tr th {\n",
       "        vertical-align: top;\n",
       "    }\n",
       "\n",
       "    .dataframe thead th {\n",
       "        text-align: right;\n",
       "    }\n",
       "</style>\n",
       "<table border=\"1\" class=\"dataframe\">\n",
       "  <thead>\n",
       "    <tr style=\"text-align: right;\">\n",
       "      <th></th>\n",
       "      <th>sex</th>\n",
       "      <th>cp</th>\n",
       "      <th>trtbps</th>\n",
       "      <th>chol</th>\n",
       "      <th>fbs</th>\n",
       "      <th>restecg</th>\n",
       "      <th>thalachh</th>\n",
       "      <th>exng</th>\n",
       "      <th>oldpeak</th>\n",
       "      <th>slp</th>\n",
       "      <th>caa</th>\n",
       "      <th>thall</th>\n",
       "      <th>constant</th>\n",
       "    </tr>\n",
       "  </thead>\n",
       "  <tbody>\n",
       "    <tr>\n",
       "      <th>0</th>\n",
       "      <td>-0.047756</td>\n",
       "      <td>0.090323</td>\n",
       "      <td>-0.818703</td>\n",
       "      <td>-1.202624</td>\n",
       "      <td>0.009047</td>\n",
       "      <td>0.01530</td>\n",
       "      <td>1.432435</td>\n",
       "      <td>-0.034412</td>\n",
       "      <td>-0.058505</td>\n",
       "      <td>0.041377</td>\n",
       "      <td>-0.106613</td>\n",
       "      <td>-0.051149</td>\n",
       "      <td>-2.683685</td>\n",
       "    </tr>\n",
       "    <tr>\n",
       "      <th>1</th>\n",
       "      <td>-0.047797</td>\n",
       "      <td>0.090547</td>\n",
       "      <td>-0.820064</td>\n",
       "      <td>-1.201600</td>\n",
       "      <td>0.009035</td>\n",
       "      <td>0.01528</td>\n",
       "      <td>1.429758</td>\n",
       "      <td>-0.034381</td>\n",
       "      <td>-0.058602</td>\n",
       "      <td>0.041354</td>\n",
       "      <td>-0.106398</td>\n",
       "      <td>-0.051125</td>\n",
       "      <td>-2.707039</td>\n",
       "    </tr>\n",
       "  </tbody>\n",
       "</table>\n",
       "</div>"
      ],
      "text/plain": [
       "        sex        cp    trtbps      chol       fbs  restecg  thalachh  \\\n",
       "0 -0.047756  0.090323 -0.818703 -1.202624  0.009047  0.01530  1.432435   \n",
       "1 -0.047797  0.090547 -0.820064 -1.201600  0.009035  0.01528  1.429758   \n",
       "\n",
       "       exng   oldpeak       slp       caa     thall  constant  \n",
       "0 -0.034412 -0.058505  0.041377 -0.106613 -0.051149 -2.683685  \n",
       "1 -0.034381 -0.058602  0.041354 -0.106398 -0.051125 -2.707039  "
      ]
     },
     "execution_count": 310,
     "metadata": {},
     "output_type": "execute_result"
    }
   ],
   "source": [
    "consequents"
   ]
  }
 ],
 "metadata": {
  "kernelspec": {
   "display_name": "base",
   "language": "python",
   "name": "python3"
  },
  "language_info": {
   "codemirror_mode": {
    "name": "ipython",
    "version": 3
   },
   "file_extension": ".py",
   "mimetype": "text/x-python",
   "name": "python",
   "nbconvert_exporter": "python",
   "pygments_lexer": "ipython3",
   "version": "3.12.2"
  }
 },
 "nbformat": 4,
 "nbformat_minor": 2
}
