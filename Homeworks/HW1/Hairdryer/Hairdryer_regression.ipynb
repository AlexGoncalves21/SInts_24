{
 "cells": [
  {
   "cell_type": "markdown",
   "metadata": {},
   "source": [
    "#### Importing and preprocessing the data"
   ]
  },
  {
   "cell_type": "code",
   "execution_count": 11,
   "metadata": {},
   "outputs": [],
   "source": [
    "import pandas as pd\n",
    "from sklearn.model_selection import train_test_split\n",
    "from pyfume.Clustering import Clusterer\n",
    "from pyfume.EstimateAntecendentSet import AntecedentEstimator\n",
    "from pyfume.EstimateConsequentParameters import ConsequentEstimator\n",
    "from pyfume.SimpfulModelBuilder import SugenoFISBuilder\n",
    "from pyfume.Tester import SugenoFISTester\n",
    "from pandas import read_csv \n",
    "from sklearn.preprocessing import MinMaxScaler\n",
    "from sklearn.metrics import mean_squared_error, mean_absolute_percentage_error, explained_variance_score\n",
    "import matplotlib.pyplot as plt\n",
    "\n",
    "data = pd.read_csv('hairdryer.csv',header=None)\n",
    "indexes = ['Voltage', 'Temperature']\n",
    "data.columns = indexes\n",
    "indexes = indexes[:-1]"
   ]
  },
  {
   "cell_type": "code",
   "execution_count": 12,
   "metadata": {},
   "outputs": [
    {
     "data": {
      "text/html": [
       "<div>\n",
       "<style scoped>\n",
       "    .dataframe tbody tr th:only-of-type {\n",
       "        vertical-align: middle;\n",
       "    }\n",
       "\n",
       "    .dataframe tbody tr th {\n",
       "        vertical-align: top;\n",
       "    }\n",
       "\n",
       "    .dataframe thead th {\n",
       "        text-align: right;\n",
       "    }\n",
       "</style>\n",
       "<table border=\"1\" class=\"dataframe\">\n",
       "  <thead>\n",
       "    <tr style=\"text-align: right;\">\n",
       "      <th></th>\n",
       "      <th>Voltage</th>\n",
       "      <th>Temperature</th>\n",
       "    </tr>\n",
       "  </thead>\n",
       "  <tbody>\n",
       "    <tr>\n",
       "      <th>0</th>\n",
       "      <td>6.41</td>\n",
       "      <td>4.7661</td>\n",
       "    </tr>\n",
       "    <tr>\n",
       "      <th>1</th>\n",
       "      <td>3.41</td>\n",
       "      <td>4.7637</td>\n",
       "    </tr>\n",
       "    <tr>\n",
       "      <th>2</th>\n",
       "      <td>6.41</td>\n",
       "      <td>4.8394</td>\n",
       "    </tr>\n",
       "    <tr>\n",
       "      <th>3</th>\n",
       "      <td>6.41</td>\n",
       "      <td>5.0030</td>\n",
       "    </tr>\n",
       "    <tr>\n",
       "      <th>4</th>\n",
       "      <td>6.41</td>\n",
       "      <td>5.0176</td>\n",
       "    </tr>\n",
       "  </tbody>\n",
       "</table>\n",
       "</div>"
      ],
      "text/plain": [
       "   Voltage  Temperature\n",
       "0     6.41       4.7661\n",
       "1     3.41       4.7637\n",
       "2     6.41       4.8394\n",
       "3     6.41       5.0030\n",
       "4     6.41       5.0176"
      ]
     },
     "execution_count": 12,
     "metadata": {},
     "output_type": "execute_result"
    }
   ],
   "source": [
    "data.head()"
   ]
  },
  {
   "cell_type": "code",
   "execution_count": 13,
   "metadata": {},
   "outputs": [
    {
     "data": {
      "text/html": [
       "<div>\n",
       "<style scoped>\n",
       "    .dataframe tbody tr th:only-of-type {\n",
       "        vertical-align: middle;\n",
       "    }\n",
       "\n",
       "    .dataframe tbody tr th {\n",
       "        vertical-align: top;\n",
       "    }\n",
       "\n",
       "    .dataframe thead th {\n",
       "        text-align: right;\n",
       "    }\n",
       "</style>\n",
       "<table border=\"1\" class=\"dataframe\">\n",
       "  <thead>\n",
       "    <tr style=\"text-align: right;\">\n",
       "      <th></th>\n",
       "      <th>Voltage</th>\n",
       "      <th>Temperature</th>\n",
       "    </tr>\n",
       "  </thead>\n",
       "  <tbody>\n",
       "    <tr>\n",
       "      <th>count</th>\n",
       "      <td>1000.000000</td>\n",
       "      <td>1000.000000</td>\n",
       "    </tr>\n",
       "    <tr>\n",
       "      <th>mean</th>\n",
       "      <td>5.000000</td>\n",
       "      <td>4.890095</td>\n",
       "    </tr>\n",
       "    <tr>\n",
       "      <th>std</th>\n",
       "      <td>1.498047</td>\n",
       "      <td>0.829806</td>\n",
       "    </tr>\n",
       "    <tr>\n",
       "      <th>min</th>\n",
       "      <td>3.410000</td>\n",
       "      <td>3.200800</td>\n",
       "    </tr>\n",
       "    <tr>\n",
       "      <th>25%</th>\n",
       "      <td>3.410000</td>\n",
       "      <td>4.205675</td>\n",
       "    </tr>\n",
       "    <tr>\n",
       "      <th>50%</th>\n",
       "      <td>6.410000</td>\n",
       "      <td>4.937050</td>\n",
       "    </tr>\n",
       "    <tr>\n",
       "      <th>75%</th>\n",
       "      <td>6.410000</td>\n",
       "      <td>5.652500</td>\n",
       "    </tr>\n",
       "    <tr>\n",
       "      <th>max</th>\n",
       "      <td>6.410000</td>\n",
       "      <td>6.250800</td>\n",
       "    </tr>\n",
       "  </tbody>\n",
       "</table>\n",
       "</div>"
      ],
      "text/plain": [
       "           Voltage  Temperature\n",
       "count  1000.000000  1000.000000\n",
       "mean      5.000000     4.890095\n",
       "std       1.498047     0.829806\n",
       "min       3.410000     3.200800\n",
       "25%       3.410000     4.205675\n",
       "50%       6.410000     4.937050\n",
       "75%       6.410000     5.652500\n",
       "max       6.410000     6.250800"
      ]
     },
     "execution_count": 13,
     "metadata": {},
     "output_type": "execute_result"
    }
   ],
   "source": [
    "data.describe()"
   ]
  },
  {
   "cell_type": "code",
   "execution_count": 14,
   "metadata": {},
   "outputs": [
    {
     "data": {
      "text/plain": [
       "Voltage        True\n",
       "Temperature    True\n",
       "dtype: bool"
      ]
     },
     "execution_count": 14,
     "metadata": {},
     "output_type": "execute_result"
    }
   ],
   "source": [
    "data.dtypes == float"
   ]
  },
  {
   "cell_type": "code",
   "execution_count": 15,
   "metadata": {},
   "outputs": [
    {
     "data": {
      "text/plain": [
       "Voltage        0\n",
       "Temperature    0\n",
       "dtype: int64"
      ]
     },
     "execution_count": 15,
     "metadata": {},
     "output_type": "execute_result"
    }
   ],
   "source": [
    "data.isnull().sum()"
   ]
  },
  {
   "cell_type": "code",
   "execution_count": 16,
   "metadata": {},
   "outputs": [
    {
     "data": {
      "text/plain": [
       "(1000,)"
      ]
     },
     "execution_count": 16,
     "metadata": {},
     "output_type": "execute_result"
    }
   ],
   "source": [
    "data_x = data.drop('Temperature', axis = 1)\n",
    "data_y = data.Temperature\n",
    "\n",
    "x_train, x_test, y_train, y_test = train_test_split(data_x, data_y, test_size = 0.2, random_state=21)\n",
    "\n",
    "data_x.shape\n",
    "data_y.shape"
   ]
  },
  {
   "cell_type": "code",
   "execution_count": 17,
   "metadata": {},
   "outputs": [],
   "source": [
    "x_train = x_train.to_numpy()\n",
    "x_test = x_test.to_numpy()\n",
    "y_train = y_train.array\n",
    "y_test = y_test.array"
   ]
  },
  {
   "cell_type": "code",
   "execution_count": 18,
   "metadata": {},
   "outputs": [
    {
     "data": {
      "image/png": "[encoded data removed]",
      "text/plain": [
       "<Figure size 640x480 with 1 Axes>"
      ]
     },
     "metadata": {},
     "output_type": "display_data"
    }
   ],
   "source": [
    "plt.scatter(x_train, y_train)\n",
    "plt.show()"
   ]
  },
  {
   "cell_type": "markdown",
   "metadata": {},
   "source": [
    "#### Building the model"
   ]
  },
  {
   "cell_type": "code",
   "execution_count": 19,
   "metadata": {},
   "outputs": [
    {
     "name": "stdout",
     "output_type": "stream",
     "text": [
      " * Detected 10 rules / clusters\n",
      " * Detected Sugeno model type\n",
      "Mean Squared Error: 0.634\n",
      "Mean Absolute Percentage Error: 14.3%\n",
      "Explained Variance Score: 0.024\n"
     ]
    }
   ],
   "source": [
    "cl = Clusterer(x_train=x_train, y_train=y_train, nr_clus=10)\n",
    "clust_centers, part_matrix, _ = cl.cluster(method='fcm')\n",
    "\n",
    "# %% Estimate membership functions parameters\n",
    "ae = AntecedentEstimator(x_train, part_matrix)\n",
    "antecedent_params = ae.determineMF()\n",
    "\n",
    "# %% Estimate consequent parameters\n",
    "ce = ConsequentEstimator(x_train, y_train, part_matrix)\n",
    "conseq_params = ce.suglms()\n",
    "\n",
    "# %% Build first-order Takagi-Sugeno model\n",
    "modbuilder = SugenoFISBuilder(antecedent_params, conseq_params, indexes, save_simpful_code=False)\n",
    "model = modbuilder.get_model()\n",
    "\n",
    "# %% Get model predictions\n",
    "modtester = SugenoFISTester(model, x_test, indexes)\n",
    "y_pred = modtester.predict()[0]\n",
    "\n",
    "mse = mean_squared_error(y_test, y_pred)\n",
    "print(\"Mean Squared Error: {:.3f}\".format(mse))\n",
    "mape = mean_absolute_percentage_error(y_test, y_pred)\n",
    "print(\"Mean Absolute Percentage Error: {:.1f}%\".format(mape*100))\n",
    "exp_var = explained_variance_score(y_test, y_pred)\n",
    "print(\"Explained Variance Score: {:.3f}\".format(exp_var))"
   ]
  },
  {
   "cell_type": "code",
   "execution_count": 20,
   "metadata": {},
   "outputs": [
    {
     "name": "stdout",
     "output_type": "stream",
     "text": [
      " * Detected 2 rules / clusters\n",
      " * Detected Sugeno model type\n",
      " * Detected 3 rules / clusters\n",
      " * Detected Sugeno model type\n",
      " * Detected 4 rules / clusters\n",
      " * Detected Sugeno model type\n",
      " * Detected 5 rules / clusters\n",
      " * Detected Sugeno model type\n",
      " * Detected 6 rules / clusters\n",
      " * Detected Sugeno model type\n",
      " * Detected 7 rules / clusters\n",
      " * Detected Sugeno model type\n",
      " * Detected 8 rules / clusters\n",
      " * Detected Sugeno model type\n",
      " * Detected 9 rules / clusters\n",
      " * Detected Sugeno model type\n",
      " * Detected 10 rules / clusters\n",
      " * Detected Sugeno model type\n",
      " * Detected 11 rules / clusters\n",
      " * Detected Sugeno model type\n",
      " * Detected 12 rules / clusters\n",
      " * Detected Sugeno model type\n",
      " * Detected 13 rules / clusters\n",
      " * Detected Sugeno model type\n",
      " * Detected 14 rules / clusters\n",
      " * Detected Sugeno model type\n",
      " * Detected 15 rules / clusters\n",
      " * Detected Sugeno model type\n",
      " * Detected 16 rules / clusters\n",
      " * Detected Sugeno model type\n",
      " * Detected 17 rules / clusters\n",
      " * Detected Sugeno model type\n",
      " * Detected 18 rules / clusters\n",
      " * Detected Sugeno model type\n",
      " * Detected 19 rules / clusters\n",
      " * Detected Sugeno model type\n",
      "Best Results:\n",
      "Best Mean Squared Error: 0.6118908618829433 (Cluster Count: 2)\n",
      "Best Mean Absolute Percentage Error: 14.2% (Cluster Count: 2)\n",
      "Best Explained Variance Score: 0.027403989008520258 (Cluster Count: 2)\n"
     ]
    }
   ],
   "source": [
    "best_mse = float('inf')\n",
    "best_mape = float('inf')\n",
    "best_exp_var = -float('inf')\n",
    "best_nr_clus = 0\n",
    "\n",
    "for nr_clus in range(2, 20):\n",
    "    cl = Clusterer(x_train=x_train, y_train=y_train, nr_clus=nr_clus)\n",
    "    \n",
    "    clust_centers, part_matrix, _ = cl.cluster(method='fcm')\n",
    "    \n",
    "    ae = AntecedentEstimator(x_train, part_matrix)\n",
    "    antecedent_params = ae.determineMF()\n",
    "    \n",
    "    ce = ConsequentEstimator(x_train, y_train, part_matrix)\n",
    "    conseq_params = ce.suglms()\n",
    "    \n",
    "    # Build first-order Takagi-Sugeno model\n",
    "    modbuilder = SugenoFISBuilder(antecedent_params, conseq_params, indexes, save_simpful_code=False)\n",
    "    model = modbuilder.get_model()\n",
    "    \n",
    "    # Get model predictions\n",
    "    modtester = SugenoFISTester(model, x_test, indexes)\n",
    "    y_pred = modtester.predict()[0]\n",
    "    \n",
    "    mse = mean_squared_error(y_test, y_pred)\n",
    "    mape = mean_absolute_percentage_error(y_test, y_pred)\n",
    "    exp_var = explained_variance_score(y_test, y_pred)\n",
    "\n",
    "    if mse < best_mse:\n",
    "        best_mse = mse\n",
    "        best_nr_clus_mse = nr_clus\n",
    "\n",
    "    if mape < best_mape:\n",
    "        best_mape = mape\n",
    "        best_nr_clus_mape = nr_clus\n",
    "\n",
    "    if exp_var > best_exp_var:\n",
    "        best_exp_var = exp_var\n",
    "        best_nr_clus_exp_var = nr_clus\n",
    "\n",
    "print(\"Best Results:\")\n",
    "print(f\"Best Mean Squared Error: {best_mse} (Cluster Count: {best_nr_clus_mse})\")\n",
    "print(f\"Best Mean Absolute Percentage Error: {best_mape * 100:.1f}% (Cluster Count: {best_nr_clus_mape})\")\n",
    "print(f\"Best Explained Variance Score: {best_exp_var} (Cluster Count: {best_nr_clus_exp_var})\")\n"
   ]
  },
  {
   "cell_type": "code",
   "execution_count": null,
   "metadata": {},
   "outputs": [],
   "source": []
  },
  {
   "cell_type": "code",
   "execution_count": null,
   "metadata": {},
   "outputs": [],
   "source": []
  }
 ],
 "metadata": {
  "kernelspec": {
   "display_name": "Python 3 (ipykernel)",
   "language": "python",
   "name": "python3"
  },
  "language_info": {
   "codemirror_mode": {
    "name": "ipython",
    "version": 3
   },
   "file_extension": ".py",
   "mimetype": "text/x-python",
   "name": "python",
   "nbconvert_exporter": "python",
   "pygments_lexer": "ipython3",
   "version": "3.12.4"
  }
 },
 "nbformat": 4,
 "nbformat_minor": 4
}
