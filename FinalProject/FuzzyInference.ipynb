{
 "cells": [
  {
   "cell_type": "markdown",
   "metadata": {},
   "source": [
    "## Importing Data and Libraries"
   ]
  },
  {
   "cell_type": "code",
   "execution_count": 565,
   "metadata": {},
   "outputs": [],
   "source": [
    "import pandas as pd\n",
    "import numpy as np\n",
    "import matplotlib.pyplot as plt\n",
    "from pyfume.Clustering import Clusterer\n",
    "from pyfume.EstimateAntecendentSet import AntecedentEstimator\n",
    "from pyfume.EstimateConsequentParameters import ConsequentEstimator\n",
    "from pyfume.SimpfulModelBuilder import SugenoFISBuilder\n",
    "from pyfume.Tester import SugenoFISTester\n",
    "from sklearn.metrics import accuracy_score, recall_score, precision_score, f1_score, cohen_kappa_score\n",
    "from numpy import clip, column_stack, argmax\n",
    "from scipy.spatial import distance\n",
    "from scipy.spatial.distance import cdist\n",
    "from sklearn.metrics import silhouette_score\n",
    "import warnings\n",
    "\n",
    "warnings.simplefilter(action='ignore', category=FutureWarning)"
   ]
  },
  {
   "cell_type": "code",
   "execution_count": 566,
   "metadata": {},
   "outputs": [
    {
     "data": {
      "text/plain": [
       "((241, 12), (61, 12), (241,), (61,))"
      ]
     },
     "execution_count": 566,
     "metadata": {},
     "output_type": "execute_result"
    }
   ],
   "source": [
    "Train = pd.read_csv('dataTrain.csv')\n",
    "Test = pd.read_csv('dataTest.csv')\n",
    "\n",
    "stats = pd.read_csv('stats.csv')\n",
    "stats = stats.iloc[:,1:]\n",
    "\n",
    "X_train = Train.drop('output', axis=1)\n",
    "y_train = Train['output']\n",
    "\n",
    "X_test = Test.drop('output', axis=1)\n",
    "y_test = Test['output']\n",
    "\n",
    "maxs = X_train.max().tolist()\n",
    "mins = X_train.min().tolist()\n",
    "\n",
    "var_names = X_train.columns.to_list()\n",
    "X_train.shape, X_test.shape, y_train.shape, y_test.shape"
   ]
  },
  {
   "cell_type": "code",
   "execution_count": 567,
   "metadata": {},
   "outputs": [
    {
     "data": {
      "text/html": [
       "<div>\n",
       "<style scoped>\n",
       "    .dataframe tbody tr th:only-of-type {\n",
       "        vertical-align: middle;\n",
       "    }\n",
       "\n",
       "    .dataframe tbody tr th {\n",
       "        vertical-align: top;\n",
       "    }\n",
       "\n",
       "    .dataframe thead th {\n",
       "        text-align: right;\n",
       "    }\n",
       "</style>\n",
       "<table border=\"1\" class=\"dataframe\">\n",
       "  <thead>\n",
       "    <tr style=\"text-align: right;\">\n",
       "      <th></th>\n",
       "      <th>Feature</th>\n",
       "      <th>Mean</th>\n",
       "      <th>Variance</th>\n",
       "    </tr>\n",
       "  </thead>\n",
       "  <tbody>\n",
       "    <tr>\n",
       "      <th>0</th>\n",
       "      <td>age</td>\n",
       "      <td>54.373444</td>\n",
       "      <td>83.926930</td>\n",
       "    </tr>\n",
       "    <tr>\n",
       "      <th>1</th>\n",
       "      <td>sex</td>\n",
       "      <td>0.651452</td>\n",
       "      <td>0.227062</td>\n",
       "    </tr>\n",
       "    <tr>\n",
       "      <th>2</th>\n",
       "      <td>cp</td>\n",
       "      <td>1.000000</td>\n",
       "      <td>1.070539</td>\n",
       "    </tr>\n",
       "    <tr>\n",
       "      <th>3</th>\n",
       "      <td>trtbps</td>\n",
       "      <td>130.784232</td>\n",
       "      <td>275.936847</td>\n",
       "    </tr>\n",
       "    <tr>\n",
       "      <th>4</th>\n",
       "      <td>chol</td>\n",
       "      <td>245.033195</td>\n",
       "      <td>2254.206367</td>\n",
       "    </tr>\n",
       "    <tr>\n",
       "      <th>5</th>\n",
       "      <td>fbs</td>\n",
       "      <td>0.132780</td>\n",
       "      <td>0.115150</td>\n",
       "    </tr>\n",
       "    <tr>\n",
       "      <th>6</th>\n",
       "      <td>restecg</td>\n",
       "      <td>0.526971</td>\n",
       "      <td>0.282468</td>\n",
       "    </tr>\n",
       "    <tr>\n",
       "      <th>7</th>\n",
       "      <td>thalachh</td>\n",
       "      <td>149.759336</td>\n",
       "      <td>495.798927</td>\n",
       "    </tr>\n",
       "    <tr>\n",
       "      <th>8</th>\n",
       "      <td>exng</td>\n",
       "      <td>0.302905</td>\n",
       "      <td>0.211153</td>\n",
       "    </tr>\n",
       "    <tr>\n",
       "      <th>9</th>\n",
       "      <td>oldpeak</td>\n",
       "      <td>0.978423</td>\n",
       "      <td>1.099368</td>\n",
       "    </tr>\n",
       "    <tr>\n",
       "      <th>10</th>\n",
       "      <td>slp</td>\n",
       "      <td>1.414938</td>\n",
       "      <td>0.367246</td>\n",
       "    </tr>\n",
       "    <tr>\n",
       "      <th>11</th>\n",
       "      <td>caa</td>\n",
       "      <td>0.672199</td>\n",
       "      <td>0.967235</td>\n",
       "    </tr>\n",
       "    <tr>\n",
       "      <th>12</th>\n",
       "      <td>thall</td>\n",
       "      <td>2.323651</td>\n",
       "      <td>0.351681</td>\n",
       "    </tr>\n",
       "  </tbody>\n",
       "</table>\n",
       "</div>"
      ],
      "text/plain": [
       "     Feature        Mean     Variance\n",
       "0        age   54.373444    83.926930\n",
       "1        sex    0.651452     0.227062\n",
       "2         cp    1.000000     1.070539\n",
       "3     trtbps  130.784232   275.936847\n",
       "4       chol  245.033195  2254.206367\n",
       "5        fbs    0.132780     0.115150\n",
       "6    restecg    0.526971     0.282468\n",
       "7   thalachh  149.759336   495.798927\n",
       "8       exng    0.302905     0.211153\n",
       "9    oldpeak    0.978423     1.099368\n",
       "10       slp    1.414938     0.367246\n",
       "11       caa    0.672199     0.967235\n",
       "12     thall    2.323651     0.351681"
      ]
     },
     "execution_count": 567,
     "metadata": {},
     "output_type": "execute_result"
    }
   ],
   "source": [
    "stats"
   ]
  },
  {
   "cell_type": "code",
   "execution_count": 568,
   "metadata": {},
   "outputs": [],
   "source": [
    "savecols = X_train.columns"
   ]
  },
  {
   "cell_type": "code",
   "execution_count": 569,
   "metadata": {},
   "outputs": [],
   "source": [
    "X_train = X_train.to_numpy()\n",
    "X_test = X_test.to_numpy()\n",
    "y_train = y_train.array\n",
    "y_test = y_test.array"
   ]
  },
  {
   "cell_type": "markdown",
   "metadata": {},
   "source": [
    "## Building the model"
   ]
  },
  {
   "cell_type": "markdown",
   "metadata": {},
   "source": [
    "### Clustering"
   ]
  },
  {
   "cell_type": "markdown",
   "metadata": {},
   "source": [
    "In this section, we will try out different numbers of clusters in order to minimize the separation between clusters. "
   ]
  },
  {
   "cell_type": "markdown",
   "metadata": {},
   "source": [
    "#### Functions"
   ]
  },
  {
   "cell_type": "code",
   "execution_count": 570,
   "metadata": {},
   "outputs": [],
   "source": [
    "def SeparationMetric(X_train, clust_centers, part_matrix):\n",
    "    metric = 0\n",
    "    for clust in range(clust_centers.shape[0]):\n",
    "        for point in range(X_train.shape[0]):\n",
    "            metric += part_matrix[point, clust] * distance.euclidean(X_train[point], clust_centers[clust])\n",
    "    return metric\n",
    "\n",
    "#def SeparationMetric(X_train, clust_centers, part_matrix):\n",
    "#    silhouette_score(X_train, )\n",
    "#    return metric"
   ]
  },
  {
   "cell_type": "code",
   "execution_count": 571,
   "metadata": {},
   "outputs": [],
   "source": [
    "def Cluster(nclusters):\n",
    "    clust_centers, part_matrix = fcm(X_train, n_clusters = nclusters)\n",
    "    return clust_centers, part_matrix"
   ]
  },
  {
   "cell_type": "code",
   "execution_count": 572,
   "metadata": {},
   "outputs": [],
   "source": [
    "def gaussian(x, mu, sig, mux, sigx):\n",
    "    mu = mux + sigx * mu\n",
    "    sig = sig * sigx\n",
    "    #return (1.0 / (np.sqrt(2.0 * np.pi) * sig) * np.exp(-np.power((x - mu) / sig, 2.0) / 2))\n",
    "    return (np.exp(-np.power((x - mu) / sig, 2.0) / 2))"
   ]
  },
  {
   "cell_type": "code",
   "execution_count": 573,
   "metadata": {},
   "outputs": [],
   "source": [
    "def Revert(x, stats):\n",
    "    for i in range(x.shape[0]):\n",
    "        data = stats[stats['Feature'] == savecols[i]]\n",
    "        x[i] = x[i] * (data.iloc[0,2] ** 0.5) + data.iloc[0,1]\n",
    "    return x"
   ]
  },
  {
   "cell_type": "markdown",
   "metadata": {},
   "source": [
    "#### Code"
   ]
  },
  {
   "cell_type": "code",
   "execution_count": 574,
   "metadata": {},
   "outputs": [
    {
     "data": {
      "text/plain": [
       "'\"\\nfor i in range(max_clusters):\\n    i += 1\\n    #clust_centers, part_matrix = Cluster(i)\\n    cl = Clusterer(x_train=X_train, y_train=y_train, nr_clus=i)\\n    clust_centers, part_matrix, _ = cl.cluster(method=selected_method)\\n    clust_centers = clust_centers[:,:-1]\\n    \\n    metric = SeparationMetric(X_train, clust_centers, part_matrix)\\n    if metric < min_metric:\\n        min_metric = metric\\n        best_number = i\\n\\nprint(f\\'Best number of clusters: {best_number}\\')'"
      ]
     },
     "execution_count": 574,
     "metadata": {},
     "output_type": "execute_result"
    }
   ],
   "source": [
    "max_clusters = 10\n",
    "min_metric = np.inf\n",
    "selected_method = 'fst-pso' #'gk'\n",
    "\"\"\"\"\n",
    "for i in range(max_clusters):\n",
    "    i += 1\n",
    "    #clust_centers, part_matrix = Cluster(i)\n",
    "    cl = Clusterer(x_train=X_train, y_train=y_train, nr_clus=i)\n",
    "    clust_centers, part_matrix, _ = cl.cluster(method=selected_method)\n",
    "    clust_centers = clust_centers[:,:-1]\n",
    "    \n",
    "    metric = SeparationMetric(X_train, clust_centers, part_matrix)\n",
    "    if metric < min_metric:\n",
    "        min_metric = metric\n",
    "        best_number = i\n",
    "\n",
    "print(f'Best number of clusters: {best_number}')\"\"\""
   ]
  },
  {
   "cell_type": "code",
   "execution_count": 575,
   "metadata": {},
   "outputs": [
    {
     "name": "stdout",
     "output_type": "stream",
     "text": [
      "Fuzzy Self-Tuning PSO - v1.8.1\n",
      " * Max distance: 18.910044\n",
      " * Search space boundaries set to: [[-1.3671311638052943, 0.7314587118448709], [-1.3671311638052943, 0.7314587118448709], [-0.9664929007146316, 1.9329858014292631], [-0.9664929007146316, 1.9329858014292631], [-2.2144039565795786, 2.3607819282158617], [-2.2144039565795786, 2.3607819282158617], [-2.401786816576483, 2.568885877536174], [-2.401786816576483, 2.568885877536174], [-0.3912927904356147, 2.555631037532609], [-0.3912927904356147, 2.555631037532609], [-0.9915220285980402, 2.771577324033892], [-0.9915220285980402, 2.771577324033892], [-2.5715413778467515, 2.3461506537983703], [-2.5715413778467515, 2.3461506537983703], [-0.6591841999955774, 1.5170266520446165], [-0.6591841999955774, 1.5170266520446165], [-0.9331578631464132, 2.8817877690552076], [-0.9331578631464132, 2.8817877690552076], [-2.334849818633804, 0.965436435270869], [-2.334849818633804, 0.965436435270869], [-0.6834895479753919, 3.3836951696065687], [-0.6834895479753919, 3.3836951696065687], [-3.9182880820805015, 1.1405017096055745], [-3.9182880820805015, 1.1405017096055745], [0.0, 1.0], [0.0, 1.0]]\n",
      " * Max velocities set to: [2.0985898756501653, 2.0985898756501653, 2.899478702143895, 2.899478702143895, 4.57518588479544, 4.57518588479544, 4.970672694112657, 4.970672694112657, 2.9469238279682237, 2.9469238279682237, 3.763099352631932, 3.763099352631932, 4.917692031645122, 4.917692031645122, 2.176210852040194, 2.176210852040194, 3.8149456322016206, 3.8149456322016206, 3.300286253904673, 3.300286253904673, 4.06718471758196, 4.06718471758196, 5.058789791686076, 5.058789791686076, 1.0, 1.0]\n",
      " * Number of particles automatically set to 20\n",
      " * Fuzzy rules for minimum velocity cap DISABLED\n",
      " * 20 particles created.\n",
      " * FST-PSO will now assess the local and global best particles.\n",
      " * Estimated worst fitness: 12073.826\n",
      " * New best particle in the swarm is #0 with fitness 9833.407510 (it: 0).\n",
      " * New best particle in the swarm is #4 with fitness 8491.809760 (it: 0).\n",
      " * New best particle in the swarm is #8 with fitness 8300.000577 (it: 0).\n",
      " * New best particle in the swarm is #9 with fitness 8045.671195 (it: 0).\n",
      " * New best particle in the swarm is #11 with fitness 6571.183030 (it: 0).\n",
      "\n",
      " *** All prepared, launching optimization ***\n",
      " * New best particle in the swarm is #4 with fitness 6380.414858 (it: 0).\n",
      " * New best particle in the swarm is #7 with fitness 6370.939593 (it: 0).\n",
      " * New best particle in the swarm is #9 with fitness 6369.827813 (it: 0).\n",
      " * New best particle in the swarm is #14 with fitness 5659.936417 (it: 0).\n",
      " * New best particle in the swarm is #4 with fitness 5572.037532 (it: 1).\n",
      " * New best particle in the swarm is #16 with fitness 5524.294232 (it: 2).\n",
      " * New best particle in the swarm is #18 with fitness 5206.505785 (it: 2).\n",
      " * New best particle in the swarm is #5 with fitness 4872.752800 (it: 3).\n",
      " * New best particle in the swarm is #9 with fitness 4761.909114 (it: 3).\n",
      " * New best particle in the swarm is #5 with fitness 4545.871665 (it: 4).\n",
      " * New best particle in the swarm is #12 with fitness 4396.933775 (it: 4).\n",
      " * New best particle in the swarm is #7 with fitness 4384.794745 (it: 5).\n",
      " * New best particle in the swarm is #1 with fitness 4281.304205 (it: 6).\n",
      " * New best particle in the swarm is #5 with fitness 4274.629070 (it: 7).\n",
      " * New best particle in the swarm is #7 with fitness 4259.623947 (it: 7).\n",
      " * New best particle in the swarm is #8 with fitness 4198.210312 (it: 7).\n",
      " * New best particle in the swarm is #0 with fitness 4186.881163 (it: 8).\n",
      " * New best particle in the swarm is #1 with fitness 4080.998357 (it: 9).\n",
      " * New best particle in the swarm is #18 with fitness 4077.125224 (it: 10).\n",
      " * 11th iteration out of 100 completed. [###                           ]\n",
      " * New best particle in the swarm is #1 with fitness 4058.848386 (it: 11).\n",
      " * New best particle in the swarm is #5 with fitness 4044.109023 (it: 11).\n",
      " * New best particle in the swarm is #10 with fitness 3996.789706 (it: 11).\n",
      " * 12th iteration out of 100 completed. [###                           ]\n",
      " * New best particle in the swarm is #2 with fitness 3908.450546 (it: 12).\n",
      " * New best particle in the swarm is #12 with fitness 3888.114091 (it: 12).\n",
      " * 14th iteration out of 100 completed. [####                          ]\n",
      " * New best particle in the swarm is #0 with fitness 3788.344243 (it: 14).\n",
      " * New best particle in the swarm is #2 with fitness 3734.617551 (it: 14).\n",
      " * New best particle in the swarm is #12 with fitness 3728.896103 (it: 14).\n",
      " * New best particle in the swarm is #10 with fitness 3700.013297 (it: 15).\n",
      " * 16th iteration out of 100 completed. [####                          ]\n",
      " * New best particle in the swarm is #14 with fitness 3599.058746 (it: 16).\n",
      " * New best particle in the swarm is #18 with fitness 3569.764947 (it: 17).\n",
      " * New best particle in the swarm is #0 with fitness 3526.488515 (it: 18).\n",
      " * New best particle in the swarm is #4 with fitness 3513.458422 (it: 19).\n",
      " * 20th iteration out of 100 completed. [######                        ]\n",
      " * New best particle in the swarm is #4 with fitness 3493.141503 (it: 21).\n",
      " * New best particle in the swarm is #10 with fitness 3479.610349 (it: 23).\n",
      " * New best particle in the swarm is #2 with fitness 3474.797533 (it: 24).\n",
      " * 25th iteration out of 100 completed. [#######                       ]\n",
      " * New best particle in the swarm is #2 with fitness 3453.772529 (it: 26).\n",
      " * New best particle in the swarm is #10 with fitness 3452.345701 (it: 26).\n",
      " * New best particle in the swarm is #2 with fitness 3394.474275 (it: 28).\n",
      " * New best particle in the swarm is #17 with fitness 3386.069022 (it: 28).\n",
      " * New best particle in the swarm is #0 with fitness 3380.822187 (it: 30).\n",
      " * New best particle in the swarm is #0 with fitness 3351.539438 (it: 32).\n",
      " * 33th iteration out of 100 completed. [#########                     ]\n",
      " * New best particle in the swarm is #12 with fitness 3320.578732 (it: 33).\n",
      " * New best particle in the swarm is #12 with fitness 3309.860119 (it: 35).\n",
      " * New best particle in the swarm is #2 with fitness 3287.388095 (it: 37).\n",
      " * New best particle in the swarm is #4 with fitness 3279.720225 (it: 39).\n",
      " * New best particle in the swarm is #10 with fitness 3250.357178 (it: 40).\n",
      " * New best particle in the swarm is #4 with fitness 3245.806255 (it: 42).\n",
      " * New best particle in the swarm is #10 with fitness 3210.603227 (it: 43).\n",
      " * New best particle in the swarm is #10 with fitness 3208.978300 (it: 49).\n",
      " * 50th iteration out of 100 completed. [###############               ]\n",
      " * New best particle in the swarm is #18 with fitness 3201.623953 (it: 50).\n",
      " * New best particle in the swarm is #4 with fitness 3200.714490 (it: 51).\n",
      " * New best particle in the swarm is #16 with fitness 3173.355330 (it: 52).\n",
      " * New best particle in the swarm is #4 with fitness 3170.912673 (it: 56).\n",
      " * New best particle in the swarm is #10 with fitness 3166.598276 (it: 56).\n",
      " * New best particle in the swarm is #16 with fitness 3164.807108 (it: 56).\n",
      " * New best particle in the swarm is #5 with fitness 3137.380331 (it: 57).\n",
      " * New best particle in the swarm is #5 with fitness 3137.024122 (it: 59).\n",
      " * New best particle in the swarm is #16 with fitness 3134.302667 (it: 59).\n",
      " * New best particle in the swarm is #8 with fitness 3126.828366 (it: 60).\n",
      " * New best particle in the swarm is #5 with fitness 3126.431984 (it: 61).\n",
      " * New best particle in the swarm is #12 with fitness 3121.408901 (it: 62).\n",
      " * New best particle in the swarm is #16 with fitness 3120.492627 (it: 63).\n",
      " * New best particle in the swarm is #12 with fitness 3119.170690 (it: 64).\n",
      " * New best particle in the swarm is #16 with fitness 3114.817057 (it: 65).\n",
      " * New best particle in the swarm is #3 with fitness 3114.020989 (it: 73).\n",
      " * New best particle in the swarm is #19 with fitness 3109.803261 (it: 73).\n",
      " * New best particle in the swarm is #10 with fitness 3101.207722 (it: 75).\n",
      " * New best particle in the swarm is #10 with fitness 3100.625420 (it: 80).\n",
      " * New best particle in the swarm is #17 with fitness 3091.627355 (it: 83).\n",
      " * New best particle in the swarm is #19 with fitness 3084.552422 (it: 83).\n",
      " * New best particle in the swarm is #19 with fitness 3081.213949 (it: 85).\n",
      " * New best particle in the swarm is #19 with fitness 3075.208375 (it: 87).\n",
      " * New best particle in the swarm is #17 with fitness 3075.142054 (it: 91).\n",
      " * New best particle in the swarm is #4 with fitness 3072.700068 (it: 92).\n",
      " * New best particle in the swarm is #0 with fitness 3070.405699 (it: 94).\n",
      " * 100th iteration out of 100 completed. [##############################]\n"
     ]
    },
    {
     "data": {
      "text/plain": [
       "((2, 12), (241, 2))"
      ]
     },
     "execution_count": 575,
     "metadata": {},
     "output_type": "execute_result"
    }
   ],
   "source": [
    "best_number = 2   # TIRAR\n",
    "\n",
    "#clust_centers, part_matrix = Cluster(best_number)\n",
    "cl = Clusterer(x_train=X_train, y_train=y_train, nr_clus = best_number)\n",
    "clust_centers, part_matrix, _ = cl.cluster(method=selected_method, m = 0.99)\n",
    "clust_centers = clust_centers[:,:-1]\n",
    "clust_centers.shape, part_matrix.shape"
   ]
  },
  {
   "cell_type": "code",
   "execution_count": 576,
   "metadata": {},
   "outputs": [
    {
     "data": {
      "text/html": [
       "<div>\n",
       "<style scoped>\n",
       "    .dataframe tbody tr th:only-of-type {\n",
       "        vertical-align: middle;\n",
       "    }\n",
       "\n",
       "    .dataframe tbody tr th {\n",
       "        vertical-align: top;\n",
       "    }\n",
       "\n",
       "    .dataframe thead th {\n",
       "        text-align: right;\n",
       "    }\n",
       "</style>\n",
       "<table border=\"1\" class=\"dataframe\">\n",
       "  <thead>\n",
       "    <tr style=\"text-align: right;\">\n",
       "      <th></th>\n",
       "      <th>sex</th>\n",
       "      <th>cp</th>\n",
       "      <th>trtbps</th>\n",
       "      <th>chol</th>\n",
       "      <th>fbs</th>\n",
       "      <th>restecg</th>\n",
       "      <th>thalachh</th>\n",
       "      <th>exng</th>\n",
       "      <th>oldpeak</th>\n",
       "      <th>slp</th>\n",
       "      <th>caa</th>\n",
       "      <th>thall</th>\n",
       "    </tr>\n",
       "  </thead>\n",
       "  <tbody>\n",
       "    <tr>\n",
       "      <th>0</th>\n",
       "      <td>-0.155270</td>\n",
       "      <td>0.182420</td>\n",
       "      <td>0.064578</td>\n",
       "      <td>0.079159</td>\n",
       "      <td>0.063799</td>\n",
       "      <td>0.125304</td>\n",
       "      <td>0.089839</td>\n",
       "      <td>0.070730</td>\n",
       "      <td>0.032364</td>\n",
       "      <td>-0.145775</td>\n",
       "      <td>-0.459660</td>\n",
       "      <td>0.088849</td>\n",
       "    </tr>\n",
       "    <tr>\n",
       "      <th>1</th>\n",
       "      <td>-0.057194</td>\n",
       "      <td>0.008019</td>\n",
       "      <td>0.100688</td>\n",
       "      <td>0.072395</td>\n",
       "      <td>0.061413</td>\n",
       "      <td>0.153715</td>\n",
       "      <td>0.085932</td>\n",
       "      <td>-0.018101</td>\n",
       "      <td>0.032374</td>\n",
       "      <td>-0.164312</td>\n",
       "      <td>-0.432324</td>\n",
       "      <td>0.040140</td>\n",
       "    </tr>\n",
       "  </tbody>\n",
       "</table>\n",
       "</div>"
      ],
      "text/plain": [
       "        sex        cp    trtbps      chol       fbs   restecg  thalachh  \\\n",
       "0 -0.155270  0.182420  0.064578  0.079159  0.063799  0.125304  0.089839   \n",
       "1 -0.057194  0.008019  0.100688  0.072395  0.061413  0.153715  0.085932   \n",
       "\n",
       "       exng   oldpeak       slp       caa     thall  \n",
       "0  0.070730  0.032364 -0.145775 -0.459660  0.088849  \n",
       "1 -0.018101  0.032374 -0.164312 -0.432324  0.040140  "
      ]
     },
     "execution_count": 576,
     "metadata": {},
     "output_type": "execute_result"
    }
   ],
   "source": [
    "pd.DataFrame(clust_centers, columns=savecols)"
   ]
  },
  {
   "cell_type": "markdown",
   "metadata": {},
   "source": [
    "### Building the model"
   ]
  },
  {
   "cell_type": "code",
   "execution_count": 577,
   "metadata": {},
   "outputs": [
    {
     "name": "stdout",
     "output_type": "stream",
     "text": [
      " * Detected 2 rules / clusters\n",
      " * Detected Sugeno model type\n"
     ]
    }
   ],
   "source": [
    "ae = AntecedentEstimator(X_train, part_matrix)\n",
    "antecedent_params = ae.determineMF()\n",
    "\n",
    "ce = ConsequentEstimator(X_train, y_train, part_matrix)\n",
    "conseq_params = ce.suglms()\n",
    "\n",
    "modbuilder = SugenoFISBuilder(antecedent_params, conseq_params, var_names, save_simpful_code=False)\n",
    "model = modbuilder.get_model()"
   ]
  },
  {
   "cell_type": "markdown",
   "metadata": {},
   "source": [
    "### Inference and Metrics"
   ]
  },
  {
   "cell_type": "code",
   "execution_count": 578,
   "metadata": {},
   "outputs": [],
   "source": [
    "modtester = SugenoFISTester(model, X_test, var_names)\n",
    "y_pred_probs = clip(modtester.predict()[0], 0, 1)\n",
    "y_pred_probs = column_stack((1 - y_pred_probs, y_pred_probs))\n",
    "y_pred = argmax(y_pred_probs,axis=1)"
   ]
  },
  {
   "cell_type": "code",
   "execution_count": 579,
   "metadata": {},
   "outputs": [
    {
     "name": "stdout",
     "output_type": "stream",
     "text": [
      "Accuracy: 0.836\n",
      "Recall: 0.844\n",
      "Precision Score: 0.844\n",
      "F1-Score: 0.844\n",
      "Kappa Score: 0.671\n"
     ]
    }
   ],
   "source": [
    "acc_score = accuracy_score(y_test, y_pred)\n",
    "print(\"Accuracy: {:.3f}\".format(acc_score))\n",
    "rec_score = recall_score(y_test, y_pred)\n",
    "print(\"Recall: {:.3f}\".format(rec_score))\n",
    "prec_score = precision_score(y_test, y_pred)\n",
    "print(\"Precision Score: {:.3f}\".format(prec_score))\n",
    "F1_score = f1_score(y_test, y_pred)\n",
    "print(\"F1-Score: {:.3f}\".format(F1_score))\n",
    "kappa = cohen_kappa_score(y_test, y_pred)\n",
    "print(\"Kappa Score: {:.3f}\".format(kappa))"
   ]
  },
  {
   "cell_type": "markdown",
   "metadata": {},
   "source": [
    "## Model Visualization/Interpretation"
   ]
  },
  {
   "cell_type": "code",
   "execution_count": 580,
   "metadata": {},
   "outputs": [
    {
     "data": {
      "text/plain": [
       "<Linguistic variable 'chol', contains fuzzy sets [<Fuzzy set (function), term='cluster1'>, <Fuzzy set (function), term='cluster2'>], universe of discourse: None>"
      ]
     },
     "execution_count": 580,
     "metadata": {},
     "output_type": "execute_result"
    }
   ],
   "source": [
    "model._lvs['chol'] # example of how pyFUME defines une linguistic variable in simpful"
   ]
  },
  {
   "cell_type": "code",
   "execution_count": 581,
   "metadata": {},
   "outputs": [],
   "source": [
    "# The pyFUME library doesn't atribute a universe of discourse to the linguistic variables it creates in simpful. In order to fix this, we set each universe considering the maximum\n",
    "# value heald by each dataframe column. This has to be done since, otherwise, the plotting functions won't work.\n",
    "\n",
    "for ix in range(len(var_names)):\n",
    "    max = maxs[ix]\n",
    "    min = mins[ix]\n",
    "    uod = [min, max]\n",
    "    model._lvs[var_names[ix]]._universe_of_discourse = uod"
   ]
  },
  {
   "cell_type": "code",
   "execution_count": 582,
   "metadata": {},
   "outputs": [],
   "source": [
    "#model.produce_figure(\"\",2)"
   ]
  },
  {
   "cell_type": "markdown",
   "metadata": {},
   "source": [
    "## Converting the model to X"
   ]
  },
  {
   "cell_type": "markdown",
   "metadata": {},
   "source": [
    "#### More functions"
   ]
  },
  {
   "cell_type": "code",
   "execution_count": 583,
   "metadata": {},
   "outputs": [],
   "source": [
    "def FunctionstoX(model, stats):\n",
    "    final_df = pd.DataFrame(columns = var_names+['constant'])\n",
    "\n",
    "    for f in model._outputfunctions:\n",
    "        acumulated = 0 # value to be added to the intercept in the end\n",
    "        expression = model._outputfunctions[f]\n",
    "        item_list = expression.split('+')\n",
    "\n",
    "        for k in range(len(item_list) - 1):\n",
    "            item_list[k] = item_list[k].split('*')\n",
    "            values = stats[stats['Feature'] == item_list[k][1]]\n",
    "            std = values.iloc[0,2] ** 0.5\n",
    "            mean = values.iloc[0,1]\n",
    "            acumulated -= float(item_list[k][0]) * mean / (std) \n",
    "            item_list[k] = float(item_list[k][0]) / (std) \n",
    "            \n",
    "        item_list[-1] = float(item_list[-1]) + acumulated\n",
    "        final_df = pd.concat([final_df,pd.DataFrame([item_list], columns = var_names+['constant'])], axis = 0)\n",
    "        final_df.reset_index(drop=True, inplace=True)\n",
    "    return final_df"
   ]
  },
  {
   "cell_type": "code",
   "execution_count": 584,
   "metadata": {},
   "outputs": [],
   "source": [
    "def UODtoX(model, stats):\n",
    "    uods = {}\n",
    "    for lv in model._lvs:\n",
    "        data = stats[stats['Feature'] == lv]\n",
    "        mean = data.iloc[0,1]\n",
    "        std = data.iloc[0,2] ** 0.5\n",
    "        uod = model._lvs[lv]._universe_of_discourse\n",
    "        for i in range(2):\n",
    "            uod[i] = uod[i] * std + mean\n",
    "        uods[lv] = uod\n",
    "    return uods"
   ]
  },
  {
   "cell_type": "code",
   "execution_count": 585,
   "metadata": {},
   "outputs": [],
   "source": [
    "class XMF:\n",
    "\n",
    "    def __init__(self, uod, data, mu, sigma):\n",
    "        self.uod = uod\n",
    "        self.mean = data.iloc[0,1]\n",
    "        self.std = data.iloc[0,2] ** 0.5\n",
    "        self.mu = mu\n",
    "        self.sigma = sigma\n",
    "\n",
    "    def __call__(self, x):\n",
    "        #x = (x - self.mean) / self.std # X to Z\n",
    "        x = gaussian(x, self.mu, self.sigma, self.mean, self.std) # Z to MF\n",
    "        \n",
    "        return x"
   ]
  },
  {
   "cell_type": "code",
   "execution_count": 586,
   "metadata": {},
   "outputs": [],
   "source": [
    "def newMFS(model, stats, uods):\n",
    "    MFS = {}\n",
    "    for lv in model._lvs:\n",
    "        fs = []\n",
    "        data = stats[stats['Feature'] == lv]\n",
    "        uod = uods[lv]\n",
    "        for clust in range(len(model._lvs[lv]._FSlist)):\n",
    "            mu = model._lvs[lv]._FSlist[clust]._funpointer._mu\n",
    "            sigma = model._lvs[lv]._FSlist[clust]._funpointer._sigma\n",
    "            fs.append(XMF(uod, data, mu, sigma))\n",
    "        MFS[lv] = fs\n",
    "    return MFS"
   ]
  },
  {
   "cell_type": "code",
   "execution_count": 587,
   "metadata": {},
   "outputs": [],
   "source": [
    "def plotMFs(mfs, var):\n",
    "    mfs = mfs[var]\n",
    "    x = np.linspace(mfs[0].uod[0], mfs[0].uod[1], 100)\n",
    "    for i in range(len(mfs)):\n",
    "        y = [mfs[i](j) for j in x]\n",
    "        plt.plot(x, y)"
   ]
  },
  {
   "cell_type": "markdown",
   "metadata": {},
   "source": [
    "#### Code"
   ]
  },
  {
   "cell_type": "code",
   "execution_count": 588,
   "metadata": {},
   "outputs": [],
   "source": [
    "uods = UODtoX(model, stats)\n",
    "mfs = newMFS(model, stats, uods)\n",
    "consequents = FunctionstoX(model, stats)\n",
    "#uods"
   ]
  },
  {
   "cell_type": "code",
   "execution_count": 589,
   "metadata": {},
   "outputs": [
    {
     "data": {
      "text/html": [
       "<div>\n",
       "<style scoped>\n",
       "    .dataframe tbody tr th:only-of-type {\n",
       "        vertical-align: middle;\n",
       "    }\n",
       "\n",
       "    .dataframe tbody tr th {\n",
       "        vertical-align: top;\n",
       "    }\n",
       "\n",
       "    .dataframe thead th {\n",
       "        text-align: right;\n",
       "    }\n",
       "</style>\n",
       "<table border=\"1\" class=\"dataframe\">\n",
       "  <thead>\n",
       "    <tr style=\"text-align: right;\">\n",
       "      <th></th>\n",
       "      <th>sex</th>\n",
       "      <th>cp</th>\n",
       "      <th>trtbps</th>\n",
       "      <th>chol</th>\n",
       "      <th>fbs</th>\n",
       "      <th>restecg</th>\n",
       "      <th>thalachh</th>\n",
       "      <th>exng</th>\n",
       "      <th>oldpeak</th>\n",
       "      <th>slp</th>\n",
       "      <th>caa</th>\n",
       "      <th>thall</th>\n",
       "    </tr>\n",
       "  </thead>\n",
       "  <tbody>\n",
       "    <tr>\n",
       "      <th>0</th>\n",
       "      <td>0.577464</td>\n",
       "      <td>1.188744</td>\n",
       "      <td>131.856962</td>\n",
       "      <td>248.791567</td>\n",
       "      <td>0.154429</td>\n",
       "      <td>0.593567</td>\n",
       "      <td>151.759738</td>\n",
       "      <td>0.335406</td>\n",
       "      <td>1.012357</td>\n",
       "      <td>1.326597</td>\n",
       "      <td>0.220132</td>\n",
       "      <td>2.376341</td>\n",
       "    </tr>\n",
       "    <tr>\n",
       "      <th>1</th>\n",
       "      <td>0.624199</td>\n",
       "      <td>1.008297</td>\n",
       "      <td>132.456802</td>\n",
       "      <td>248.470401</td>\n",
       "      <td>0.153620</td>\n",
       "      <td>0.608667</td>\n",
       "      <td>151.672741</td>\n",
       "      <td>0.294587</td>\n",
       "      <td>1.012368</td>\n",
       "      <td>1.315363</td>\n",
       "      <td>0.247017</td>\n",
       "      <td>2.347455</td>\n",
       "    </tr>\n",
       "  </tbody>\n",
       "</table>\n",
       "</div>"
      ],
      "text/plain": [
       "        sex        cp      trtbps        chol       fbs   restecg    thalachh  \\\n",
       "0  0.577464  1.188744  131.856962  248.791567  0.154429  0.593567  151.759738   \n",
       "1  0.624199  1.008297  132.456802  248.470401  0.153620  0.608667  151.672741   \n",
       "\n",
       "       exng   oldpeak       slp       caa     thall  \n",
       "0  0.335406  1.012357  1.326597  0.220132  2.376341  \n",
       "1  0.294587  1.012368  1.315363  0.247017  2.347455  "
      ]
     },
     "execution_count": 589,
     "metadata": {},
     "output_type": "execute_result"
    }
   ],
   "source": [
    "for i in range(best_number):\n",
    "    clust_centers[i] = Revert(clust_centers[i], stats)\n",
    "clust_centers = pd.DataFrame(clust_centers, columns = var_names)\n",
    "clust_centers"
   ]
  },
  {
   "cell_type": "code",
   "execution_count": 590,
   "metadata": {},
   "outputs": [
    {
     "data": {
      "image/png": "[encoded data removed]",
      "text/plain": [
       "<Figure size 640x480 with 1 Axes>"
      ]
     },
     "metadata": {},
     "output_type": "display_data"
    }
   ],
   "source": [
    "plotMFs(mfs, 'chol')"
   ]
  },
  {
   "cell_type": "code",
   "execution_count": 591,
   "metadata": {},
   "outputs": [
    {
     "data": {
      "text/html": [
       "<div>\n",
       "<style scoped>\n",
       "    .dataframe tbody tr th:only-of-type {\n",
       "        vertical-align: middle;\n",
       "    }\n",
       "\n",
       "    .dataframe tbody tr th {\n",
       "        vertical-align: top;\n",
       "    }\n",
       "\n",
       "    .dataframe thead th {\n",
       "        text-align: right;\n",
       "    }\n",
       "</style>\n",
       "<table border=\"1\" class=\"dataframe\">\n",
       "  <thead>\n",
       "    <tr style=\"text-align: right;\">\n",
       "      <th></th>\n",
       "      <th>sex</th>\n",
       "      <th>cp</th>\n",
       "      <th>trtbps</th>\n",
       "      <th>chol</th>\n",
       "      <th>fbs</th>\n",
       "      <th>restecg</th>\n",
       "      <th>thalachh</th>\n",
       "      <th>exng</th>\n",
       "      <th>oldpeak</th>\n",
       "      <th>slp</th>\n",
       "      <th>caa</th>\n",
       "      <th>thall</th>\n",
       "      <th>constant</th>\n",
       "    </tr>\n",
       "  </thead>\n",
       "  <tbody>\n",
       "    <tr>\n",
       "      <th>0</th>\n",
       "      <td>-0.207873</td>\n",
       "      <td>0.075011</td>\n",
       "      <td>-0.001929</td>\n",
       "      <td>-0.000329</td>\n",
       "      <td>0.067655</td>\n",
       "      <td>0.114583</td>\n",
       "      <td>0.002402</td>\n",
       "      <td>-0.236889</td>\n",
       "      <td>-0.065276</td>\n",
       "      <td>0.097000</td>\n",
       "      <td>-0.099700</td>\n",
       "      <td>-0.144286</td>\n",
       "      <td>0.911036</td>\n",
       "    </tr>\n",
       "    <tr>\n",
       "      <th>1</th>\n",
       "      <td>-0.254219</td>\n",
       "      <td>0.119021</td>\n",
       "      <td>-0.003703</td>\n",
       "      <td>-0.000823</td>\n",
       "      <td>0.087766</td>\n",
       "      <td>-0.022600</td>\n",
       "      <td>0.003012</td>\n",
       "      <td>-0.047220</td>\n",
       "      <td>-0.044862</td>\n",
       "      <td>0.141871</td>\n",
       "      <td>-0.128701</td>\n",
       "      <td>-0.125891</td>\n",
       "      <td>1.021249</td>\n",
       "    </tr>\n",
       "  </tbody>\n",
       "</table>\n",
       "</div>"
      ],
      "text/plain": [
       "        sex        cp    trtbps      chol       fbs   restecg  thalachh  \\\n",
       "0 -0.207873  0.075011 -0.001929 -0.000329  0.067655  0.114583  0.002402   \n",
       "1 -0.254219  0.119021 -0.003703 -0.000823  0.087766 -0.022600  0.003012   \n",
       "\n",
       "       exng   oldpeak       slp       caa     thall  constant  \n",
       "0 -0.236889 -0.065276  0.097000 -0.099700 -0.144286  0.911036  \n",
       "1 -0.047220 -0.044862  0.141871 -0.128701 -0.125891  1.021249  "
      ]
     },
     "execution_count": 591,
     "metadata": {},
     "output_type": "execute_result"
    }
   ],
   "source": [
    "consequents"
   ]
  },
  {
   "cell_type": "code",
   "execution_count": 592,
   "metadata": {},
   "outputs": [],
   "source": [
    "def inference(X_test, mfs, consequents):\n",
    "    X = X_test.copy()\n",
    "    for i in range(best_number):\n",
    "        X[i] = Revert(X[i], stats)\n",
    "    y = [] # dim 1: weighted sum of the consequents for each cluster\n",
    "    dim = X.shape[1]\n",
    "    for i in range(X.shape[0]):\n",
    "        membership_list = [] # member ship values for a certain observation, dim 1: var, dim 2: clust\n",
    "        for k in range(dim):\n",
    "            temp_list = [] # membership values for a certain variable, dim 1: clust\n",
    "            for clust in range(best_number):\n",
    "                temp_list.append(mfs[var_names[k]][clust](X[i,k]))\n",
    "            membership_list.append(temp_list)\n",
    "        acumulated = 0\n",
    "        for h in range(best_number):\n",
    "            for j in range(dim):\n",
    "                acumulated += membership_list[j][h] * consequents.iloc[h,j] * X[i,j]\n",
    "            acumulated += consequents.iloc[h,-1]\n",
    "        y.append(acumulated)\n",
    "\n",
    "    return y # dim 1: observationm dim 2: clust"
   ]
  },
  {
   "cell_type": "code",
   "execution_count": 593,
   "metadata": {},
   "outputs": [
    {
     "data": {
      "text/plain": [
       "[-0.008029128508186378,\n",
       " 0.5813698248884991,\n",
       " 2.3980525451296524,\n",
       " 0.7470734644380297,\n",
       " 3.5274225645815553,\n",
       " 2.339445009558153,\n",
       " 1.958225847870518,\n",
       " 0.3635728696521363,\n",
       " 0.24178417253924211,\n",
       " 1.324300791979987,\n",
       " 1.751112433467014,\n",
       " 0.9912414299906346,\n",
       " 2.3005206198877755,\n",
       " 1.1126390949057874,\n",
       " 3.2798022158962032,\n",
       " 2.3295488017254447,\n",
       " 3.210390330112236,\n",
       " -0.04565739202839669,\n",
       " 0.23146971632324287,\n",
       " 0.43306047269934567,\n",
       " 1.7081559550567196,\n",
       " 0.5828236924137908,\n",
       " 1.6743443736061012,\n",
       " 2.80067758009888,\n",
       " 2.8416209978970564,\n",
       " 1.8404639497113977,\n",
       " 0.08731595069248144,\n",
       " 1.3951522149781286,\n",
       " 0.39265359210032735,\n",
       " 2.9540885844128266,\n",
       " 0.6281527098886559,\n",
       " 0.6719549793232298,\n",
       " 1.5231550827765101,\n",
       " 0.6981426404949621,\n",
       " 2.5890983698204524,\n",
       " 0.4298655291793295,\n",
       " 2.133406624651105,\n",
       " 2.5157978544074426,\n",
       " 1.5962117160894862,\n",
       " 1.9994966677429722,\n",
       " 1.871420734206466,\n",
       " 1.716942222509449,\n",
       " 2.584389042162909,\n",
       " 1.7349679570958592,\n",
       " 1.993645358980013,\n",
       " 2.388322322525184,\n",
       " 1.4867100950011096,\n",
       " 2.7618286414322095,\n",
       " 1.6888708575287237,\n",
       " 0.20922010287296655,\n",
       " 1.2346585230675717,\n",
       " -0.06436270060717852,\n",
       " 1.9389353267134573,\n",
       " 3.2635630733051295,\n",
       " 0.726088100490857,\n",
       " 1.0429059345918126,\n",
       " -0.14862561112328088,\n",
       " 2.5038780450845097,\n",
       " 1.1093000533779516,\n",
       " 1.6282111771432108,\n",
       " 1.7983354011304022]"
      ]
     },
     "execution_count": 593,
     "metadata": {},
     "output_type": "execute_result"
    }
   ],
   "source": [
    "inference(X_test, mfs, consequents)"
   ]
  }
 ],
 "metadata": {
  "kernelspec": {
   "display_name": "base",
   "language": "python",
   "name": "python3"
  },
  "language_info": {
   "codemirror_mode": {
    "name": "ipython",
    "version": 3
   },
   "file_extension": ".py",
   "mimetype": "text/x-python",
   "name": "python",
   "nbconvert_exporter": "python",
   "pygments_lexer": "ipython3",
   "version": "3.12.2"
  }
 },
 "nbformat": 4,
 "nbformat_minor": 2
}
